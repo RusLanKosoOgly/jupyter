{
 "cells": [
  {
   "cell_type": "code",
   "execution_count": 1,
   "id": "3bd4c2f5-bfba-4802-8185-323af894f877",
   "metadata": {},
   "outputs": [
    {
     "name": "stdout",
     "output_type": "stream",
     "text": [
      "Точность модели: 0.33\n",
      "\n",
      "Классификационный отчет:\n",
      "              precision    recall  f1-score   support\n",
      "\n",
      "           0       0.47      0.52      0.50       102\n",
      "           1       0.15      0.15      0.15        34\n",
      "           2       0.06      0.08      0.07        24\n",
      "           3       0.21      0.12      0.16        40\n",
      "\n",
      "    accuracy                           0.33       200\n",
      "   macro avg       0.22      0.22      0.22       200\n",
      "weighted avg       0.32      0.33      0.32       200\n",
      "\n"
     ]
    }
   ],
   "source": [
    "import random\n",
    "import pandas as pd\n",
    "from sklearn.model_selection import train_test_split\n",
    "from sklearn.ensemble import RandomForestClassifier\n",
    "from sklearn.metrics import accuracy_score, classification_report\n",
    "cities = ['Bishkek', 'Osh', 'Almaty', 'Nur-Sultan', 'Tashkent']\n",
    "vacation_prefs = ['sea', 'mountains', 'city']\n",
    "transport_prefs = ['plane', 'train', 'bus', 'car']\n",
    "target_cities = ['Antalya', 'Dubai', 'Paris', 'Bangkok', 'New York']\n",
    "data = []\n",
    "for _ in range(1000):\n",
    "    salary = random.randint(20000, 120000)\n",
    "    city = random.choice(cities)\n",
    "    age = random.randint(18, 65)\n",
    "    vacation_prefer = random.choice(vacation_prefs)\n",
    "    transport_prefer = random.choice(transport_prefs)\n",
    "    target = random.choice(target_cities)\n",
    "    data.append([salary, city, age, vacation_prefer, transport_prefer, target])\n",
    "\n",
    "columns = ['salary', 'city', 'age', 'vacation_prefer', 'transport_prefer', 'target']\n",
    "df = pd.DataFrame(data, columns=columns)\n",
    "\n",
    "df = pd.get_dummies(df, columns=['city', 'vacation_prefer', 'transport_prefer', 'target'], drop_first=True)\n",
    "\n",
    "X = df.drop(columns=[col for col in df.columns if col.startswith('target_')])\n",
    "y = df[[col for col in df.columns if col.startswith('target_')]].values.argmax(axis=1)\n",
    "\n",
    "X_train, X_test, y_train, y_test = train_test_split(X, y, test_size=0.2, random_state=42)\n",
    "\n",
    "\n",
    "model = RandomForestClassifier(random_state=42)\n",
    "model.fit(X_train, y_train)\n",
    "\n",
    "\n",
    "y_pred = model.predict(X_test)\n",
    "accuracy = accuracy_score(y_test, y_pred)\n",
    "print(f\"Точность модели: {accuracy:.2f}\")\n",
    "print(\"\\nКлассификационный отчет:\")\n",
    "print(classification_report(y_test, y_pred))\n",
    "\n"
   ]
  },
  {
   "cell_type": "code",
   "execution_count": 6,
   "id": "d21332d8-51c3-4780-a34d-899fa5086711",
   "metadata": {},
   "outputs": [
    {
     "name": "stdout",
     "output_type": "stream",
     "text": [
      "Сетка параметров:\n",
      "{'C': [0.001, 0.01, 0.1, 1, 10, 100], 'gamma': [0.001, 0.01, 0.1, 1, 10, 100]}\n",
      "Правильность на тестовом наборе: 0.51\n"
     ]
    }
   ],
   "source": [
    "param_grid = {\n",
    "    'C': [0.001, 0.01, 0.1, 1, 10, 100],  \n",
    "    'gamma': [0.001, 0.01, 0.1, 1, 10, 100] \n",
    "}\n",
    "print(\"Сетка параметров:\")\n",
    "print(param_grid)\n",
    "from sklearn.model_selection import GridSearchCV\n",
    "from sklearn.svm import SVC\n",
    "\n",
    "grid_search = GridSearchCV(SVC(), param_grid, cv=5)\n",
    "grid_search.fit(X_train, y_train)\n",
    "print(\"Правильность на тестовом наборе: {:.2f}\".format(grid_search.score(X_test, y_test)))"
   ]
  },
  {
   "cell_type": "code",
   "execution_count": 7,
   "id": "72a49c4a-2f42-478c-a1d4-41516f2d6ffb",
   "metadata": {},
   "outputs": [
    {
     "data": {
      "image/png": "[encoded data removed]",
      "text/plain": [
       "<Figure size 640x480 with 2 Axes>"
      ]
     },
     "metadata": {},
     "output_type": "display_data"
    }
   ],
   "source": [
    "import numpy as np\n",
    "import seaborn as sns\n",
    "import matplotlib.pyplot as plt\n",
    "results = pd.DataFrame(grid_search.cv_results_)\n",
    "scores = np.array(results.mean_test_score).reshape(6, 6)\n",
    "ax = sns.heatmap(scores, annot=True, xticklabels=param_grid['gamma'], yticklabels=param_grid['C'], cmap='hsv')\n",
    "ax.set(xlabel=\"gamma\", ylabel=\"C\")\n",
    "plt.show()"
   ]
  },
  {
   "cell_type": "code",
   "execution_count": 8,
   "id": "e880fefb-2e9c-4d8a-8f4d-a04ba7d930cc",
   "metadata": {},
   "outputs": [
    {
     "name": "stdout",
     "output_type": "stream",
     "text": [
      "List of grids:\n",
      "[{'kernel': ['rbf'], 'C': [0.001, 0.01, 0.1, 1, 10, 100], 'gamma': [0.001, 0.01, 0.1, 1, 10, 100]}, {'kernel': ['linear'], 'C': [0.001, 0.01, 0.1, 1, 10, 100]}]\n"
     ]
    }
   ],
   "source": [
    "param_grid = [\n",
    "    {'kernel': ['rbf'], 'C': [0.001, 0.01, 0.1, 1, 10, 100], 'gamma': [0.001, 0.01, 0.1, 1, 10, 100]},\n",
    "    {'kernel': ['linear'], 'C': [0.001, 0.01, 0.1, 1, 10, 100]}\n",
    "]\n",
    "\n",
    "print(\"List of grids:\\n{}\".format(param_grid))"
   ]
  },
  {
   "cell_type": "code",
   "execution_count": 9,
   "id": "8d663a20-5dbd-4f34-92c8-ee325755581f",
   "metadata": {},
   "outputs": [
    {
     "name": "stdout",
     "output_type": "stream",
     "text": [
      "Логистическая регрессия: точность = 0.52\n"
     ]
    },
    {
     "name": "stderr",
     "output_type": "stream",
     "text": [
      "C:\\Users\\User\\PycharmProjects\\pythonProject\\.venv\\Lib\\site-packages\\sklearn\\linear_model\\_logistic.py:469: ConvergenceWarning: lbfgs failed to converge (status=1):\n",
      "STOP: TOTAL NO. of ITERATIONS REACHED LIMIT.\n",
      "\n",
      "Increase the number of iterations (max_iter) or scale the data as shown in:\n",
      "    https://scikit-learn.org/stable/modules/preprocessing.html\n",
      "Please also refer to the documentation for alternative solver options:\n",
      "    https://scikit-learn.org/stable/modules/linear_model.html#logistic-regression\n",
      "  n_iter_i = _check_optimize_result(\n"
     ]
    }
   ],
   "source": [
    "from sklearn.linear_model import LogisticRegression\n",
    "log_reg = LogisticRegression(max_iter=10000, random_state=42)\n",
    "log_reg.fit(X_train, y_train)\n",
    "y_pred_log = log_reg.predict(X_test)\n",
    "accuracy_log = accuracy_score(y_test, y_pred_log)\n",
    "print(f\"Логистическая регрессия: точность = {accuracy_log:.2f}\")"
   ]
  },
  {
   "cell_type": "code",
   "execution_count": 10,
   "id": "fdb39f31-34b5-4cad-b4ed-084bb79b83b3",
   "metadata": {},
   "outputs": [],
   "source": [
    "from sklearn.preprocessing import StandardScaler\n",
    "scaler = StandardScaler()\n",
    "X_train_scaled = scaler.fit_transform(X_train)\n",
    "X_test_scaled = scaler.transform(X_test)"
   ]
  },
  {
   "cell_type": "code",
   "execution_count": 11,
   "id": "f012a249-1397-433b-87b1-a2bed05738da",
   "metadata": {},
   "outputs": [
    {
     "name": "stdout",
     "output_type": "stream",
     "text": [
      "Правильность на тестовом наборе: 0.51\n"
     ]
    }
   ],
   "source": [
    "grid_search = GridSearchCV(SVC(), param_grid, cv=5)\n",
    "grid_search.fit(X_train_scaled, y_train)\n",
    "print(\"Правильность на тестовом наборе: {:.2f}\".format(grid_search.score(X_test_scaled, y_test)))"
   ]
  },
  {
   "cell_type": "code",
   "execution_count": 12,
   "id": "e1b458ce-7e54-455b-a870-6ad5c7d6295d",
   "metadata": {},
   "outputs": [
    {
     "name": "stdout",
     "output_type": "stream",
     "text": [
      "Логистическая регрессия: точность = 0.51\n"
     ]
    }
   ],
   "source": [
    "log_reg = LogisticRegression(max_iter=10000, random_state=42)\n",
    "log_reg.fit(X_train_scaled, y_train)\n",
    "y_pred_log = log_reg.predict(X_test_scaled)\n",
    "accuracy_log = accuracy_score(y_test, y_pred_log)\n",
    "print(f\"Логистическая регрессия: точность = {accuracy_log:.2f}\")"
   ]
  },
  {
   "cell_type": "code",
   "execution_count": 13,
   "id": "0ed4180b-1e9b-46b7-a1b5-ee453b6c7ffa",
   "metadata": {},
   "outputs": [],
   "source": [
    "from sklearn.decomposition import PCA\n",
    "pca = PCA(n_components=10)\n",
    "X_train_pca = pca.fit_transform(X_train_scaled)\n",
    "X_test_pca = pca.transform(X_test_scaled)"
   ]
  },
  {
   "cell_type": "code",
   "execution_count": 14,
   "id": "13ffe705-4df1-41e2-8fe7-e92588b40c63",
   "metadata": {},
   "outputs": [
    {
     "name": "stdout",
     "output_type": "stream",
     "text": [
      "Правильность на тестовом наборе: 0.51\n"
     ]
    }
   ],
   "source": [
    "grid_search = GridSearchCV(SVC(), param_grid, cv=5)\n",
    "grid_search.fit(X_train_pca, y_train)\n",
    "print(\"Правильность на тестовом наборе: {:.2f}\".format(grid_search.score(X_test_pca, y_test)))"
   ]
  },
  {
   "cell_type": "code",
   "execution_count": 15,
   "id": "76972270-401a-43a0-a6ad-1b4bec43fe93",
   "metadata": {},
   "outputs": [
    {
     "name": "stdout",
     "output_type": "stream",
     "text": [
      "Логистическая регрессия: точность = 0.52\n"
     ]
    }
   ],
   "source": [
    "log_reg = LogisticRegression(max_iter=10000, random_state=42)\n",
    "log_reg.fit(X_train_pca, y_train)\n",
    "y_pred_log = log_reg.predict(X_test_pca)\n",
    "accuracy_log = accuracy_score(y_test, y_pred_log)\n",
    "print(f\"Логистическая регрессия: точность = {accuracy_log:.2f}\")"
   ]
  },
  {
   "cell_type": "code",
   "execution_count": 16,
   "id": "5d39c7bf-0721-4e7f-b9d8-b263411487b2",
   "metadata": {},
   "outputs": [],
   "source": [
    "from sklearn.preprocessing import PolynomialFeatures\n",
    "poly = PolynomialFeatures(degree=2, interaction_only=True)\n",
    "X_train_poly = poly.fit_transform(X_train_scaled)\n",
    "X_test_poly = poly.transform(X_test_scaled)"
   ]
  },
  {
   "cell_type": "code",
   "execution_count": 17,
   "id": "1068fb3f-a88f-4d93-a6cf-cc455ee26b92",
   "metadata": {},
   "outputs": [
    {
     "name": "stdout",
     "output_type": "stream",
     "text": [
      "Правильность на тестовом наборе: 0.51\n"
     ]
    }
   ],
   "source": [
    "grid_search = GridSearchCV(SVC(), param_grid, cv=5)\n",
    "grid_search.fit(X_train_poly, y_train)\n",
    "print(\"Правильность на тестовом наборе: {:.2f}\".format(grid_search.score(X_test_poly, y_test)))"
   ]
  },
  {
   "cell_type": "code",
   "execution_count": 18,
   "id": "6f6b4b1d-4ceb-4d1b-87b1-b8475aae534c",
   "metadata": {},
   "outputs": [
    {
     "name": "stdout",
     "output_type": "stream",
     "text": [
      "Логистическая регрессия: точность = 0.39\n"
     ]
    }
   ],
   "source": [
    "log_reg = LogisticRegression(max_iter=10000, random_state=42)\n",
    "log_reg.fit(X_train_poly, y_train)\n",
    "y_pred_log = log_reg.predict(X_test_poly)\n",
    "accuracy_log = accuracy_score(y_test, y_pred_log)\n",
    "print(f\"Логистическая регрессия: точность = {accuracy_log:.2f}\")"
   ]
  },
  {
   "cell_type": "code",
   "execution_count": 19,
   "id": "2f1ab944-84a8-46bd-9457-da6b04cf135e",
   "metadata": {},
   "outputs": [],
   "source": [
    "from sklearn.feature_selection import SelectFromModel\n",
    "selector = SelectFromModel(RandomForestClassifier(n_estimators=100, random_state=42))\n",
    "selector.fit(X_train_scaled, y_train)\n",
    "X_train_selected = selector.transform(X_train_scaled)\n",
    "X_test_selected = selector.transform(X_test_scaled)"
   ]
  },
  {
   "cell_type": "code",
   "execution_count": 20,
   "id": "8d185c6e-8262-4d05-94b2-5279e174b3d3",
   "metadata": {},
   "outputs": [
    {
     "name": "stdout",
     "output_type": "stream",
     "text": [
      "Правильность на тестовом наборе: 0.51\n"
     ]
    }
   ],
   "source": [
    "grid_search = GridSearchCV(SVC(), param_grid, cv=5)\n",
    "grid_search.fit(X_train_selected, y_train)\n",
    "print(\"Правильность на тестовом наборе: {:.2f}\".format(grid_search.score(X_test_selected, y_test)))"
   ]
  },
  {
   "cell_type": "code",
   "execution_count": null,
   "id": "ec3f899d-b411-4415-b667-ad39ca9efc52",
   "metadata": {},
   "outputs": [],
   "source": [
    "log_reg = LogisticRegression(max_iter=10000, random_state=42)\n",
    "log_reg.fit(X_train_selected, y_train)\n",
    "y_pred_log = log_reg.predict(X_test_selected)\n",
    "accuracy_log = accuracy_score(y_test, y_pred_log)\n",
    "print(f\"Логистическая регрессия: точность = {accuracy_log:.2f}\")\n",
    "print(\"Confusion matrix:\\n{}\".format(confusion_matrix(y_test, y_pred_log)))"
   ]
  },
  {
   "cell_type": "code",
   "execution_count": null,
   "id": "8e52a7fc-74e0-4d65-b3b4-5f82a76ad224",
   "metadata": {},
   "outputs": [],
   "source": []
  },
  {
   "cell_type": "code",
   "execution_count": null,
   "id": "06786145-048a-4cda-9923-f4ecb1691509",
   "metadata": {},
   "outputs": [],
   "source": [
    "grid_search = GridSearchCV(SVC(), param_grid, cv=5)\n",
    "grid_search.fit(X_train, y_train)\n",
    "print(\"Наилучшие значения параметров: {}\".format(grid_search.best_params_))\n",
    "print(\"Наилучшее значение кросс-валидационной правильности: {:.2f}\".format(grid_search.best_score_))"
   ]
  },
  {
   "cell_type": "code",
   "execution_count": null,
   "id": "1a69c7c5-4f6d-42cc-8dcc-a1e5cbf6b713",
   "metadata": {},
   "outputs": [],
   "source": []
  },
  {
   "cell_type": "code",
   "execution_count": null,
   "id": "eab813ee-5fc6-402a-a7c8-d2dae1df3e6c",
   "metadata": {},
   "outputs": [],
   "source": []
  },
  {
   "cell_type": "code",
   "execution_count": null,
   "id": "eaa24a36-56bb-4a14-add7-056ac48947f8",
   "metadata": {},
   "outputs": [],
   "source": []
  },
  {
   "cell_type": "markdown",
   "id": "5a2fc156-1dd4-4cd5-9fc7-88e8aded7597",
   "metadata": {},
   "source": [
    "Как видно из лабораторной работы никакие изменения и настройки не помогают улучшить точность, причем и логистическая регрессия, и случайный лес, и решетчатый поиск дают примерно одинаковые результаты, ответить на вопрос с чем это свяязанно можно довольно легко, дело в том, что мы сгенерировали дата сет случайно, поэтому у наших признаков абсолютно нет никакой связи с местом отдыха, то есть если бы взяли дата сет из реальной жизни, то признаки имели бы смысл, например более высокая зп - более дорогое место отдыха, и таким образом мы бы смогли предсказывать на новых данных, но в данном случае нет никакой закономерности"
   ]
  },
  {
   "cell_type": "code",
   "execution_count": null,
   "id": "cc2d1193-dde8-4397-b044-2690ff753668",
   "metadata": {},
   "outputs": [],
   "source": []
  }
 ],
 "metadata": {
  "kernelspec": {
   "display_name": "Python 3 (ipykernel)",
   "language": "python",
   "name": "python3"
  },
  "language_info": {
   "codemirror_mode": {
    "name": "ipython",
    "version": 3
   },
   "file_extension": ".py",
   "mimetype": "text/x-python",
   "name": "python",
   "nbconvert_exporter": "python",
   "pygments_lexer": "ipython3",
   "version": "3.12.3"
  }
 },
 "nbformat": 4,
 "nbformat_minor": 5
}
