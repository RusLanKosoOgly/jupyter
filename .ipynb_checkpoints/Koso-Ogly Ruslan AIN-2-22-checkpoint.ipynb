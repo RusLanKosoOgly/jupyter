{
 "cells": [
  {
   "cell_type": "code",
   "execution_count": 1,
   "id": "2b53fd6d-46a0-4d5a-8bf3-855b19d2f1df",
   "metadata": {},
   "outputs": [],
   "source": [
    "import numpy as np"
   ]
  },
  {
   "cell_type": "code",
   "execution_count": 2,
   "id": "da8cd257-072d-4344-96c3-371770c5330d",
   "metadata": {},
   "outputs": [
    {
     "name": "stdout",
     "output_type": "stream",
     "text": [
      "[  5  10  15  20  25  30  35  40  45  50  55  60  65  70  75  80  85  90\n",
      "  95 100]\n"
     ]
    }
   ],
   "source": [
    "my_array= np.arange(5, 105, 5)\n",
    "print(my_array)"
   ]
  },
  {
   "cell_type": "code",
   "execution_count": 3,
   "id": "d94836d9-03a7-48b7-b9b9-b1c0b8920dbd",
   "metadata": {},
   "outputs": [
    {
     "name": "stdout",
     "output_type": "stream",
     "text": [
      "[ 10  20  30  40  50  60  70  80  90 100]\n"
     ]
    }
   ],
   "source": [
    "my_array10=my_array[my_array%10==0]\n",
    "print(my_array10)"
   ]
  },
  {
   "cell_type": "code",
   "execution_count": 4,
   "id": "bdf1e712-e5ee-460c-967a-aa1d0029b129",
   "metadata": {},
   "outputs": [
    {
     "name": "stdout",
     "output_type": "stream",
     "text": [
      "[[  5  10]\n",
      " [ 15  20]\n",
      " [ 25  30]\n",
      " [ 35  40]\n",
      " [ 45  50]\n",
      " [ 55  60]\n",
      " [ 65  70]\n",
      " [ 75  80]\n",
      " [ 85  90]\n",
      " [ 95 100]]\n"
     ]
    }
   ],
   "source": [
    "my_array2 = my_array.reshape(-1,2)\n",
    "print(my_array2)"
   ]
  },
  {
   "cell_type": "code",
   "execution_count": 5,
   "id": "b347210a-0c61-4561-927a-0fd02039c238",
   "metadata": {},
   "outputs": [
    {
     "name": "stdout",
     "output_type": "stream",
     "text": [
      "[[ 0  5]\n",
      " [10 15]\n",
      " [20 25]\n",
      " [30 35]\n",
      " [40 45]\n",
      " [50 55]\n",
      " [60 65]\n",
      " [70 75]\n",
      " [80 85]\n",
      " [90 95]]\n"
     ]
    }
   ],
   "source": [
    "my_second_array = my_array2 - 5\n",
    "print(my_second_array)"
   ]
  },
  {
   "cell_type": "code",
   "execution_count": 6,
   "id": "cc45c386-ea15-41a8-a8cd-d00174022158",
   "metadata": {},
   "outputs": [
    {
     "name": "stdout",
     "output_type": "stream",
     "text": [
      "[[  5  10   0   5]\n",
      " [ 15  20  10  15]\n",
      " [ 25  30  20  25]\n",
      " [ 35  40  30  35]\n",
      " [ 45  50  40  45]\n",
      " [ 55  60  50  55]\n",
      " [ 65  70  60  65]\n",
      " [ 75  80  70  75]\n",
      " [ 85  90  80  85]\n",
      " [ 95 100  90  95]]\n"
     ]
    }
   ],
   "source": [
    "soed_array = np.hstack((my_array2, my_second_array))\n",
    "##soed_array=soed_array.T\n",
    "print(soed_array)"
   ]
  },
  {
   "cell_type": "code",
   "execution_count": 7,
   "id": "e61d73d4-ad69-4e08-9c83-a4f1e0db0fa5",
   "metadata": {},
   "outputs": [
    {
     "name": "stdout",
     "output_type": "stream",
     "text": [
      "[0.42857143 0.5        0.33333333 0.42857143]\n",
      "[0.42857143 0.5        0.33333333 0.42857143]\n"
     ]
    }
   ],
   "source": [
    "second_delit = soed_array[1]/soed_array[3]\n",
    "third_delit = soed_array[1]/soed_array[3]\n",
    "##second_delit= second_delit.T\n",
    "##third_delit = third_delit.T\n",
    "print(second_delit)\n",
    "print(third_delit)"
   ]
  },
  {
   "cell_type": "code",
   "execution_count": 8,
   "id": "e2fbb42d-b865-40c5-b60a-81b2f9d1ab3d",
   "metadata": {},
   "outputs": [
    {
     "name": "stdout",
     "output_type": "stream",
     "text": [
      "[[  5.          10.           0.           5.        ]\n",
      " [  0.42857143   0.5          0.33333333   0.42857143]\n",
      " [  0.42857143   0.5          0.33333333   0.42857143]\n",
      " [ 35.          40.          30.          35.        ]\n",
      " [ 45.          50.          40.          45.        ]\n",
      " [ 55.          60.          50.          55.        ]\n",
      " [ 65.          70.          60.          65.        ]\n",
      " [ 75.          80.          70.          75.        ]\n",
      " [ 85.          90.          80.          85.        ]\n",
      " [ 95.         100.          90.          95.        ]]\n"
     ]
    }
   ],
   "source": [
    "soed_array_2 = soed_array.copy().astype(float)\n",
    "soed_array_2[1]= second_delit\n",
    "soed_array_2[2]= third_delit\n",
    "print(soed_array_2)"
   ]
  },
  {
   "cell_type": "code",
   "execution_count": 9,
   "id": "8883b4b5-c878-499f-b076-b24f500208c0",
   "metadata": {},
   "outputs": [
    {
     "name": "stdout",
     "output_type": "stream",
     "text": [
      "[[  5.  10.   0.   5.]\n",
      " [ 35.  40.  30.  35.]\n",
      " [ 45.  50.  40.  45.]\n",
      " [ 55.  60.  50.  55.]\n",
      " [ 65.  70.  60.  65.]\n",
      " [ 75.  80.  70.  75.]\n",
      " [ 85.  90.  80.  85.]\n",
      " [ 95. 100.  90.  95.]]\n"
     ]
    }
   ],
   "source": [
    "odinakovye_rady = np.all(soed_array_2 == soed_array, axis=1)\n",
    "poluchen_odinak = soed_array_2[odinakovye_rady]  \n",
    "print(poluchen_odinak)"
   ]
  },
  {
   "cell_type": "code",
   "execution_count": 10,
   "id": "a16793ef-3103-47b6-bf7a-0bb7180ea78e",
   "metadata": {},
   "outputs": [
    {
     "name": "stdout",
     "output_type": "stream",
     "text": [
      "[[ 5. 10.  0.  5.]\n",
      " [35. 40. 30. 35.]\n",
      " [45. 50. 40. 45.]]\n"
     ]
    }
   ],
   "source": [
    "tri_stroki = poluchen_odinak[:3]\n",
    "print(tri_stroki)"
   ]
  },
  {
   "cell_type": "code",
   "execution_count": 11,
   "id": "76aa99cc-4836-4c22-8e03-c7b3261a4456",
   "metadata": {},
   "outputs": [
    {
     "name": "stdout",
     "output_type": "stream",
     "text": [
      "[[45. 50. 40. 45.]\n",
      " [35. 40. 30. 35.]\n",
      " [ 5. 10.  0.  5.]]\n"
     ]
    }
   ],
   "source": [
    "tri_stroki[[0,2]]=tri_stroki[[2,0]]\n",
    "print(tri_stroki)"
   ]
  },
  {
   "cell_type": "code",
   "execution_count": 12,
   "id": "3abd36c9-d477-40f4-9238-08b775a318d7",
   "metadata": {},
   "outputs": [
    {
     "name": "stdout",
     "output_type": "stream",
     "text": [
      "[45. 35.  5.]\n",
      "[45. 35.  5.]\n",
      "[3.53553391 3.53553391 3.53553391]\n"
     ]
    }
   ],
   "source": [
    "mean = np.mean(tri_stroki, axis = 1)\n",
    "median = np.median(tri_stroki, axis = 1)\n",
    "std = np.std(tri_stroki, axis = 1)\n",
    "print(mean)\n",
    "print(median)\n",
    "print(std)"
   ]
  },
  {
   "cell_type": "code",
   "execution_count": 13,
   "id": "a3f3e9c8-f8fd-47ad-840e-fa9f1106ff48",
   "metadata": {},
   "outputs": [
    {
     "name": "stdout",
     "output_type": "stream",
     "text": [
      "[[0.9   1.    0.8   0.9  ]\n",
      " [0.875 1.    0.75  0.875]\n",
      " [0.5   1.    0.    0.5  ]]\n"
     ]
    }
   ],
   "source": [
    "maximum = np.max(tri_stroki, axis=1 , keepdims=True)\n",
    "normalisacia = tri_stroki/maximum\n",
    "print(normalisacia)"
   ]
  },
  {
   "cell_type": "code",
   "execution_count": 14,
   "id": "74736e4f-431f-446f-9320-fbc04128a4ad",
   "metadata": {},
   "outputs": [],
   "source": [
    "import pandas as pd"
   ]
  },
  {
   "cell_type": "code",
   "execution_count": 15,
   "id": "592e2180-e609-4955-8871-007aa1f28fbc",
   "metadata": {},
   "outputs": [
    {
     "name": "stdout",
     "output_type": "stream",
     "text": [
      "          Country  Year Total Population Urban Population Rural Population  \\\n",
      "0     Afghanistan  2017                -                -                -   \n",
      "1     Afghanistan  2018       36,686,784        9,353,296       27,333,488   \n",
      "2     Afghanistan  2019       37,769,499        9,727,157       28,042,342   \n",
      "3     Afghanistan  2020       38,972,230       10,142,913       28,829,317   \n",
      "4     Afghanistan  2021       40,099,462       10,551,772       29,547,690   \n",
      "...           ...   ...              ...              ...              ...   \n",
      "1068     Zimbabwe  2017                -                -                -   \n",
      "1069     Zimbabwe  2018       15,052,184        4,848,158       10,204,026   \n",
      "1070     Zimbabwe  2019       15,354,608        4,945,719       10,408,889   \n",
      "1071     Zimbabwe  2020       15,669,666        5,052,214       10,617,452   \n",
      "1072     Zimbabwe  2021       15,993,524        5,166,388       10,827,136   \n",
      "\n",
      "     Population Density Life Expectancy  Birth Rate  Death Rate  \\\n",
      "0                    55            63.0      37.342       7.027   \n",
      "1                    56            63.0      36.927       6.981   \n",
      "2                    58            64.0      36.466       6.791   \n",
      "3                    60            63.0      36.051       7.113   \n",
      "4                     -            62.0      35.842       7.344   \n",
      "...                 ...             ...         ...         ...   \n",
      "1068                 38            61.0      32.516       8.266   \n",
      "1069                 39            61.0      32.074       7.972   \n",
      "1070                 40            61.0      31.518       8.043   \n",
      "1071                 41            61.0      31.009       8.132   \n",
      "1072                  -            59.0      30.537       9.057   \n",
      "\n",
      "     Fertility Rate Infant Mortality Rate Growth Rate  \n",
      "0             5.129                  49.4           -  \n",
      "1             5.002                  47.8         3.0  \n",
      "2              4.87                  46.3         3.0  \n",
      "3              4.75                  44.8         3.0  \n",
      "4             4.643                  43.4         3.0  \n",
      "...             ...                   ...         ...  \n",
      "1068          3.706                  39.5           -  \n",
      "1069          3.659                  38.0         2.0  \n",
      "1070          3.599                  37.1         2.0  \n",
      "1071          3.545                  36.6         2.0  \n",
      "1072          3.491                  35.7         2.0  \n",
      "\n",
      "[1073 rows x 12 columns]\n"
     ]
    }
   ],
   "source": [
    "file_path = r'C:\\Users\\User\\Documents\\kk\\Global Population Trends(2016-2022).csv'\n",
    "global1 = pd.read_csv(file_path)\n",
    "print(global1)"
   ]
  },
  {
   "cell_type": "code",
   "execution_count": 16,
   "id": "a8096970-1706-453d-aa53-57d9772ecdff",
   "metadata": {},
   "outputs": [
    {
     "name": "stdout",
     "output_type": "stream",
     "text": [
      "Index(['Country', 'Year', 'Total Population', 'Urban Population',\n",
      "       'Rural Population', 'Population Density', 'Life Expectancy',\n",
      "       'Birth Rate', 'Death Rate', 'Fertility Rate', 'Infant Mortality Rate',\n",
      "       'Growth Rate'],\n",
      "      dtype='object')\n"
     ]
    }
   ],
   "source": [
    "print(global1.columns)"
   ]
  },
  {
   "cell_type": "code",
   "execution_count": 17,
   "id": "fddd0004-3600-491e-9b83-57567f838eca",
   "metadata": {},
   "outputs": [
    {
     "data": {
      "text/plain": [
       "(1073, 12)"
      ]
     },
     "execution_count": 17,
     "metadata": {},
     "output_type": "execute_result"
    }
   ],
   "source": [
    "global1.shape"
   ]
  },
  {
   "cell_type": "code",
   "execution_count": 18,
   "id": "00caa828-6008-47fd-b5a7-9296e8577c20",
   "metadata": {},
   "outputs": [
    {
     "name": "stdout",
     "output_type": "stream",
     "text": [
      "Index(['Country', 'Year', 'Total Population', 'Urban Population',\n",
      "       'Rural Population', 'Population Density', 'Life Expectancy',\n",
      "       'Birth Rate', 'Death Rate', 'Fertility Rate', 'Infant Mortality Rate',\n",
      "       'Growth Rate'],\n",
      "      dtype='object')\n"
     ]
    }
   ],
   "source": [
    "print(global1.columns)"
   ]
  },
  {
   "cell_type": "code",
   "execution_count": 19,
   "id": "24e799ab-591c-46dc-92fd-092932aff3c1",
   "metadata": {},
   "outputs": [
    {
     "name": "stdout",
     "output_type": "stream",
     "text": [
      "Index(['Country', 'Year', 'Total Population', 'Urban Population',\n",
      "       'Rural Population', 'Population Density', 'Life Expectancy',\n",
      "       'Birth Rate', 'Death Rate', 'Fertility Rate', 'Infant Mortality Rate',\n",
      "       'Growth Rate'],\n",
      "      dtype='object')\n"
     ]
    }
   ],
   "source": [
    "print(global1.columns)"
   ]
  },
  {
   "cell_type": "code",
   "execution_count": 20,
   "id": "210fe08d-f9a0-439a-922f-eeecf3de2538",
   "metadata": {},
   "outputs": [
    {
     "name": "stdout",
     "output_type": "stream",
     "text": [
      "       Country  Year Total Population Urban Population Rural Population  \\\n",
      "0  Afghanistan  2017                -                -                -   \n",
      "1  Afghanistan  2018       36,686,784        9,353,296       27,333,488   \n",
      "2  Afghanistan  2019       37,769,499        9,727,157       28,042,342   \n",
      "\n",
      "  Population Density Life Expectancy  Birth Rate  Death Rate Fertility Rate  \\\n",
      "0                 55            63.0      37.342       7.027          5.129   \n",
      "1                 56            63.0      36.927       6.981          5.002   \n",
      "2                 58            64.0      36.466       6.791           4.87   \n",
      "\n",
      "  Infant Mortality Rate Growth Rate  \n",
      "0                  49.4           -  \n",
      "1                  47.8         3.0  \n",
      "2                  46.3         3.0  \n"
     ]
    }
   ],
   "source": [
    "print(global1.head(3))"
   ]
  },
  {
   "cell_type": "code",
   "execution_count": 21,
   "id": "596ee0df-8b99-4316-839b-04214cc07689",
   "metadata": {},
   "outputs": [
    {
     "name": "stdout",
     "output_type": "stream",
     "text": [
      "<class 'pandas.core.frame.DataFrame'>\n",
      "RangeIndex: 1073 entries, 0 to 1072\n",
      "Data columns (total 12 columns):\n",
      " #   Column                 Non-Null Count  Dtype  \n",
      "---  ------                 --------------  -----  \n",
      " 0   Country                1073 non-null   object \n",
      " 1   Year                   1073 non-null   int64  \n",
      " 2   Total Population       1073 non-null   object \n",
      " 3   Urban Population       1073 non-null   object \n",
      " 4   Rural Population       1073 non-null   object \n",
      " 5   Population Density     1073 non-null   object \n",
      " 6   Life Expectancy        1073 non-null   object \n",
      " 7   Birth Rate             1073 non-null   float64\n",
      " 8   Death Rate             1073 non-null   float64\n",
      " 9   Fertility Rate         1073 non-null   object \n",
      " 10  Infant Mortality Rate  1073 non-null   object \n",
      " 11  Growth Rate            1073 non-null   object \n",
      "dtypes: float64(2), int64(1), object(9)\n",
      "memory usage: 100.7+ KB\n"
     ]
    }
   ],
   "source": [
    "global1.info()"
   ]
  },
  {
   "cell_type": "code",
   "execution_count": 22,
   "id": "fb1518d5-8f33-491e-869c-0374ae91158a",
   "metadata": {},
   "outputs": [
    {
     "name": "stdout",
     "output_type": "stream",
     "text": [
      "          Country  Year Total Population Urban Population Rural Population  \\\n",
      "1     Afghanistan  2018       36,686,784        9,353,296       27,333,488   \n",
      "2     Afghanistan  2019       37,769,499        9,727,157       28,042,342   \n",
      "3     Afghanistan  2020       38,972,230       10,142,913       28,829,317   \n",
      "4     Afghanistan  2021       40,099,462       10,551,772       29,547,690   \n",
      "6         Albania  2018        2,866,376        1,728,969        1,137,407   \n",
      "...           ...   ...              ...              ...              ...   \n",
      "1067       Zambia  2021       19,473,125        8,800,295       10,672,830   \n",
      "1069     Zimbabwe  2018       15,052,184        4,848,158       10,204,026   \n",
      "1070     Zimbabwe  2019       15,354,608        4,945,719       10,408,889   \n",
      "1071     Zimbabwe  2020       15,669,666        5,052,214       10,617,452   \n",
      "1072     Zimbabwe  2021       15,993,524        5,166,388       10,827,136   \n",
      "\n",
      "     Population Density Life Expectancy  Birth Rate  Death Rate  \\\n",
      "1                    56            63.0      36.927       6.981   \n",
      "2                    58            64.0      36.466       6.791   \n",
      "3                    60            63.0      36.051       7.113   \n",
      "4                     -            62.0      35.842       7.344   \n",
      "6                   105            79.0      10.517       8.308   \n",
      "...                 ...             ...         ...         ...   \n",
      "1067                  -            61.0      34.511       6.973   \n",
      "1069                 39            61.0      32.074       7.972   \n",
      "1070                 40            61.0      31.518       8.043   \n",
      "1071                 41            61.0      31.009       8.132   \n",
      "1072                  -            59.0      30.537       9.057   \n",
      "\n",
      "     Fertility Rate Infant Mortality Rate Growth Rate  \n",
      "1             5.002                  47.8         3.0  \n",
      "2              4.87                  46.3         3.0  \n",
      "3              4.75                  44.8         3.0  \n",
      "4             4.643                  43.4         3.0  \n",
      "6              1.44                   8.3         0.0  \n",
      "...             ...                   ...         ...  \n",
      "1067          4.308                  40.2         3.0  \n",
      "1069          3.659                  38.0         2.0  \n",
      "1070          3.599                  37.1         2.0  \n",
      "1071          3.545                  36.6         2.0  \n",
      "1072          3.491                  35.7         2.0  \n",
      "\n",
      "[864 rows x 12 columns]\n"
     ]
    }
   ],
   "source": [
    "globalosnova = global1.copy()\n",
    "global1 = global1[global1['Total Population'] != '-']\n",
    "print(global1)"
   ]
  },
  {
   "cell_type": "code",
   "execution_count": 23,
   "id": "6d007da7-39ce-421e-bf25-67f1e0ba5162",
   "metadata": {},
   "outputs": [
    {
     "name": "stdout",
     "output_type": "stream",
     "text": [
      "              Year  Birth Rate  Death Rate\n",
      "count   864.000000  864.000000  864.000000\n",
      "mean   2019.500000   18.548384    7.889123\n",
      "std       1.118682    9.887518    3.041385\n",
      "min    2018.000000    0.000000    0.000000\n",
      "25%    2018.750000   10.500000    6.116500\n",
      "50%    2019.500000   15.628500    7.453500\n",
      "75%    2020.250000   25.565000    9.385000\n",
      "max    2021.000000   46.127000   21.700000\n",
      "Country                    Zimbabwe\n",
      "Year                           2021\n",
      "Total Population             99,258\n",
      "Urban Population         99,876,265\n",
      "Rural Population            998,397\n",
      "Population Density               99\n",
      "Life Expectancy                85.0\n",
      "Birth Rate                   46.127\n",
      "Death Rate                     21.7\n",
      "Fertility Rate                7.023\n",
      "Infant Mortality Rate           9.9\n",
      "Growth Rate                     5.0\n",
      "dtype: object\n",
      "Country                  Afghanistan\n",
      "Year                            2018\n",
      "Total Population           1,057,198\n",
      "Urban Population                   -\n",
      "Rural Population                   -\n",
      "Population Density                 -\n",
      "Life Expectancy                    -\n",
      "Birth Rate                       0.0\n",
      "Death Rate                       0.0\n",
      "Fertility Rate                     -\n",
      "Infant Mortality Rate              -\n",
      "Growth Rate                     -1.0\n",
      "dtype: object\n"
     ]
    }
   ],
   "source": [
    "print(global1.describe())\n",
    "print(global1.max())\n",
    "print(global1.min())"
   ]
  },
  {
   "cell_type": "code",
   "execution_count": 24,
   "id": "677c2a1e-21bd-4f35-98ef-f50a63bff19a",
   "metadata": {},
   "outputs": [
    {
     "name": "stdout",
     "output_type": "stream",
     "text": [
      "2021\n",
      "count    864.000000\n",
      "mean      18.548384\n",
      "std        9.887518\n",
      "min        0.000000\n",
      "25%       10.500000\n",
      "50%       15.628500\n",
      "75%       25.565000\n",
      "max       46.127000\n",
      "Name: Birth Rate, dtype: float64\n",
      "1,057,198\n"
     ]
    }
   ],
   "source": [
    "print(global1[\"Year\"].max())\n",
    "print (global1[\"Birth Rate\"].describe())\n",
    "print(global1[\"Total Population\"].min())"
   ]
  },
  {
   "cell_type": "code",
   "execution_count": 25,
   "id": "eaf66751-06d6-4571-8df6-3de241f81785",
   "metadata": {},
   "outputs": [
    {
     "name": "stdout",
     "output_type": "stream",
     "text": [
      "       Country  Year Total Population Urban Population Rural Population  \\\n",
      "1  Afghanistan  2018       36,686,784        9,353,296       27,333,488   \n",
      "2  Afghanistan  2019       37,769,499        9,727,157       28,042,342   \n",
      "3  Afghanistan  2020       38,972,230       10,142,913       28,829,317   \n",
      "4  Afghanistan  2021       40,099,462       10,551,772       29,547,690   \n",
      "6      Albania  2018        2,866,376        1,728,969        1,137,407   \n",
      "\n",
      "  Population Density Life Expectancy  Birth Rate  Death Rate Fertility Rate  \\\n",
      "1                 56            63.0      36.927       6.981          5.002   \n",
      "2                 58            64.0      36.466       6.791           4.87   \n",
      "3                 60            63.0      36.051       7.113           4.75   \n",
      "4                  -            62.0      35.842       7.344          4.643   \n",
      "6                105            79.0      10.517       8.308           1.44   \n",
      "\n",
      "  Infant Mortality Rate Growth Rate  \n",
      "1                  47.8         3.0  \n",
      "2                  46.3         3.0  \n",
      "3                  44.8         3.0  \n",
      "4                  43.4         3.0  \n",
      "6                   8.3         0.0  \n"
     ]
    }
   ],
   "source": [
    "sort_country = global1.sort_values(by=['Country'], ascending=[True])\n",
    "print(sort_country.head())"
   ]
  },
  {
   "cell_type": "code",
   "execution_count": 26,
   "id": "90c830e0-e484-428f-8994-1891c45ca311",
   "metadata": {},
   "outputs": [
    {
     "name": "stdout",
     "output_type": "stream",
     "text": [
      "         Country  Year Total Population Urban Population Rural Population  \\\n",
      "832   Seychelles  2021           99,258           57,542           41,716   \n",
      "831   Seychelles  2020           98,462           56,661           41,801   \n",
      "830   Seychelles  2019           97,625           55,762           41,863   \n",
      "1047     Vietnam  2021       97,468,029       37,088,534       60,379,495   \n",
      "829   Seychelles  2018           96,762           54,855           41,907   \n",
      "\n",
      "     Population Density Life Expectancy  Birth Rate  Death Rate  \\\n",
      "832                   -            73.0      16.800       9.300   \n",
      "831                 214            77.0      15.800       6.800   \n",
      "830                 212            74.0      16.400       8.100   \n",
      "1047                  -            74.0      15.008       7.317   \n",
      "829                 210            73.0      17.100       8.400   \n",
      "\n",
      "     Fertility Rate Infant Mortality Rate Growth Rate  \n",
      "832            2.46                  12.0         1.0  \n",
      "831            2.29                  12.2         1.0  \n",
      "830            2.36                  12.4         1.0  \n",
      "1047          1.944                  16.4         1.0  \n",
      "829            2.41                  12.5         1.0  \n"
     ]
    }
   ],
   "source": [
    "sort_population = global1.sort_values(by=['Total Population'], ascending=[False])\n",
    "print(sort_population.head())"
   ]
  },
  {
   "cell_type": "code",
   "execution_count": 27,
   "id": "cf14b6a1-7c27-48a9-8ac2-d4d6f4271de4",
   "metadata": {},
   "outputs": [
    {
     "name": "stdout",
     "output_type": "stream",
     "text": [
      "       Country  Year Total Population Urban Population Rural Population  \\\n",
      "1069  Zimbabwe  2018       15,052,184        4,848,158       10,204,026   \n",
      "1070  Zimbabwe  2019       15,354,608        4,945,719       10,408,889   \n",
      "1071  Zimbabwe  2020       15,669,666        5,052,214       10,617,452   \n",
      "1072  Zimbabwe  2021       15,993,524        5,166,388       10,827,136   \n",
      "1064    Zambia  2018       17,835,893        7,762,359       10,073,534   \n",
      "\n",
      "     Population Density Life Expectancy  Birth Rate  Death Rate  \\\n",
      "1069                 39            61.0      32.074       7.972   \n",
      "1070                 40            61.0      31.518       8.043   \n",
      "1071                 41            61.0      31.009       8.132   \n",
      "1072                  -            59.0      30.537       9.057   \n",
      "1064                 24            62.0      36.040       6.748   \n",
      "\n",
      "     Fertility Rate Infant Mortality Rate Growth Rate  \n",
      "1069          3.659                  38.0         2.0  \n",
      "1070          3.599                  37.1         2.0  \n",
      "1071          3.545                  36.6         2.0  \n",
      "1072          3.491                  35.7         2.0  \n",
      "1064          4.536                  43.6         3.0  \n"
     ]
    }
   ],
   "source": [
    "sort_country_urban  =  global1.sort_values(by=['Country','Urban Population'], ascending=[False, True])\n",
    "print(sort_country_urban.head())"
   ]
  },
  {
   "cell_type": "code",
   "execution_count": 28,
   "id": "1af5ebcd-097e-40a5-8704-511f415af768",
   "metadata": {},
   "outputs": [
    {
     "name": "stdout",
     "output_type": "stream",
     "text": [
      "(864, 12)\n",
      "205\n",
      "страна с наибольшей популяцией China\n",
      "994\n",
      "страна с наименьшей популяцией Tuvalu\n"
     ]
    }
   ],
   "source": [
    "global2 = global1.copy()\n",
    "print(global1.shape)\n",
    "global2[\"Total Population\"] = global2[\"Total Population\"].str.replace(',', \"\").astype(float)\n",
    "maximum_pop = global2[\"Total Population\"].idxmax()\n",
    "print(maximum_pop)\n",
    "print('страна с наибольшей популяцией', globalosnova['Country'].iloc[maximum_pop])\n",
    "min_pop = global2[\"Total Population\"].idxmin()\n",
    "print(min_pop)\n",
    "print('страна с наименьшей популяцией', globalosnova['Country'].iloc[min_pop])"
   ]
  },
  {
   "cell_type": "code",
   "execution_count": 29,
   "id": "4f686e39-75d2-4026-8afe-e4d207de707f",
   "metadata": {
    "scrolled": true
   },
   "outputs": [],
   "source": [
    "global1.to_excel(r'C:\\Users\\User\\Documents\\kk\\lab2.xlsx', sheet_name=\"global\")"
   ]
  },
  {
   "cell_type": "code",
   "execution_count": null,
   "id": "9230684d-6f90-4570-8eeb-03c82fc09f99",
   "metadata": {},
   "outputs": [],
   "source": []
  },
  {
   "cell_type": "code",
   "execution_count": null,
   "id": "0593e956-ee45-4798-8da0-c6635eb1f88a",
   "metadata": {},
   "outputs": [],
   "source": []
  }
 ],
 "metadata": {
  "kernelspec": {
   "display_name": "Python 3 (ipykernel)",
   "language": "python",
   "name": "python3"
  },
  "language_info": {
   "codemirror_mode": {
    "name": "ipython",
    "version": 3
   },
   "file_extension": ".py",
   "mimetype": "text/x-python",
   "name": "python",
   "nbconvert_exporter": "python",
   "pygments_lexer": "ipython3",
   "version": "3.12.3"
  }
 },
 "nbformat": 4,
 "nbformat_minor": 5
}
