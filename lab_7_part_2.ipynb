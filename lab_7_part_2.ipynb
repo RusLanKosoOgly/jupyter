{
 "cells": [
  {
   "cell_type": "code",
   "execution_count": 2,
   "id": "ec7af591-5e70-4742-a4ac-7e59824c98d2",
   "metadata": {},
   "outputs": [],
   "source": [
    "import csv\n",
    "\n",
    "reviews = [\n",
    "    {\"category\": \"Страшный фильм\", \"review\": \"Этот фильм держал меня в напряжении до самого конца. Постоянно казалось, что что-то жуткое произойдёт прямо сейчас. Музыка и звуки создавали настолько мрачную атмосферу, что я буквально не мог оторваться от экрана.\"},\n",
    "    {\"category\": \"Страшный фильм\", \"review\": \"Фильм был настолько пугающим, что я даже несколько раз отворачивался от экрана. Сцены с монстрами выглядели настолько реалистично, что казались кошмаром наяву.\"},\n",
    "    {\"category\": \"Страшный фильм\", \"review\": \"Каждая сцена была пропитана ужасом, особенно моменты, когда главный герой оставался один в доме. Это был один из тех фильмов, которые потом не дают заснуть, заставляя прокручивать страшные моменты в голове снова и снова.\"},\n",
    "    {\"category\": \"Страшный фильм\", \"review\": \"Я давно не чувствовал такого страха от фильма. Казалось, что режиссёр знает, как именно напугать зрителя, используя простые, но эффективные приёмы. Этот фильм – шедевр жанра ужасов\"},\n",
    "    {\"category\": \"Страшный фильм\", \"review\": \"Актёры справились великолепно. Они так реалистично передали свои эмоции страха, что мне стало по-настоящему страшно. Сюжет тоже был отлично продуман, заставляя постоянно ожидать неожиданного.\"},\n",
    "    {\"category\": \"Страшный фильм\", \"review\": \"Музыка, свет, декорации – всё это создавало настолько жуткую атмосферу, что я чувствовал себя участником происходящих событий. Этот фильм явно останется в памяти надолго.\"},\n",
    "    {\"category\": \"Страшный фильм\", \"review\": \"Режиссура просто великолепна. Каждый момент фильма будто нарочно выстроен так, чтобы удерживать зрителя в постоянном напряжении. Это один из лучших фильмов ужасов, которые я когда-либо смотрел\"},\n",
    "    {\"category\": \"Страшный фильм\", \"review\": \"Я всегда считал себя хладнокровным, но этот фильм доказал обратное. Несколько сцен заставили меня вскрикнуть от неожиданности. Это было потрясающе.\"},\n",
    "    {\"category\": \"Страшный фильм\", \"review\": \"Весь фильм я смотрел с замиранием сердца, переживая за судьбу персонажей. Особенно запомнился момент в лесу – было настолько жутко, что я буквально замер от страха.\"},\n",
    "    {\"category\": \"Страшный фильм\", \"review\": \"Этот фильм – пример того, как с минимальным количеством эффектов можно создать настоящий ужас. История, персонажи, диалоги – всё было на высоте.\"},\n",
    "    {\"category\": \"Фильм не страшный\", \"review\": \"Я ожидал, что фильм будет пугать, но вместо этого получил скучную историю. Все страшные моменты были предсказуемыми, а актёры выглядели так, будто сами не верят в происходящее.\"},\n",
    "    {\"category\": \"Фильм не страшный\", \"review\": \"Ни одна сцена не заставила меня вздрогнуть или почувствовать хотя бы каплю напряжения. Фильм скорее напоминал комедию с глупыми монстрами, чем ужасы.\"},\n",
    "    {\"category\": \"Фильм не страшный\", \"review\": \"Сюжет был настолько затянутым, что я несколько раз отвлекался на телефон. Если бы не название, я бы даже не понял, что смотрю ужасы.\"},\n",
    "    {\"category\": \"Фильм не страшный\", \"review\": \"Все клише жанра в одном фильме: тёмные коридоры, странные звуки, персонажи, которые принимают нелепые решения. Вместо страха это вызывает только скуку.\"},\n",
    "    {\"category\": \"Фильм не страшный\", \"review\": \"Актёры старались, но сценарий был настолько слабым, что даже их игра не спасала ситуацию. Весь фильм смотрелся как дешевый подражатель популярных хорроров.\"},\n",
    "    {\"category\": \"Фильм не страшный\", \"review\": \"Фильм совершенно не произвёл впечатления. Сюжет линейный, герои не вызывают никакой симпатии, а ужасы кажутся натянутыми.\"},\n",
    "    {\"category\": \"Фильм не страшный\", \"review\": \"Я ждал чего-то действительно страшного, но, к сожалению, не получил этого. Фильм оказался посредственным и неинтересным, с пустыми диалогами и отсутствием логики.\"},\n",
    "    {\"category\": \"Фильм не страшный\", \"review\": \"Весь фильм я пытался найти хоть что-то, что могло бы напугать, но так и не нашёл. Это просто скучная история с банальными поворотами сюжета.\"},\n",
    "    {\"category\": \"Фильм не страшный\", \"review\": \"Смотреть фильм было мучительно. В нём не было ни капли оригинальности, а так называемые страшные сцены вызывали только смех.\"},\n",
    "    {\"category\": \"Фильм не страшный\", \"review\": \"Это был самый безликий фильм ужасов, который я когда-либо видел. Я даже не понял, зачем его снимали. Страха – ноль, впечатлений – ноль.\"},\n",
    "    \n",
    "]\n",
    "with open(\"reviews.csv\", mode=\"w\", encoding=\"utf-8\", newline=\"\") as file:\n",
    "    writer = csv.DictWriter(file, fieldnames=[\"category\", \"review\"])\n",
    "    writer.writeheader()\n",
    "    writer.writerows(reviews)\n",
    "reviews = []\n",
    "with open(\"reviews.csv\", mode=\"r\", encoding=\"utf-8\") as file:\n",
    "    reader = csv.DictReader(file)\n",
    "    for row in reader:\n",
    "        reviews.append(row)\n",
    "    "
   ]
  },
  {
   "cell_type": "code",
   "execution_count": 3,
   "id": "55264a61-4bbf-4254-b4c5-c1250925e52e",
   "metadata": {},
   "outputs": [
    {
     "name": "stdout",
     "output_type": "stream",
     "text": [
      "Категория: Страшный фильм\n",
      "Отзыв: Этот фильм держал меня в напряжении до самого конца. Постоянно казалось, что что-то жуткое произойдёт прямо сейчас. Музыка и звуки создавали настолько мрачную атмосферу, что я буквально не мог оторваться от экрана.\n",
      "\n",
      "Категория: Страшный фильм\n",
      "Отзыв: Фильм был настолько пугающим, что я даже несколько раз отворачивался от экрана. Сцены с монстрами выглядели настолько реалистично, что казались кошмаром наяву.\n",
      "\n",
      "Категория: Страшный фильм\n",
      "Отзыв: Каждая сцена была пропитана ужасом, особенно моменты, когда главный герой оставался один в доме. Это был один из тех фильмов, которые потом не дают заснуть, заставляя прокручивать страшные моменты в голове снова и снова.\n",
      "\n",
      "Категория: Страшный фильм\n",
      "Отзыв: Я давно не чувствовал такого страха от фильма. Казалось, что режиссёр знает, как именно напугать зрителя, используя простые, но эффективные приёмы. Этот фильм – шедевр жанра ужасов\n",
      "\n",
      "Категория: Страшный фильм\n",
      "Отзыв: Актёры справились великолепно. Они так реалистично передали свои эмоции страха, что мне стало по-настоящему страшно. Сюжет тоже был отлично продуман, заставляя постоянно ожидать неожиданного.\n",
      "\n"
     ]
    }
   ],
   "source": [
    "for review in reviews[:5]:  \n",
    "    print(f\"Категория: {review['category']}\")\n",
    "    print(f\"Отзыв: {review['review']}\\n\")"
   ]
  },
  {
   "cell_type": "code",
   "execution_count": 4,
   "id": "93cb0146-df29-4767-825b-3c2ceaf377ee",
   "metadata": {},
   "outputs": [],
   "source": [
    "import csv\n",
    "from sklearn.model_selection import train_test_split\n",
    "reviews = []\n",
    "with open(\"reviews.csv\", mode=\"r\", encoding=\"utf-8\") as file:\n",
    "    reader = csv.DictReader(file)\n",
    "    for row in reader:\n",
    "        reviews.append(row)\n",
    "texts = [review[\"review\"] for review in reviews]\n",
    "categories = [review[\"category\"] for review in reviews]\n",
    "texts_train, texts_test, categories_train, categories_test = train_test_split(\n",
    "    texts, categories, test_size=0.2, random_state=42\n",
    ")\n",
    "additional_test_reviews = [\n",
    "    {\"category\": \"Страшный фильм\", \"review\": \"Этот фильм был настолько пугающим, что я не мог смотреть его в одиночестве. Каждая сцена добавляла напряжения, и я чувствовал себя героем этой страшной истории.\"},\n",
    "    {\"category\": \"Страшный фильм\", \"review\": \"Прекрасная работа со светом и тенями! Мрачные коридоры, зловещие шорохи — всё это сделало фильм невероятно страшным и захватывающим.\"},\n",
    "    {\"category\": \"Страшный фильм\", \"review\": \"Сюжет развивался постепенно, создавая атмосферу тревоги. К финалу я просто не мог отвести взгляд — страх и восторг переполняли меня одновременно.\"},\n",
    "    {\"category\": \"Страшный фильм\", \"review\": \"Этот фильм ужасов доказал, что не обязательно быть слишком кровавым, чтобы пугать. Всё было подано через напряжённые моменты и отличную актёрскую игру.\"},\n",
    "    {\"category\": \"Страшный фильм\", \"review\": \"Давно не испытывал таких эмоций от фильма! Ужасы казались настолько реальными, что я даже не замечал, как держу себя за сердце.\"},\n",
    "    {\"category\": \"Фильм не страшный\", \"review\": \"Я так и не понял, что в этом фильме должно было пугать. Всё выглядело слишком надуманным и неестественным.\"},\n",
    "    {\"category\": \"Фильм не страшный\", \"review\": \"Хотелось бы чего-то более впечатляющего. Персонажи были скучными, а сюжет напоминал типичный сериал с предсказуемыми событиями.\"},\n",
    "    {\"category\": \"Фильм не страшный\", \"review\": \"Если вы ищете настоящий ужас, этот фильм вас точно разочарует. Ни одна сцена не вызвала мурашек, только скука.\"},\n",
    "    {\"category\": \"Фильм не страшный\", \"review\": \"Большинство сцен просто не работали, как ужасы. Слишком много клише, чтобы воспринимать происходящее всерьёз.\"},\n",
    "    {\"category\": \"Фильм не страшный\", \"review\": \"Весь фильм я думал: 'Когда же начнётся что-то страшное?' Так и не дождался. Сюжет оказался банальным и растянутым.\"}\n",
    "]\n",
    "texts_test.extend([review[\"review\"] for review in additional_test_reviews])\n",
    "categories_test.extend([review[\"category\"] for review in additional_test_reviews])"
   ]
  },
  {
   "cell_type": "code",
   "execution_count": 5,
   "id": "52da2ead-0ce0-468b-9141-22d42d66d91e",
   "metadata": {},
   "outputs": [
    {
     "name": "stdout",
     "output_type": "stream",
     "text": [
      "X_train:\n",
      "<Compressed Sparse Row sparse matrix of dtype 'int64'\n",
      "\twith 341 stored elements and shape (16, 240)>\n"
     ]
    }
   ],
   "source": [
    "from sklearn.feature_extraction.text import CountVectorizer\n",
    "vect = CountVectorizer().fit(texts_train)\n",
    "X_train = vect.transform(texts_train)\n",
    "print(\"X_train:\\n{}\".format(repr(X_train)))\n"
   ]
  },
  {
   "cell_type": "code",
   "execution_count": 6,
   "id": "bef518ee-7e20-492a-b34d-63dd67d01fe0",
   "metadata": {},
   "outputs": [
    {
     "name": "stdout",
     "output_type": "stream",
     "text": [
      "Количество признаков: 240\n",
      "Первые 20 признаков:\n",
      "['актёры' 'атмосферу' 'безликий' 'будет' 'будто' 'буквально' 'бы' 'был'\n",
      " 'была' 'были' 'было' 'великолепна' 'великолепно' 'верят' 'весь'\n",
      " 'вздрогнуть' 'видел' 'вместо' 'впечатлений' 'все']\n"
     ]
    }
   ],
   "source": [
    "feature_names = vect.get_feature_names_out()\n",
    "print(\"Количество признаков: {}\".format(len(feature_names)))\n",
    "print(\"Первые 20 признаков:\\n{}\".format(feature_names[:20]))"
   ]
  },
  {
   "cell_type": "code",
   "execution_count": 7,
   "id": "368c7471-87ee-4025-bac2-eb7fee396341",
   "metadata": {},
   "outputs": [],
   "source": [
    "stop_words = [\n",
    "    \"это\", \"что\", \"очень\", \"было\", \"как\", \"также\", \"когда\", \n",
    "    \"фильм\", \"меня\", \"просто\", \"его\", \"этот\", \"они\", \"из\", \n",
    "    \"для\", \"вас\", \"все\", \"где\", \"или\", \"лишь\", \"себя\"\n",
    "]"
   ]
  },
  {
   "cell_type": "code",
   "execution_count": 8,
   "id": "6b309d28-d279-46f1-84ba-91c40d726796",
   "metadata": {},
   "outputs": [
    {
     "name": "stdout",
     "output_type": "stream",
     "text": [
      "Размер словаря после удаления стоп-слов: 225\n",
      "Слова в словаре:\n",
      "['весь', 'смотрел', 'замиранием', 'сердца', 'переживая', 'за', 'судьбу', 'персонажей', 'особенно', 'запомнился', 'момент', 'лесу', 'настолько', 'жутко', 'буквально', 'замер', 'от', 'страха', 'музыка', 'свет', 'декорации', 'всё', 'создавало', 'жуткую', 'атмосферу', 'чувствовал', 'участником', 'происходящих', 'событий', 'явно', 'останется', 'памяти', 'надолго', 'ни', 'одна', 'сцена', 'не', 'заставила', 'вздрогнуть', 'почувствовать']\n"
     ]
    }
   ],
   "source": [
    "from sklearn.feature_extraction.text import CountVectorizer\n",
    "vect = CountVectorizer(stop_words=stop_words).fit(texts_train)\n",
    "X_train = vect.transform(texts_train)\n",
    "print(f\"Размер словаря после удаления стоп-слов: {len(vect.vocabulary_)}\")\n",
    "print(f\"Слова в словаре:\\n{list(vect.vocabulary_.keys())[:40]}\")"
   ]
  },
  {
   "cell_type": "code",
   "execution_count": 9,
   "id": "546df14c-2938-40d4-b69e-0fd968f55ed9",
   "metadata": {},
   "outputs": [
    {
     "name": "stdout",
     "output_type": "stream",
     "text": [
      "Средняя правильность перекрестной проверки: 0.60\n"
     ]
    }
   ],
   "source": [
    "from sklearn.model_selection import cross_val_score\n",
    "from sklearn.linear_model import LogisticRegression\n",
    "import numpy as np\n",
    "scores = cross_val_score(LogisticRegression(), X_train, categories_train, cv=5)\n",
    "print('Средняя правильность перекрестной проверки: {:.2f}'.format(np.mean(scores)))"
   ]
  },
  {
   "cell_type": "code",
   "execution_count": 10,
   "id": "7f2be4e8-e01d-4568-9697-6dd89c17983a",
   "metadata": {},
   "outputs": [
    {
     "name": "stdout",
     "output_type": "stream",
     "text": [
      "Наилучшее значение перекрестной проверки: 0.60\n",
      "Наилучшие параметры: {'C': 1}\n"
     ]
    }
   ],
   "source": [
    "from sklearn.model_selection import GridSearchCV\n",
    "from sklearn.linear_model import LogisticRegression\n",
    "param_grid = {'C': [0.001, 0.01, 0.1, 1, 10]}\n",
    "grid = GridSearchCV(LogisticRegression(max_iter=100), param_grid, cv=5)\n",
    "grid.fit(X_train, categories_train)\n",
    "\n",
    "print(\"Наилучшее значение перекрестной проверки: {:.2f}\".format(grid.best_score_))\n",
    "print(\"Наилучшие параметры:\", grid.best_params_)"
   ]
  },
  {
   "cell_type": "code",
   "execution_count": 11,
   "id": "0406899e-4a8e-4068-92a7-7e5ffea3a96e",
   "metadata": {},
   "outputs": [
    {
     "name": "stdout",
     "output_type": "stream",
     "text": [
      "Правильность на тестовом наборе: 0.79\n",
      "                   precision    recall  f1-score   support\n",
      "\n",
      "   Страшный фильм       1.00      0.57      0.73         7\n",
      "Фильм не страшный       0.70      1.00      0.82         7\n",
      "\n",
      "         accuracy                           0.79        14\n",
      "        macro avg       0.85      0.79      0.78        14\n",
      "     weighted avg       0.85      0.79      0.78        14\n",
      "\n",
      "[[4 3]\n",
      " [0 7]]\n"
     ]
    }
   ],
   "source": [
    "X_test = vect.transform(texts_test)\n",
    "from sklearn.metrics import classification_report, confusion_matrix\n",
    "print(\"Правильность на тестовом наборе: {:.2f}\".format(grid.score(X_test, categories_test)))\n",
    "y_pred = grid.predict(X_test)\n",
    "\n",
    "print(classification_report(categories_test, y_pred))\n",
    "print(confusion_matrix(categories_test, y_pred))"
   ]
  },
  {
   "cell_type": "code",
   "execution_count": 16,
   "id": "97aa29a5-1d1e-4b53-8930-9b6603055b8d",
   "metadata": {},
   "outputs": [
    {
     "name": "stdout",
     "output_type": "stream",
     "text": [
      "Наилучшее значение перекрестной проверки: 0.67\n",
      "Точность на тестовом наборе: 0.57\n",
      "                   precision    recall  f1-score   support\n",
      "\n",
      "   Страшный фильм       0.60      0.43      0.50         7\n",
      "Фильм не страшный       0.56      0.71      0.62         7\n",
      "\n",
      "         accuracy                           0.57        14\n",
      "        macro avg       0.58      0.57      0.56        14\n",
      "     weighted avg       0.58      0.57      0.56        14\n",
      "\n",
      "[[3 4]\n",
      " [2 5]]\n"
     ]
    }
   ],
   "source": [
    "from sklearn.feature_extraction.text import TfidfVectorizer\n",
    "from sklearn.pipeline import make_pipeline\n",
    "from sklearn.linear_model import LogisticRegression\n",
    "from sklearn.model_selection import GridSearchCV\n",
    "\n",
    "pipe = make_pipeline(TfidfVectorizer(min_df=5, norm=None), LogisticRegression(max_iter=100))\n",
    "param_grid = {'logisticregression__C': [0.001, 0.01, 0.1, 1, 10]}\n",
    "grid = GridSearchCV(pipe, param_grid, cv=5)\n",
    "grid.fit(texts_train, categories_train)\n",
    "print(\"Наилучшее значение перекрестной проверки: {:.2f}\".format(grid.best_score_))\n",
    "test_score = grid.best_estimator_.score(texts_test, categories_test)\n",
    "print(\"Точность на тестовом наборе: {:.2f}\".format(test_score))\n",
    "\n",
    "y_pred = grid.predict(texts_test)\n",
    "\n",
    "print(classification_report(categories_test, y_pred))\n",
    "print(confusion_matrix(categories_test, y_pred))"
   ]
  },
  {
   "cell_type": "code",
   "execution_count": 17,
   "id": "292def95-1b51-42c3-8cec-71e5dc05649a",
   "metadata": {},
   "outputs": [
    {
     "name": "stdout",
     "output_type": "stream",
     "text": [
      "Best cross-validation score: 0.68\n",
      "Best parameters:\n",
      "{'logisticregression__C': 10, 'tfidfvectorizer__ngram_range': (1, 1)}\n"
     ]
    }
   ],
   "source": [
    "from sklearn.feature_extraction.text import TfidfVectorizer\n",
    "from sklearn.pipeline import make_pipeline\n",
    "from sklearn.linear_model import LogisticRegression\n",
    "from sklearn.model_selection import GridSearchCV\n",
    "\n",
    "pipe = make_pipeline(TfidfVectorizer(min_df=1), LogisticRegression())\n",
    "param_grid = {'logisticregression__C': [0.001, 0.01, 0.1, 1, 10, 100],\n",
    "              'tfidfvectorizer__ngram_range': [(1, 1), (1, 2), (1, 3)]}\n",
    "grid = GridSearchCV(pipe, param_grid, cv=5)\n",
    "grid.fit(texts_train, categories_train)\n",
    "print(\"Best cross-validation score: {:.2f}\".format(grid.best_score_))\n",
    "print(\"Best parameters:\\n{}\".format(grid.best_params_))"
   ]
  },
  {
   "cell_type": "code",
   "execution_count": null,
   "id": "851e8dc6-2853-4e5c-84a6-b6a0cbd45e86",
   "metadata": {},
   "outputs": [],
   "source": []
  },
  {
   "cell_type": "code",
   "execution_count": null,
   "id": "a685099c-50e2-4e66-8673-3c266f2bdc79",
   "metadata": {},
   "outputs": [],
   "source": []
  },
  {
   "cell_type": "code",
   "execution_count": 18,
   "id": "bd7bb6de-303b-45b9-8671-c367f394c7b4",
   "metadata": {},
   "outputs": [
    {
     "data": {
      "image/png": "[encoded data removed]",
      "text/plain": [
       "<Figure size 640x480 with 2 Axes>"
      ]
     },
     "metadata": {},
     "output_type": "display_data"
    }
   ],
   "source": [
    "import seaborn as sns\n",
    "import matplotlib.pyplot as plt\n",
    "import numpy as np\n",
    "scores = grid.cv_results_['mean_test_score'].reshape(len(param_grid['tfidfvectorizer__ngram_range']), len(param_grid['logisticregression__C']))\n",
    "sns.heatmap(scores, annot=True, fmt=\".3f\", xticklabels=param_grid['logisticregression__C'], yticklabels=param_grid['tfidfvectorizer__ngram_range'], cmap=\"viridis\")\n",
    "plt.xlabel(\"C (Regularization Parameter)\")\n",
    "plt.ylabel(\"ngram_range\")\n",
    "plt.title(\"Grid Search Heatmap\")\n",
    "plt.show()\n"
   ]
  },
  {
   "cell_type": "code",
   "execution_count": null,
   "id": "02f8422a-5da1-4afd-8bf5-9c3c051a0f7a",
   "metadata": {},
   "outputs": [],
   "source": []
  },
  {
   "cell_type": "code",
   "execution_count": 19,
   "id": "e227d4c4-1101-4a99-b0d2-c0bc4ab18428",
   "metadata": {},
   "outputs": [
    {
     "name": "stdout",
     "output_type": "stream",
     "text": [
      "Точность на тестовом наборе: 0.93\n",
      "                   precision    recall  f1-score   support\n",
      "\n",
      "   Страшный фильм       1.00      0.86      0.92         7\n",
      "Фильм не страшный       0.88      1.00      0.93         7\n",
      "\n",
      "         accuracy                           0.93        14\n",
      "        macro avg       0.94      0.93      0.93        14\n",
      "     weighted avg       0.94      0.93      0.93        14\n",
      "\n",
      "[[6 1]\n",
      " [0 7]]\n"
     ]
    }
   ],
   "source": [
    "test_score = grid.score(texts_test, categories_test)\n",
    "print(\"Точность на тестовом наборе: {:.2f}\".format(test_score))\n",
    "from sklearn.metrics import classification_report, confusion_matrix\n",
    "y_pred = grid.predict(texts_test)\n",
    "print(classification_report(categories_test, y_pred))\n",
    "print(confusion_matrix(categories_test, y_pred))"
   ]
  },
  {
   "cell_type": "markdown",
   "id": "1f0d4814-7f46-43c0-a2a9-7513faf34c09",
   "metadata": {},
   "source": [
    "В ходе лабораторной работы я научился работать с текстом с помощью методово машинного обучения для классификации отзывов, для примера работы я взял отзывы о фильмах ужасов и предсказывал по отзыву, страшный ли фильм или нет. Я попросил чат гпт сгенерировать мне около 30 отзывов половина классифицировалась, как фильм страшный, половина как нет.  В ходе работы я попробовал  метод  мешок слов, мешок слов с учетом удаления стоп слов и при помощи логистической регрессии дал точность 60% на обучающемся наборе, но затем дал точность 79% на тестовом наборе, такая высокая точность на тестовом наборе обусловлена как мне кажется тем, что довольно лекго характеризовать, страшный ли фильм или нет по набору слов, по скольку во всех отзывах встречаются плюс минус одинаковые слова, обозначающие либо страх, либо его отсутствие. Далее я задал параметр min_df=5 для TfidfVectorizer, то есть слово должно минимум 5 раз встречаться в отзывах и точность сильно упала, это обусловлено тем, что у нас довольно маленький датасет, и скорее всего чат гпт пытался писать отзывы разными словами,поэтому такой параметр не коректен для данного датасета. Далее я использовал ngram_range для того чтобы понять сколько слов нужно взять в комбинации, чтобы точность была наибольшей и программа выдала, что сочетания из одного слова - наилучший вариант, обратно же это связанно с очень маленькми датасетом. Таким образом в конечной модельке, я указал параметры TfidfVectorizer(min_df=1), tfidfvectorizer__ngram_range': [(1, 1), и  после перебора параметр C наилучшим показался С равный 10. И в конечном итоге самая высокая точность на обучающемся наборе 68 и целых 93% на тестовом, что странно. Но конечно данная моделька не подойдет для классификации отзывов в реальной жизни, по скольку обучаемый дата сет крайне мал, мы не учитываем разные диалекты людей,разные стили речи, многие прилагательные и эпитеты, поэтому если предсказать отзыв написанный реальным человеком вручную показал бы низкую точность."
   ]
  },
  {
   "cell_type": "code",
   "execution_count": null,
   "id": "bf90d329-e52f-4fe1-a05e-441de752044a",
   "metadata": {},
   "outputs": [],
   "source": []
  },
  {
   "cell_type": "code",
   "execution_count": null,
   "id": "f62b086a-6549-47fc-b5fe-ec7b6987ccf4",
   "metadata": {},
   "outputs": [],
   "source": []
  }
 ],
 "metadata": {
  "kernelspec": {
   "display_name": "Python 3 (ipykernel)",
   "language": "python",
   "name": "python3"
  },
  "language_info": {
   "codemirror_mode": {
    "name": "ipython",
    "version": 3
   },
   "file_extension": ".py",
   "mimetype": "text/x-python",
   "name": "python",
   "nbconvert_exporter": "python",
   "pygments_lexer": "ipython3",
   "version": "3.12.3"
  }
 },
 "nbformat": 4,
 "nbformat_minor": 5
}
