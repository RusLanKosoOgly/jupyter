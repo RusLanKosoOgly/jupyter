{
 "cells": [
  {
   "cell_type": "markdown",
   "id": "d21cc4fb-361b-4f47-a45e-d7ab296c3e29",
   "metadata": {},
   "source": []
  },
  {
   "cell_type": "code",
   "execution_count": 378,
   "id": "47582aae-3c87-4528-8430-9e39b95ff338",
   "metadata": {},
   "outputs": [],
   "source": [
    "import matplotlib.pyplot as plt\n",
    "from sklearn.linear_model import LinearRegression\n",
    "import numpy as np\n",
    "import mglearn\n",
    "import mglearn.datasets"
   ]
  },
  {
   "cell_type": "code",
   "execution_count": 379,
   "id": "ac88cbbd-2809-43d7-8def-f85e0432c451",
   "metadata": {},
   "outputs": [
    {
     "name": "stdout",
     "output_type": "stream",
     "text": [
      "dict_keys(['data', 'target', 'frame', 'DESCR', 'feature_names', 'data_filename', 'target_filename', 'data_module'])\n"
     ]
    }
   ],
   "source": [
    "from sklearn.datasets import load_diabetes\n",
    "diabetes = load_diabetes()\n",
    "print(diabetes.keys())"
   ]
  },
  {
   "cell_type": "code",
   "execution_count": 380,
   "id": "101d5be6-bfa3-41c7-ad3f-ce33abc6cf86",
   "metadata": {},
   "outputs": [
    {
     "name": "stdout",
     "output_type": "stream",
     "text": [
      "['age', 'sex', 'bmi', 'bp', 's1', 's2', 's3', 's4', 's5', 's6']\n",
      "Уникальные классы в целевой переменной: [ 25.  31.  37.  39.  40.  42.  43.  44.  45.  47.  48.  49.  50.  51.\n",
      "  52.  53.  54.  55.  57.  58.  59.  60.  61.  63.  64.  65.  66.  67.\n",
      "  68.  69.  70.  71.  72.  73.  74.  75.  77.  78.  79.  80.  81.  83.\n",
      "  84.  85.  86.  87.  88.  89.  90.  91.  92.  93.  94.  95.  96.  97.\n",
      "  98.  99. 100. 101. 102. 103. 104. 107. 108. 109. 110. 111. 113. 114.\n",
      " 115. 116. 118. 120. 121. 122. 123. 124. 125. 126. 127. 128. 129. 131.\n",
      " 132. 134. 135. 136. 137. 138. 139. 140. 141. 142. 143. 144. 145. 146.\n",
      " 147. 148. 150. 151. 152. 153. 154. 155. 156. 158. 160. 161. 162. 163.\n",
      " 164. 166. 167. 168. 170. 171. 172. 173. 174. 175. 177. 178. 179. 180.\n",
      " 181. 182. 183. 184. 185. 186. 187. 189. 190. 191. 192. 195. 196. 197.\n",
      " 198. 199. 200. 201. 202. 206. 208. 209. 210. 212. 214. 215. 216. 217.\n",
      " 219. 220. 221. 222. 225. 229. 230. 232. 233. 235. 236. 237. 241. 242.\n",
      " 243. 244. 245. 246. 248. 249. 252. 253. 257. 258. 259. 261. 262. 263.\n",
      " 264. 265. 268. 270. 272. 273. 274. 275. 276. 277. 279. 280. 281. 283.\n",
      " 288. 292. 293. 295. 296. 297. 302. 303. 306. 308. 310. 311. 317. 321.\n",
      " 332. 336. 341. 346.]\n"
     ]
    }
   ],
   "source": [
    "print(diabetes.feature_names)\n",
    "unique_classes = np.unique(diabetes.target)\n",
    "\n",
    "print(\"Уникальные классы в целевой переменной:\", unique_classes)\n",
    "\n"
   ]
  },
  {
   "cell_type": "code",
   "execution_count": 381,
   "id": "6b9ecd13-0d54-449f-9b79-c8a461aaa9ee",
   "metadata": {},
   "outputs": [
    {
     "name": "stdout",
     "output_type": "stream",
     "text": [
      "['age', 'sex', 'bmi', 'bp', 's1', 's2', 's3', 's4', 's5', 's6']\n",
      "[151.  75. 141. 206. 135.  97. 138.  63. 110. 310. 101.  69. 179. 185.\n",
      " 118. 171. 166. 144.  97. 168.  68.  49.  68. 245. 184. 202. 137.  85.\n",
      " 131. 283. 129.  59. 341.  87.  65. 102. 265. 276. 252.  90. 100.  55.\n",
      "  61.  92. 259.  53. 190. 142.  75. 142. 155. 225.  59. 104. 182. 128.\n",
      "  52.  37. 170. 170.  61. 144.  52. 128.  71. 163. 150.  97. 160. 178.\n",
      "  48. 270. 202. 111.  85.  42. 170. 200. 252. 113. 143.  51.  52. 210.\n",
      "  65. 141.  55. 134.  42. 111.  98. 164.  48.  96.  90. 162. 150. 279.\n",
      "  92.  83. 128. 102. 302. 198.  95.  53. 134. 144. 232.  81. 104.  59.\n",
      " 246. 297. 258. 229. 275. 281. 179. 200. 200. 173. 180.  84. 121. 161.\n",
      "  99. 109. 115. 268. 274. 158. 107.  83. 103. 272.  85. 280. 336. 281.\n",
      " 118. 317. 235.  60. 174. 259. 178. 128.  96. 126. 288.  88. 292.  71.\n",
      " 197. 186.  25.  84.  96. 195.  53. 217. 172. 131. 214.  59.  70. 220.\n",
      " 268. 152.  47.  74. 295. 101. 151. 127. 237. 225.  81. 151. 107.  64.\n",
      " 138. 185. 265. 101. 137. 143. 141.  79. 292. 178.  91. 116.  86. 122.\n",
      "  72. 129. 142.  90. 158.  39. 196. 222. 277.  99. 196. 202. 155.  77.\n",
      " 191.  70.  73.  49.  65. 263. 248. 296. 214. 185.  78.  93. 252. 150.\n",
      "  77. 208.  77. 108. 160.  53. 220. 154. 259.  90. 246. 124.  67.  72.\n",
      " 257. 262. 275. 177.  71.  47. 187. 125.  78.  51. 258. 215. 303. 243.\n",
      "  91. 150. 310. 153. 346.  63.  89.  50.  39. 103. 308. 116. 145.  74.\n",
      "  45. 115. 264.  87. 202. 127. 182. 241.  66.  94. 283.  64. 102. 200.\n",
      " 265.  94. 230. 181. 156. 233.  60. 219.  80.  68. 332. 248.  84. 200.\n",
      "  55.  85.  89.  31. 129.  83. 275.  65. 198. 236. 253. 124.  44. 172.\n",
      " 114. 142. 109. 180. 144. 163. 147.  97. 220. 190. 109. 191. 122. 230.\n",
      " 242. 248. 249. 192. 131. 237.  78. 135. 244. 199. 270. 164.  72.  96.\n",
      " 306.  91. 214.  95. 216. 263. 178. 113. 200. 139. 139.  88. 148.  88.\n",
      " 243.  71.  77. 109. 272.  60.  54. 221.  90. 311. 281. 182. 321.  58.\n",
      " 262. 206. 233. 242. 123. 167.  63. 197.  71. 168. 140. 217. 121. 235.\n",
      " 245.  40.  52. 104. 132.  88.  69. 219.  72. 201. 110.  51. 277.  63.\n",
      " 118.  69. 273. 258.  43. 198. 242. 232. 175.  93. 168. 275. 293. 281.\n",
      "  72. 140. 189. 181. 209. 136. 261. 113. 131. 174. 257.  55.  84.  42.\n",
      " 146. 212. 233.  91. 111. 152. 120.  67. 310.  94. 183.  66. 173.  72.\n",
      "  49.  64.  48. 178. 104. 132. 220.  57.]\n"
     ]
    }
   ],
   "source": [
    "print(format(diabetes[\"feature_names\"]))\n",
    "print(format(diabetes[\"target\"]))"
   ]
  },
  {
   "cell_type": "code",
   "execution_count": 382,
   "id": "abbd86aa-514c-437e-9b6d-1b2bba062bc9",
   "metadata": {},
   "outputs": [
    {
     "name": "stdout",
     "output_type": "stream",
     "text": [
      "{np.float64(25.0): np.int64(0), np.float64(31.0): np.int64(0), np.float64(37.0): np.int64(0), np.float64(39.0): np.int64(0), np.float64(40.0): np.int64(0), np.float64(42.0): np.int64(0), np.float64(43.0): np.int64(0), np.float64(44.0): np.int64(0), np.float64(45.0): np.int64(0), np.float64(47.0): np.int64(0), np.float64(48.0): np.int64(0), np.float64(49.0): np.int64(0), np.float64(50.0): np.int64(0), np.float64(51.0): np.int64(0), np.float64(52.0): np.int64(0), np.float64(53.0): np.int64(0), np.float64(54.0): np.int64(0), np.float64(55.0): np.int64(0), np.float64(57.0): np.int64(0), np.float64(58.0): np.int64(0), np.float64(59.0): np.int64(0), np.float64(60.0): np.int64(0), np.float64(61.0): np.int64(0), np.float64(63.0): np.int64(0), np.float64(64.0): np.int64(0), np.float64(65.0): np.int64(1), np.float64(66.0): np.int64(0), np.float64(67.0): np.int64(0), np.float64(68.0): np.int64(0), np.float64(69.0): np.int64(0), np.float64(70.0): np.int64(0), np.float64(71.0): np.int64(1), np.float64(72.0): np.int64(0), np.float64(73.0): np.int64(0), np.float64(74.0): np.int64(0), np.float64(75.0): np.int64(0), np.float64(77.0): np.int64(0), np.float64(78.0): np.int64(1), np.float64(79.0): np.int64(0), np.float64(80.0): np.int64(2), np.float64(81.0): np.int64(1), np.float64(83.0): np.int64(0), np.float64(84.0): np.int64(3), np.float64(85.0): np.int64(1), np.float64(86.0): np.int64(1), np.float64(87.0): np.int64(1), np.float64(88.0): np.int64(0), np.float64(89.0): np.int64(2), np.float64(90.0): np.int64(3), np.float64(91.0): np.int64(3), np.float64(92.0): np.int64(1), np.float64(93.0): np.int64(3), np.float64(94.0): np.int64(4), np.float64(95.0): np.int64(4), np.float64(96.0): np.int64(1), np.float64(97.0): np.int64(4), np.float64(98.0): np.int64(0), np.float64(99.0): np.int64(1), np.float64(100.0): np.int64(1), np.float64(101.0): np.int64(4), np.float64(102.0): np.int64(3), np.float64(103.0): np.int64(2), np.float64(104.0): np.int64(0), np.float64(107.0): np.int64(4), np.float64(108.0): np.int64(3), np.float64(109.0): np.int64(4), np.float64(110.0): np.int64(2), np.float64(111.0): np.int64(2), np.float64(113.0): np.int64(3), np.float64(114.0): np.int64(3), np.float64(115.0): np.int64(2), np.float64(116.0): np.int64(5), np.float64(118.0): np.int64(6), np.float64(120.0): np.int64(1), np.float64(121.0): np.int64(2), np.float64(122.0): np.int64(2), np.float64(123.0): np.int64(0), np.float64(124.0): np.int64(4), np.float64(125.0): np.int64(3), np.float64(126.0): np.int64(1), np.float64(127.0): np.int64(1), np.float64(128.0): np.int64(2), np.float64(129.0): np.int64(0), np.float64(131.0): np.int64(3), np.float64(132.0): np.int64(4), np.float64(134.0): np.int64(4), np.float64(135.0): np.int64(1), np.float64(136.0): np.int64(2), np.float64(137.0): np.int64(4), np.float64(138.0): np.int64(2), np.float64(139.0): np.int64(5), np.float64(140.0): np.int64(4), np.float64(141.0): np.int64(2), np.float64(142.0): np.int64(2), np.float64(143.0): np.int64(3), np.float64(144.0): np.int64(2), np.float64(145.0): np.int64(4), np.float64(146.0): np.int64(4), np.float64(147.0): np.int64(1), np.float64(148.0): np.int64(2), np.float64(150.0): np.int64(1), np.float64(151.0): np.int64(3), np.float64(152.0): np.int64(3), np.float64(153.0): np.int64(2), np.float64(154.0): np.int64(4), np.float64(155.0): np.int64(0), np.float64(156.0): np.int64(0), np.float64(158.0): np.int64(2), np.float64(160.0): np.int64(1), np.float64(161.0): np.int64(4), np.float64(162.0): np.int64(2), np.float64(163.0): np.int64(3), np.float64(164.0): np.int64(0), np.float64(166.0): np.int64(3), np.float64(167.0): np.int64(1), np.float64(168.0): np.int64(2), np.float64(170.0): np.int64(2), np.float64(171.0): np.int64(0), np.float64(172.0): np.int64(3), np.float64(173.0): np.int64(0), np.float64(174.0): np.int64(1), np.float64(175.0): np.int64(2), np.float64(177.0): np.int64(2), np.float64(178.0): np.int64(1), np.float64(179.0): np.int64(2), np.float64(180.0): np.int64(1), np.float64(181.0): np.int64(1), np.float64(182.0): np.int64(2), np.float64(183.0): np.int64(4), np.float64(184.0): np.int64(3), np.float64(185.0): np.int64(0), np.float64(186.0): np.int64(4), np.float64(187.0): np.int64(2), np.float64(189.0): np.int64(0), np.float64(190.0): np.int64(2), np.float64(191.0): np.int64(2), np.float64(192.0): np.int64(1), np.float64(195.0): np.int64(2), np.float64(196.0): np.int64(2), np.float64(197.0): np.int64(2), np.float64(198.0): np.int64(2), np.float64(199.0): np.int64(3), np.float64(200.0): np.int64(4), np.float64(201.0): np.int64(2), np.float64(202.0): np.int64(4), np.float64(206.0): np.int64(1), np.float64(208.0): np.int64(1), np.float64(209.0): np.int64(1), np.float64(210.0): np.int64(1), np.float64(212.0): np.int64(0), np.float64(214.0): np.int64(4), np.float64(215.0): np.int64(3), np.float64(216.0): np.int64(2), np.float64(217.0): np.int64(1), np.float64(219.0): np.int64(1), np.float64(220.0): np.int64(2), np.float64(221.0): np.int64(1), np.float64(222.0): np.int64(0), np.float64(225.0): np.int64(2), np.float64(229.0): np.int64(0), np.float64(230.0): np.int64(2), np.float64(232.0): np.int64(1), np.float64(233.0): np.int64(1), np.float64(235.0): np.int64(2), np.float64(236.0): np.int64(2), np.float64(237.0): np.int64(0), np.float64(241.0): np.int64(1), np.float64(242.0): np.int64(1), np.float64(243.0): np.int64(3), np.float64(244.0): np.int64(0), np.float64(245.0): np.int64(3), np.float64(246.0): np.int64(1), np.float64(248.0): np.int64(2), np.float64(249.0): np.int64(2), np.float64(252.0): np.int64(2), np.float64(253.0): np.int64(1), np.float64(257.0): np.int64(0), np.float64(258.0): np.int64(1), np.float64(259.0): np.int64(5), np.float64(261.0): np.int64(2), np.float64(262.0): np.int64(2), np.float64(263.0): np.int64(2), np.float64(264.0): np.int64(3), np.float64(265.0): np.int64(1), np.float64(268.0): np.int64(1), np.float64(270.0): np.int64(3), np.float64(272.0): np.int64(1), np.float64(273.0): np.int64(1), np.float64(274.0): np.int64(0), np.float64(275.0): np.int64(1), np.float64(276.0): np.int64(2), np.float64(277.0): np.int64(2), np.float64(279.0): np.int64(1), np.float64(280.0): np.int64(0), np.float64(281.0): np.int64(0), np.float64(283.0): np.int64(1), np.float64(288.0): np.int64(2), np.float64(292.0): np.int64(2), np.float64(293.0): np.int64(3), np.float64(295.0): np.int64(1), np.float64(296.0): np.int64(6), np.float64(297.0): np.int64(1), np.float64(302.0): np.int64(4), np.float64(303.0): np.int64(0), np.float64(306.0): np.int64(0), np.float64(308.0): np.int64(0), np.float64(310.0): np.int64(2), np.float64(311.0): np.int64(0), np.float64(317.0): np.int64(1), np.float64(321.0): np.int64(1), np.float64(332.0): np.int64(1), np.float64(336.0): np.int64(0), np.float64(341.0): np.int64(1), np.float64(346.0): np.int64(0)}\n"
     ]
    }
   ],
   "source": [
    "import numpy as np\n",
    "print({n: v for n, v in zip(np.unique(diabetes.target), np.bincount(diabetes.target.astype(int)))})\n"
   ]
  },
  {
   "cell_type": "code",
   "execution_count": 383,
   "id": "e3aaa110-3eac-4ad8-8b8a-961b019c51a6",
   "metadata": {},
   "outputs": [
    {
     "data": {
      "image/png": "[encoded data removed]",
      "text/plain": [
       "<Figure size 640x480 with 1 Axes>"
      ]
     },
     "metadata": {},
     "output_type": "display_data"
    }
   ],
   "source": [
    "import matplotlib.pyplot as plt\n",
    "from sklearn.datasets import load_diabetes\n",
    "from sklearn.model_selection import train_test_split\n",
    "from sklearn.neighbors import KNeighborsClassifier\n",
    "import numpy as np\n",
    "\n",
    "# Загружаем датасет\n",
    "diabetes = load_diabetes()\n",
    "X = diabetes.data\n",
    "\n",
    "\n",
    "y = (diabetes.target > np.median(diabetes.target)).astype(int)\n",
    "\n",
    "\n",
    "X_train, X_test, y_train, y_test = train_test_split(\n",
    "    X, y, stratify=y, random_state=66)\n",
    "\n",
    "training_accuracy = []\n",
    "test_accuracy = []\n",
    "\n",
    "neighbors_settings = range(1, 11)\n",
    "\n",
    "for n_neighbors in neighbors_settings:\n",
    "  \n",
    "    clf = KNeighborsClassifier(n_neighbors=n_neighbors)\n",
    "    clf.fit(X_train, y_train)\n",
    "\n",
    "    training_accuracy.append(clf.score(X_train, y_train))\n",
    "\n",
    "    test_accuracy.append(clf.score(X_test, y_test))\n",
    "\n",
    "\n",
    "plt.plot(neighbors_settings, training_accuracy, label=\"Правильность на обучающем наборе\")\n",
    "plt.plot(neighbors_settings, test_accuracy, label=\"Правильность на тестовом наборе\")\n",
    "plt.ylabel(\"Правильность\")\n",
    "plt.xlabel(\"Количество соседей\")\n",
    "plt.legend()\n",
    "plt.title(\"Эффективность KNeighborsClassifier на датасете Diabetes\")\n",
    "plt.show()\n"
   ]
  },
  {
   "cell_type": "code",
   "execution_count": null,
   "id": "a60b7683-ad43-4e89-b3b0-b04dfbe9ede9",
   "metadata": {},
   "outputs": [],
   "source": []
  },
  {
   "cell_type": "code",
   "execution_count": null,
   "id": "bb097f17-261c-457d-b26e-8c674f3b87d2",
   "metadata": {},
   "outputs": [],
   "source": []
  },
  {
   "cell_type": "code",
   "execution_count": null,
   "id": "134a1dbd-89cc-43a7-a11b-2cc7ae65eab2",
   "metadata": {},
   "outputs": [],
   "source": [
    "\n"
   ]
  },
  {
   "cell_type": "code",
   "execution_count": 384,
   "id": "f7250aac-ace9-4a81-95d6-dbcd14d81c17",
   "metadata": {},
   "outputs": [
    {
     "data": {
      "text/html": [
       "<style>#sk-container-id-21 {\n",
       "  /* Definition of color scheme common for light and dark mode */\n",
       "  --sklearn-color-text: black;\n",
       "  --sklearn-color-line: gray;\n",
       "  /* Definition of color scheme for unfitted estimators */\n",
       "  --sklearn-color-unfitted-level-0: #fff5e6;\n",
       "  --sklearn-color-unfitted-level-1: #f6e4d2;\n",
       "  --sklearn-color-unfitted-level-2: #ffe0b3;\n",
       "  --sklearn-color-unfitted-level-3: chocolate;\n",
       "  /* Definition of color scheme for fitted estimators */\n",
       "  --sklearn-color-fitted-level-0: #f0f8ff;\n",
       "  --sklearn-color-fitted-level-1: #d4ebff;\n",
       "  --sklearn-color-fitted-level-2: #b3dbfd;\n",
       "  --sklearn-color-fitted-level-3: cornflowerblue;\n",
       "\n",
       "  /* Specific color for light theme */\n",
       "  --sklearn-color-text-on-default-background: var(--sg-text-color, var(--theme-code-foreground, var(--jp-content-font-color1, black)));\n",
       "  --sklearn-color-background: var(--sg-background-color, var(--theme-background, var(--jp-layout-color0, white)));\n",
       "  --sklearn-color-border-box: var(--sg-text-color, var(--theme-code-foreground, var(--jp-content-font-color1, black)));\n",
       "  --sklearn-color-icon: #696969;\n",
       "\n",
       "  @media (prefers-color-scheme: dark) {\n",
       "    /* Redefinition of color scheme for dark theme */\n",
       "    --sklearn-color-text-on-default-background: var(--sg-text-color, var(--theme-code-foreground, var(--jp-content-font-color1, white)));\n",
       "    --sklearn-color-background: var(--sg-background-color, var(--theme-background, var(--jp-layout-color0, #111)));\n",
       "    --sklearn-color-border-box: var(--sg-text-color, var(--theme-code-foreground, var(--jp-content-font-color1, white)));\n",
       "    --sklearn-color-icon: #878787;\n",
       "  }\n",
       "}\n",
       "\n",
       "#sk-container-id-21 {\n",
       "  color: var(--sklearn-color-text);\n",
       "}\n",
       "\n",
       "#sk-container-id-21 pre {\n",
       "  padding: 0;\n",
       "}\n",
       "\n",
       "#sk-container-id-21 input.sk-hidden--visually {\n",
       "  border: 0;\n",
       "  clip: rect(1px 1px 1px 1px);\n",
       "  clip: rect(1px, 1px, 1px, 1px);\n",
       "  height: 1px;\n",
       "  margin: -1px;\n",
       "  overflow: hidden;\n",
       "  padding: 0;\n",
       "  position: absolute;\n",
       "  width: 1px;\n",
       "}\n",
       "\n",
       "#sk-container-id-21 div.sk-dashed-wrapped {\n",
       "  border: 1px dashed var(--sklearn-color-line);\n",
       "  margin: 0 0.4em 0.5em 0.4em;\n",
       "  box-sizing: border-box;\n",
       "  padding-bottom: 0.4em;\n",
       "  background-color: var(--sklearn-color-background);\n",
       "}\n",
       "\n",
       "#sk-container-id-21 div.sk-container {\n",
       "  /* jupyter's `normalize.less` sets `[hidden] { display: none; }`\n",
       "     but bootstrap.min.css set `[hidden] { display: none !important; }`\n",
       "     so we also need the `!important` here to be able to override the\n",
       "     default hidden behavior on the sphinx rendered scikit-learn.org.\n",
       "     See: https://github.com/scikit-learn/scikit-learn/issues/21755 */\n",
       "  display: inline-block !important;\n",
       "  position: relative;\n",
       "}\n",
       "\n",
       "#sk-container-id-21 div.sk-text-repr-fallback {\n",
       "  display: none;\n",
       "}\n",
       "\n",
       "div.sk-parallel-item,\n",
       "div.sk-serial,\n",
       "div.sk-item {\n",
       "  /* draw centered vertical line to link estimators */\n",
       "  background-image: linear-gradient(var(--sklearn-color-text-on-default-background), var(--sklearn-color-text-on-default-background));\n",
       "  background-size: 2px 100%;\n",
       "  background-repeat: no-repeat;\n",
       "  background-position: center center;\n",
       "}\n",
       "\n",
       "/* Parallel-specific style estimator block */\n",
       "\n",
       "#sk-container-id-21 div.sk-parallel-item::after {\n",
       "  content: \"\";\n",
       "  width: 100%;\n",
       "  border-bottom: 2px solid var(--sklearn-color-text-on-default-background);\n",
       "  flex-grow: 1;\n",
       "}\n",
       "\n",
       "#sk-container-id-21 div.sk-parallel {\n",
       "  display: flex;\n",
       "  align-items: stretch;\n",
       "  justify-content: center;\n",
       "  background-color: var(--sklearn-color-background);\n",
       "  position: relative;\n",
       "}\n",
       "\n",
       "#sk-container-id-21 div.sk-parallel-item {\n",
       "  display: flex;\n",
       "  flex-direction: column;\n",
       "}\n",
       "\n",
       "#sk-container-id-21 div.sk-parallel-item:first-child::after {\n",
       "  align-self: flex-end;\n",
       "  width: 50%;\n",
       "}\n",
       "\n",
       "#sk-container-id-21 div.sk-parallel-item:last-child::after {\n",
       "  align-self: flex-start;\n",
       "  width: 50%;\n",
       "}\n",
       "\n",
       "#sk-container-id-21 div.sk-parallel-item:only-child::after {\n",
       "  width: 0;\n",
       "}\n",
       "\n",
       "/* Serial-specific style estimator block */\n",
       "\n",
       "#sk-container-id-21 div.sk-serial {\n",
       "  display: flex;\n",
       "  flex-direction: column;\n",
       "  align-items: center;\n",
       "  background-color: var(--sklearn-color-background);\n",
       "  padding-right: 1em;\n",
       "  padding-left: 1em;\n",
       "}\n",
       "\n",
       "\n",
       "/* Toggleable style: style used for estimator/Pipeline/ColumnTransformer box that is\n",
       "clickable and can be expanded/collapsed.\n",
       "- Pipeline and ColumnTransformer use this feature and define the default style\n",
       "- Estimators will overwrite some part of the style using the `sk-estimator` class\n",
       "*/\n",
       "\n",
       "/* Pipeline and ColumnTransformer style (default) */\n",
       "\n",
       "#sk-container-id-21 div.sk-toggleable {\n",
       "  /* Default theme specific background. It is overwritten whether we have a\n",
       "  specific estimator or a Pipeline/ColumnTransformer */\n",
       "  background-color: var(--sklearn-color-background);\n",
       "}\n",
       "\n",
       "/* Toggleable label */\n",
       "#sk-container-id-21 label.sk-toggleable__label {\n",
       "  cursor: pointer;\n",
       "  display: block;\n",
       "  width: 100%;\n",
       "  margin-bottom: 0;\n",
       "  padding: 0.5em;\n",
       "  box-sizing: border-box;\n",
       "  text-align: center;\n",
       "}\n",
       "\n",
       "#sk-container-id-21 label.sk-toggleable__label-arrow:before {\n",
       "  /* Arrow on the left of the label */\n",
       "  content: \"▸\";\n",
       "  float: left;\n",
       "  margin-right: 0.25em;\n",
       "  color: var(--sklearn-color-icon);\n",
       "}\n",
       "\n",
       "#sk-container-id-21 label.sk-toggleable__label-arrow:hover:before {\n",
       "  color: var(--sklearn-color-text);\n",
       "}\n",
       "\n",
       "/* Toggleable content - dropdown */\n",
       "\n",
       "#sk-container-id-21 div.sk-toggleable__content {\n",
       "  max-height: 0;\n",
       "  max-width: 0;\n",
       "  overflow: hidden;\n",
       "  text-align: left;\n",
       "  /* unfitted */\n",
       "  background-color: var(--sklearn-color-unfitted-level-0);\n",
       "}\n",
       "\n",
       "#sk-container-id-21 div.sk-toggleable__content.fitted {\n",
       "  /* fitted */\n",
       "  background-color: var(--sklearn-color-fitted-level-0);\n",
       "}\n",
       "\n",
       "#sk-container-id-21 div.sk-toggleable__content pre {\n",
       "  margin: 0.2em;\n",
       "  border-radius: 0.25em;\n",
       "  color: var(--sklearn-color-text);\n",
       "  /* unfitted */\n",
       "  background-color: var(--sklearn-color-unfitted-level-0);\n",
       "}\n",
       "\n",
       "#sk-container-id-21 div.sk-toggleable__content.fitted pre {\n",
       "  /* unfitted */\n",
       "  background-color: var(--sklearn-color-fitted-level-0);\n",
       "}\n",
       "\n",
       "#sk-container-id-21 input.sk-toggleable__control:checked~div.sk-toggleable__content {\n",
       "  /* Expand drop-down */\n",
       "  max-height: 200px;\n",
       "  max-width: 100%;\n",
       "  overflow: auto;\n",
       "}\n",
       "\n",
       "#sk-container-id-21 input.sk-toggleable__control:checked~label.sk-toggleable__label-arrow:before {\n",
       "  content: \"▾\";\n",
       "}\n",
       "\n",
       "/* Pipeline/ColumnTransformer-specific style */\n",
       "\n",
       "#sk-container-id-21 div.sk-label input.sk-toggleable__control:checked~label.sk-toggleable__label {\n",
       "  color: var(--sklearn-color-text);\n",
       "  background-color: var(--sklearn-color-unfitted-level-2);\n",
       "}\n",
       "\n",
       "#sk-container-id-21 div.sk-label.fitted input.sk-toggleable__control:checked~label.sk-toggleable__label {\n",
       "  background-color: var(--sklearn-color-fitted-level-2);\n",
       "}\n",
       "\n",
       "/* Estimator-specific style */\n",
       "\n",
       "/* Colorize estimator box */\n",
       "#sk-container-id-21 div.sk-estimator input.sk-toggleable__control:checked~label.sk-toggleable__label {\n",
       "  /* unfitted */\n",
       "  background-color: var(--sklearn-color-unfitted-level-2);\n",
       "}\n",
       "\n",
       "#sk-container-id-21 div.sk-estimator.fitted input.sk-toggleable__control:checked~label.sk-toggleable__label {\n",
       "  /* fitted */\n",
       "  background-color: var(--sklearn-color-fitted-level-2);\n",
       "}\n",
       "\n",
       "#sk-container-id-21 div.sk-label label.sk-toggleable__label,\n",
       "#sk-container-id-21 div.sk-label label {\n",
       "  /* The background is the default theme color */\n",
       "  color: var(--sklearn-color-text-on-default-background);\n",
       "}\n",
       "\n",
       "/* On hover, darken the color of the background */\n",
       "#sk-container-id-21 div.sk-label:hover label.sk-toggleable__label {\n",
       "  color: var(--sklearn-color-text);\n",
       "  background-color: var(--sklearn-color-unfitted-level-2);\n",
       "}\n",
       "\n",
       "/* Label box, darken color on hover, fitted */\n",
       "#sk-container-id-21 div.sk-label.fitted:hover label.sk-toggleable__label.fitted {\n",
       "  color: var(--sklearn-color-text);\n",
       "  background-color: var(--sklearn-color-fitted-level-2);\n",
       "}\n",
       "\n",
       "/* Estimator label */\n",
       "\n",
       "#sk-container-id-21 div.sk-label label {\n",
       "  font-family: monospace;\n",
       "  font-weight: bold;\n",
       "  display: inline-block;\n",
       "  line-height: 1.2em;\n",
       "}\n",
       "\n",
       "#sk-container-id-21 div.sk-label-container {\n",
       "  text-align: center;\n",
       "}\n",
       "\n",
       "/* Estimator-specific */\n",
       "#sk-container-id-21 div.sk-estimator {\n",
       "  font-family: monospace;\n",
       "  border: 1px dotted var(--sklearn-color-border-box);\n",
       "  border-radius: 0.25em;\n",
       "  box-sizing: border-box;\n",
       "  margin-bottom: 0.5em;\n",
       "  /* unfitted */\n",
       "  background-color: var(--sklearn-color-unfitted-level-0);\n",
       "}\n",
       "\n",
       "#sk-container-id-21 div.sk-estimator.fitted {\n",
       "  /* fitted */\n",
       "  background-color: var(--sklearn-color-fitted-level-0);\n",
       "}\n",
       "\n",
       "/* on hover */\n",
       "#sk-container-id-21 div.sk-estimator:hover {\n",
       "  /* unfitted */\n",
       "  background-color: var(--sklearn-color-unfitted-level-2);\n",
       "}\n",
       "\n",
       "#sk-container-id-21 div.sk-estimator.fitted:hover {\n",
       "  /* fitted */\n",
       "  background-color: var(--sklearn-color-fitted-level-2);\n",
       "}\n",
       "\n",
       "/* Specification for estimator info (e.g. \"i\" and \"?\") */\n",
       "\n",
       "/* Common style for \"i\" and \"?\" */\n",
       "\n",
       ".sk-estimator-doc-link,\n",
       "a:link.sk-estimator-doc-link,\n",
       "a:visited.sk-estimator-doc-link {\n",
       "  float: right;\n",
       "  font-size: smaller;\n",
       "  line-height: 1em;\n",
       "  font-family: monospace;\n",
       "  background-color: var(--sklearn-color-background);\n",
       "  border-radius: 1em;\n",
       "  height: 1em;\n",
       "  width: 1em;\n",
       "  text-decoration: none !important;\n",
       "  margin-left: 1ex;\n",
       "  /* unfitted */\n",
       "  border: var(--sklearn-color-unfitted-level-1) 1pt solid;\n",
       "  color: var(--sklearn-color-unfitted-level-1);\n",
       "}\n",
       "\n",
       ".sk-estimator-doc-link.fitted,\n",
       "a:link.sk-estimator-doc-link.fitted,\n",
       "a:visited.sk-estimator-doc-link.fitted {\n",
       "  /* fitted */\n",
       "  border: var(--sklearn-color-fitted-level-1) 1pt solid;\n",
       "  color: var(--sklearn-color-fitted-level-1);\n",
       "}\n",
       "\n",
       "/* On hover */\n",
       "div.sk-estimator:hover .sk-estimator-doc-link:hover,\n",
       ".sk-estimator-doc-link:hover,\n",
       "div.sk-label-container:hover .sk-estimator-doc-link:hover,\n",
       ".sk-estimator-doc-link:hover {\n",
       "  /* unfitted */\n",
       "  background-color: var(--sklearn-color-unfitted-level-3);\n",
       "  color: var(--sklearn-color-background);\n",
       "  text-decoration: none;\n",
       "}\n",
       "\n",
       "div.sk-estimator.fitted:hover .sk-estimator-doc-link.fitted:hover,\n",
       ".sk-estimator-doc-link.fitted:hover,\n",
       "div.sk-label-container:hover .sk-estimator-doc-link.fitted:hover,\n",
       ".sk-estimator-doc-link.fitted:hover {\n",
       "  /* fitted */\n",
       "  background-color: var(--sklearn-color-fitted-level-3);\n",
       "  color: var(--sklearn-color-background);\n",
       "  text-decoration: none;\n",
       "}\n",
       "\n",
       "/* Span, style for the box shown on hovering the info icon */\n",
       ".sk-estimator-doc-link span {\n",
       "  display: none;\n",
       "  z-index: 9999;\n",
       "  position: relative;\n",
       "  font-weight: normal;\n",
       "  right: .2ex;\n",
       "  padding: .5ex;\n",
       "  margin: .5ex;\n",
       "  width: min-content;\n",
       "  min-width: 20ex;\n",
       "  max-width: 50ex;\n",
       "  color: var(--sklearn-color-text);\n",
       "  box-shadow: 2pt 2pt 4pt #999;\n",
       "  /* unfitted */\n",
       "  background: var(--sklearn-color-unfitted-level-0);\n",
       "  border: .5pt solid var(--sklearn-color-unfitted-level-3);\n",
       "}\n",
       "\n",
       ".sk-estimator-doc-link.fitted span {\n",
       "  /* fitted */\n",
       "  background: var(--sklearn-color-fitted-level-0);\n",
       "  border: var(--sklearn-color-fitted-level-3);\n",
       "}\n",
       "\n",
       ".sk-estimator-doc-link:hover span {\n",
       "  display: block;\n",
       "}\n",
       "\n",
       "/* \"?\"-specific style due to the `<a>` HTML tag */\n",
       "\n",
       "#sk-container-id-21 a.estimator_doc_link {\n",
       "  float: right;\n",
       "  font-size: 1rem;\n",
       "  line-height: 1em;\n",
       "  font-family: monospace;\n",
       "  background-color: var(--sklearn-color-background);\n",
       "  border-radius: 1rem;\n",
       "  height: 1rem;\n",
       "  width: 1rem;\n",
       "  text-decoration: none;\n",
       "  /* unfitted */\n",
       "  color: var(--sklearn-color-unfitted-level-1);\n",
       "  border: var(--sklearn-color-unfitted-level-1) 1pt solid;\n",
       "}\n",
       "\n",
       "#sk-container-id-21 a.estimator_doc_link.fitted {\n",
       "  /* fitted */\n",
       "  border: var(--sklearn-color-fitted-level-1) 1pt solid;\n",
       "  color: var(--sklearn-color-fitted-level-1);\n",
       "}\n",
       "\n",
       "/* On hover */\n",
       "#sk-container-id-21 a.estimator_doc_link:hover {\n",
       "  /* unfitted */\n",
       "  background-color: var(--sklearn-color-unfitted-level-3);\n",
       "  color: var(--sklearn-color-background);\n",
       "  text-decoration: none;\n",
       "}\n",
       "\n",
       "#sk-container-id-21 a.estimator_doc_link.fitted:hover {\n",
       "  /* fitted */\n",
       "  background-color: var(--sklearn-color-fitted-level-3);\n",
       "}\n",
       "</style><div id=\"sk-container-id-21\" class=\"sk-top-container\"><div class=\"sk-text-repr-fallback\"><pre>KNeighborsRegressor(n_neighbors=10)</pre><b>In a Jupyter environment, please rerun this cell to show the HTML representation or trust the notebook. <br />On GitHub, the HTML representation is unable to render, please try loading this page with nbviewer.org.</b></div><div class=\"sk-container\" hidden><div class=\"sk-item\"><div class=\"sk-estimator fitted sk-toggleable\"><input class=\"sk-toggleable__control sk-hidden--visually\" id=\"sk-estimator-id-21\" type=\"checkbox\" checked><label for=\"sk-estimator-id-21\" class=\"sk-toggleable__label fitted sk-toggleable__label-arrow fitted\">&nbsp;&nbsp;KNeighborsRegressor<a class=\"sk-estimator-doc-link fitted\" rel=\"noreferrer\" target=\"_blank\" href=\"https://scikit-learn.org/1.5/modules/generated/sklearn.neighbors.KNeighborsRegressor.html\">?<span>Documentation for KNeighborsRegressor</span></a><span class=\"sk-estimator-doc-link fitted\">i<span>Fitted</span></span></label><div class=\"sk-toggleable__content fitted\"><pre>KNeighborsRegressor(n_neighbors=10)</pre></div> </div></div></div></div>"
      ],
      "text/plain": [
       "KNeighborsRegressor(n_neighbors=10)"
      ]
     },
     "execution_count": 384,
     "metadata": {},
     "output_type": "execute_result"
    }
   ],
   "source": [
    "from sklearn.neighbors import KNeighborsRegressor\n",
    "X, y = diabetes.data, diabetes.target\n",
    "X_train, X_test, y_train, y_test = train_test_split(X,y, random_state = 0)\n",
    "reg = KNeighborsRegressor(n_neighbors = 10)\n",
    "reg.fit(X_train, y_train)"
   ]
  },
  {
   "cell_type": "code",
   "execution_count": 385,
   "id": "b759c54e-472c-4a54-ace0-793c94013aba",
   "metadata": {},
   "outputs": [
    {
     "name": "stdout",
     "output_type": "stream",
     "text": [
      "[253.6 195.3 133.5 131.7 176.2 217.8 101.5 212.1 144.2 244.9 131.3 226.2\n",
      " 119.7  92.6 248.3  78.8 128.6  98.2 114.9 205.2 165.1 141.3 169.3 103.3\n",
      " 192.6 145.6 106.6  88.  162.7 165.1 164.   65.6 119.  177.7 122.1 182.5\n",
      " 160.7 165.  114.1 168.3 142.6 167.2 132.4 163.5 183.4  87.4 122.8 111.6\n",
      " 112.2 199.2 131.8  75.3 149.7 139.6 220.9 200.6 159.9 120.4 148.1 182.9\n",
      " 193.6 138.4 157.5 109.1 259.5 142.5  80.2 231.8 179.7  91.9  94.8 165.8\n",
      "  85.   99.4 139.7 163.7 120.2 192.2 230.7 151.2 123.4 212.6  82.4 190.6\n",
      " 101.1 107.4 138.9 142.2 132.3 170.9  95.4  83.4  75.8 157.5  90.2 114.9\n",
      " 189.3 182.3 114.7 147.  136.8 135.5 196.6  93.3 239.5 143.4 192.2 244.\n",
      " 143.4 101.2 195.7]\n"
     ]
    }
   ],
   "source": [
    "print(format(reg.predict(X_test)))"
   ]
  },
  {
   "cell_type": "code",
   "execution_count": 386,
   "id": "1a50b7db-0532-49a8-93fd-bd175041fc40",
   "metadata": {},
   "outputs": [
    {
     "name": "stdout",
     "output_type": "stream",
     "text": [
      "0.26449037970759826\n"
     ]
    }
   ],
   "source": [
    "print(format(reg.score(X_test, y_test)))"
   ]
  },
  {
   "cell_type": "code",
   "execution_count": 387,
   "id": "f92c8e20-7124-45d9-bbf2-95e5f123086e",
   "metadata": {},
   "outputs": [
    {
     "data": {
      "image/png": "[encoded data removed]",
      "text/plain": [
       "<Figure size 1500x400 with 3 Axes>"
      ]
     },
     "metadata": {},
     "output_type": "display_data"
    }
   ],
   "source": [
    "import numpy as np\n",
    "import matplotlib.pyplot as plt\n",
    "from sklearn.neighbors import KNeighborsRegressor\n",
    "import mglearn\n",
    "\n",
    "fig, axes = plt.subplots(1, 3, figsize=(15, 4))\n",
    "line = np.linspace(-3, 3, 1000).reshape(-1, 1)\n",
    "line = np.tile(line, (1, X_train.shape[1]))  \n",
    "\n",
    "for n_neighbors, ax in zip([1, 3, 9], axes):\n",
    "    reg = KNeighborsRegressor(n_neighbors=n_neighbors)\n",
    "    reg.fit(X_train, y_train)\n",
    "    ax.plot(line[:, 0], reg.predict(line))  \n",
    "    ax.plot(X_train[:, 0], y_train, '^', c=mglearn.cm2(0), markersize=8)\n",
    "    ax.plot(X_test[:, 0], y_test, 'v', c=mglearn.cm2(1), markersize=8)\n",
    "\n",
    "    ax.set_title(\n",
    "        \"{} neighbor(s)\\n train score: {:.2f} test score: {:.2f}\".format(\n",
    "            n_neighbors, reg.score(X_train, y_train), reg.score(X_test, y_test)\n",
    "        )\n",
    "    )\n",
    "    ax.set_xlabel(\"Признак 0\")  \n",
    "    ax.set_ylabel(\"Целевая переменная\")\n",
    "\n",
    "axes[0].legend(\n",
    "    [\"Прогнозы модели\", \"Обучающие данные/ответы\", \"Тестовые данные/ответы\"],\n",
    "    loc=\"best\"\n",
    ")\n",
    "\n",
    "plt.show()\n"
   ]
  },
  {
   "cell_type": "code",
   "execution_count": 388,
   "id": "5a683b4a-1a8b-467d-add8-9c4db46fe699",
   "metadata": {},
   "outputs": [
    {
     "name": "stdout",
     "output_type": "stream",
     "text": [
      "Точность на обучающем наборе: 0.56\n",
      "Точность на тестовом наборе: 0.36\n"
     ]
    }
   ],
   "source": [
    "from sklearn.linear_model import LinearRegression\n",
    "X, y = diabetes.data, diabetes.target\n",
    "X_train, X_test, y_train, y_test = train_test_split(X,y, random_state = 0)\n",
    "lr = LinearRegression().fit(X_train, y_train)\n",
    "print(\"Точность на обучающем наборе: {:.2f}\".format(lr.score(X_train, y_train)))\n",
    "print(\"Точность на тестовом наборе: {:.2f}\".format(lr.score(X_test, y_test)))"
   ]
  },
  {
   "cell_type": "code",
   "execution_count": 389,
   "id": "96a4cd95-66a6-4b3d-af29-7e32a62b83b9",
   "metadata": {},
   "outputs": [
    {
     "name": "stdout",
     "output_type": "stream",
     "text": [
      "Точность на обучающем наборе: 0.46\n",
      "Точность на тестовом наборе: 0.36\n"
     ]
    }
   ],
   "source": [
    "from sklearn.linear_model import Ridge\n",
    "ridge = Ridge().fit(X_train, y_train)\n",
    "print(\"Точность на обучающем наборе: {:.2f}\".format(ridge.score(X_train, y_train)))\n",
    "print(\"Точность на тестовом наборе: {:.2f}\".format(ridge.score(X_test, y_test)))"
   ]
  },
  {
   "cell_type": "code",
   "execution_count": 390,
   "id": "97c05caf-eacc-4008-bb30-ded877c7a96f",
   "metadata": {},
   "outputs": [
    {
     "name": "stdout",
     "output_type": "stream",
     "text": [
      "Точность на обучающем наборе: 0.56\n",
      "Точность на тестовом наборе: 0.36\n"
     ]
    }
   ],
   "source": [
    "from sklearn.linear_model import Ridge\n",
    "ridge = Ridge(alpha = 0.000000001).fit(X_train, y_train)\n",
    "print(\"Точность на обучающем наборе: {:.2f}\".format(ridge.score(X_train, y_train)))\n",
    "print(\"Точность на тестовом наборе: {:.2f}\".format(ridge.score(X_test, y_test)))"
   ]
  },
  {
   "cell_type": "code",
   "execution_count": 391,
   "id": "b92deeb1-bd71-4e2a-a0e8-0261eef21785",
   "metadata": {},
   "outputs": [
    {
     "name": "stdout",
     "output_type": "stream",
     "text": [
      "Точность на обучающем наборе: 0.56\n",
      "Точность на тестовом наборе: 0.36\n"
     ]
    }
   ],
   "source": [
    "from sklearn.linear_model import Ridge\n",
    "ridge = Ridge(alpha = 0.0001).fit(X_train, y_train)\n",
    "print(\"Точность на обучающем наборе: {:.2f}\".format(ridge.score(X_train, y_train)))\n",
    "print(\"Точность на тестовом наборе: {:.2f}\".format(ridge.score(X_test, y_test)))"
   ]
  },
  {
   "cell_type": "code",
   "execution_count": 392,
   "id": "4013686f-f547-4f3e-bebe-8b6a058e6e2a",
   "metadata": {},
   "outputs": [
    {
     "name": "stdout",
     "output_type": "stream",
     "text": [
      "Точность на обучающем наборе: 0.55\n",
      "Точность на тестовом наборе: 0.36\n"
     ]
    }
   ],
   "source": [
    "from sklearn.linear_model import Ridge\n",
    "ridge01 = Ridge(alpha = 0.01).fit(X_train, y_train)\n",
    "print(\"Точность на обучающем наборе: {:.2f}\".format(ridge01.score(X_train, y_train)))\n",
    "print(\"Точность на тестовом наборе: {:.2f}\".format(ridge01.score(X_test, y_test)))"
   ]
  },
  {
   "cell_type": "code",
   "execution_count": 393,
   "id": "3362b2b5-9976-48b4-9832-e9d817bb7725",
   "metadata": {},
   "outputs": [
    {
     "name": "stdout",
     "output_type": "stream",
     "text": [
      "Точность на обучающем наборе: 0.46\n",
      "Точность на тестовом наборе: 0.36\n"
     ]
    }
   ],
   "source": [
    "from sklearn.linear_model import Ridge\n",
    "ridge = Ridge(alpha = 1).fit(X_train, y_train)\n",
    "print(\"Точность на обучающем наборе: {:.2f}\".format(ridge.score(X_train, y_train)))\n",
    "print(\"Точность на тестовом наборе: {:.2f}\".format(ridge.score(X_test, y_test)))"
   ]
  },
  {
   "cell_type": "code",
   "execution_count": 394,
   "id": "bf9f86db-5522-4122-9e04-a524f64c49ab",
   "metadata": {},
   "outputs": [
    {
     "name": "stdout",
     "output_type": "stream",
     "text": [
      "Точность на обучающем наборе: 0.17\n",
      "Точность на тестовом наборе: 0.14\n"
     ]
    }
   ],
   "source": [
    "from sklearn.linear_model import Ridge\n",
    "ridge10 = Ridge(alpha = 10).fit(X_train, y_train)\n",
    "print(\"Точность на обучающем наборе: {:.2f}\".format(ridge10.score(X_train, y_train)))\n",
    "print(\"Точность на тестовом наборе: {:.2f}\".format(ridge10.score(X_test, y_test)))"
   ]
  },
  {
   "cell_type": "code",
   "execution_count": 395,
   "id": "7ff663eb-6f5b-4459-8ddb-4fd2114b518a",
   "metadata": {},
   "outputs": [
    {
     "name": "stdout",
     "output_type": "stream",
     "text": [
      "Точность на обучающем наборе: 0.00\n",
      "Точность на тестовом наборе: -0.00\n"
     ]
    }
   ],
   "source": [
    "from sklearn.linear_model import Ridge\n",
    "ridge1000 = Ridge(alpha = 100000).fit(X_train, y_train)\n",
    "print(\"Точность на обучающем наборе: {:.2f}\".format(ridge1000.score(X_train, y_train)))\n",
    "print(\"Точность на тестовом наборе: {:.2f}\".format(ridge1000.score(X_test, y_test)))"
   ]
  },
  {
   "cell_type": "code",
   "execution_count": 396,
   "id": "2a030db8-af86-458c-9591-4607404a5e62",
   "metadata": {},
   "outputs": [
    {
     "data": {
      "image/png": "[encoded data removed]",
      "text/plain": [
       "<Figure size 640x480 with 1 Axes>"
      ]
     },
     "metadata": {},
     "output_type": "display_data"
    }
   ],
   "source": [
    "plt.plot(ridge.coef_, 's', label=\"Гребневая регрессия alpha=1\")\n",
    "plt.plot(ridge10.coef_, '^', label=\"Гребневая регрессия alpha=10\")  \n",
    "plt.plot(ridge01.coef_, 'v', label=\"Гребневая регрессия alpha=0.1\")\n",
    "plt.plot(lr.coef_, 'o', label=\"Линейная регрессия\")\n",
    "\n",
    "plt.xlabel(\"Индекс коэффициента\")\n",
    "plt.ylabel(\"Оценка коэффициента\")\n",
    "plt.hlines(0, 0, len(lr.coef_))\n",
    "plt.ylim(-25, 25)\n",
    "plt.legend()\n",
    "plt.show()"
   ]
  },
  {
   "cell_type": "code",
   "execution_count": 397,
   "id": "10fca733-3ff3-450e-911e-02bc4afadb34",
   "metadata": {},
   "outputs": [
    {
     "name": "stdout",
     "output_type": "stream",
     "text": [
      "Точность на обучающем наборе: 0.56\n",
      "Точность на тестовом наборе: 0.36\n",
      "Количество использованных признаков: 3\n"
     ]
    }
   ],
   "source": [
    "from sklearn.linear_model import Lasso\n",
    "lasso001 = Lasso(alpha = 0.0000001, max_iter=1000 ).fit(X_train, y_train)\n",
    "print(\"Точность на обучающем наборе: {:.2f}\".format(lasso001.score(X_train, y_train)))\n",
    "print(\"Точность на тестовом наборе: {:.2f}\".format(lasso001.score(X_test, y_test)))\n",
    "print(\"Количество использованных признаков: {}\".format(np.sum(lasso.coef_ !=0)))"
   ]
  },
  {
   "cell_type": "code",
   "execution_count": 398,
   "id": "48380b6f-286e-47bc-8d95-f41b21478fdc",
   "metadata": {},
   "outputs": [
    {
     "name": "stdout",
     "output_type": "stream",
     "text": [
      "Точность на обучающем наборе: 0.56\n",
      "Точность на тестовом наборе: 0.36\n",
      "Количество использованных признаков: 3\n"
     ]
    }
   ],
   "source": [
    "from sklearn.linear_model import Lasso\n",
    "lasso00001 = Lasso(alpha = 0.00001, max_iter=1000 ).fit(X_train, y_train)\n",
    "print(\"Точность на обучающем наборе: {:.2f}\".format(lasso00001.score(X_train, y_train)))\n",
    "print(\"Точность на тестовом наборе: {:.2f}\".format(lasso00001.score(X_test, y_test)))\n",
    "print(\"Количество использованных признаков: {}\".format(np.sum(lasso.coef_ !=0)))"
   ]
  },
  {
   "cell_type": "code",
   "execution_count": 399,
   "id": "39efff1e-e7bb-4c7d-b40f-b785752918da",
   "metadata": {},
   "outputs": [
    {
     "name": "stdout",
     "output_type": "stream",
     "text": [
      "Точность на обучающем наборе: 0.41\n",
      "Точность на тестовом наборе: 0.28\n",
      "Количество использованных признаков: 2\n"
     ]
    }
   ],
   "source": [
    "from sklearn.linear_model import Lasso\n",
    "lasso = Lasso(alpha = 1, max_iter=1000 ).fit(X_train, y_train)\n",
    "print(\"Точность на обучающем наборе: {:.2f}\".format(lasso.score(X_train, y_train)))\n",
    "print(\"Точность на тестовом наборе: {:.2f}\".format(lasso.score(X_test, y_test)))\n",
    "print(\"Количество использованных признаков: {}\".format(np.sum(lasso.coef_ !=0)))"
   ]
  },
  {
   "cell_type": "code",
   "execution_count": 400,
   "id": "aee5f043-fe09-4b7b-ae85-598f293c6d08",
   "metadata": {},
   "outputs": [
    {
     "name": "stdout",
     "output_type": "stream",
     "text": [
      "Точность на обучающем наборе: 0.00\n",
      "Точность на тестовом наборе: -0.00\n",
      "Количество использованных признаков: 0\n"
     ]
    }
   ],
   "source": [
    "from sklearn.linear_model import Lasso\n",
    "lasso = Lasso(alpha = 1000000, max_iter=1000 ).fit(X_train, y_train)\n",
    "print(\"Точность на обучающем наборе: {:.2f}\".format(lasso.score(X_train, y_train)))\n",
    "print(\"Точность на тестовом наборе: {:.2f}\".format(lasso.score(X_test, y_test)))\n",
    "print(\"Количество использованных признаков: {}\".format(np.sum(lasso.coef_ !=0)))"
   ]
  },
  {
   "cell_type": "code",
   "execution_count": 401,
   "id": "2183fb13-957f-48cb-8a9c-c5cb22779adc",
   "metadata": {},
   "outputs": [
    {
     "data": {
      "image/png": "[encoded data removed]",
      "text/plain": [
       "<Figure size 640x480 with 1 Axes>"
      ]
     },
     "metadata": {},
     "output_type": "display_data"
    }
   ],
   "source": [
    "\n",
    "plt.plot(lasso.coef_, 's', label='Лассо alpha=1', color='blue')\n",
    "plt.plot(lasso001.coef_, '^', label='Лассо alpha=0.01', color='green')\n",
    "plt.plot(lasso00001.coef_, 'v', label='Лассо alpha=0.0001', color='red')\n",
    "plt.plot(ridge01.coef_, 'o', label='Гребневая реграссия alpha=0.1', color='orange')\n",
    "\n",
    "plt.title(\"Сравнение коэффициентов регрессии Lasso и Ridge\")\n",
    "plt.legend(loc='upper right')\n",
    "plt.grid(True)\n",
    "plt.xlabel(\"Индекс коэффициента\")\n",
    "plt.ylabel(\"Значение коэффициента\")\n",
    "plt.ylim(-25, 25)\n",
    "\n",
    "\n",
    "plt.show()"
   ]
  },
  {
   "cell_type": "code",
   "execution_count": 452,
   "id": "4dc42878-9e04-493a-a6e5-ada9ac9c426e",
   "metadata": {},
   "outputs": [
    {
     "name": "stdout",
     "output_type": "stream",
     "text": [
      "Правильность на обучающем наборе: 0.733\n",
      "Правильность на тестовом наборе: 0.400\n"
     ]
    }
   ],
   "source": [
    "from sklearn.linear_model import LogisticRegression\n",
    "logreg = LogisticRegression().fit(X_train, y_train)\n",
    "print(\"Правильность на обучающем наборе: {:.3f}\".format(logreg.score(X_train, y_train)))\n",
    "print(\"Правильность на тестовом наборе: {:.3f}\".format(logreg.score(X_test, y_test)))"
   ]
  },
  {
   "cell_type": "code",
   "execution_count": 453,
   "id": "7f7e101d-5146-422b-840b-969a7696fd72",
   "metadata": {},
   "outputs": [
    {
     "name": "stdout",
     "output_type": "stream",
     "text": [
      "Правильность на обучающем наборе: 0.600\n",
      "Правильность на тестовом наборе: 0.400\n"
     ]
    }
   ],
   "source": [
    "from sklearn.linear_model import LogisticRegression\n",
    "logreg = LogisticRegression(C=0.000001).fit(X_train, y_train)\n",
    "print(\"Правильность на обучающем наборе: {:.3f}\".format(logreg.score(X_train, y_train)))\n",
    "print(\"Правильность на тестовом наборе: {:.3f}\".format(logreg.score(X_test, y_test)))"
   ]
  },
  {
   "cell_type": "code",
   "execution_count": 454,
   "id": "2f5866ff-7e1f-4ad3-a8f0-7eb6909ac315",
   "metadata": {},
   "outputs": [
    {
     "name": "stdout",
     "output_type": "stream",
     "text": [
      "Правильность на обучающем наборе: 0.733\n",
      "Правильность на тестовом наборе: 0.400\n"
     ]
    }
   ],
   "source": [
    "from sklearn.linear_model import LogisticRegression\n",
    "logreg10 = LogisticRegression(C=10).fit(X_train, y_train)\n",
    "print(\"Правильность на обучающем наборе: {:.3f}\".format(logreg10.score(X_train, y_train)))\n",
    "print(\"Правильность на тестовом наборе: {:.3f}\".format(logreg10.score(X_test, y_test)))"
   ]
  },
  {
   "cell_type": "code",
   "execution_count": 455,
   "id": "ffbd0273-1fd2-45e0-bd40-a323bab2d7da",
   "metadata": {},
   "outputs": [
    {
     "name": "stdout",
     "output_type": "stream",
     "text": [
      "Правильность на обучающем наборе: 0.733\n",
      "Правильность на тестовом наборе: 0.400\n"
     ]
    }
   ],
   "source": [
    "from sklearn.linear_model import LogisticRegression\n",
    "logreg100 = LogisticRegression(C=1000000000).fit(X_train, y_train)\n",
    "print(\"Правильность на обучающем наборе: {:.3f}\".format(logreg100.score(X_train, y_train)))\n",
    "print(\"Правильность на тестовом наборе: {:.3f}\".format(logreg100.score(X_test, y_test)))"
   ]
  },
  {
   "cell_type": "markdown",
   "id": "0c88dbd1-ec59-45a8-8cdc-f78adb22affe",
   "metadata": {},
   "source": [
    "Мы почти нулевую правильность на тестовом наборе, моя догадка в том, что логистическая регрессия нужна для решения задачи классификации, а не для предсказания, данный дата сет не классифицирован поэтому возникают проблемы с решенеием, давайте разделем дата сет на две категории по среднему значению."
   ]
  },
  {
   "cell_type": "code",
   "execution_count": 406,
   "id": "50aed83e-62c7-4018-94ce-de5e74b5654b",
   "metadata": {},
   "outputs": [
    {
     "name": "stdout",
     "output_type": "stream",
     "text": [
      "Правильность на обучающем наборе (diabetes): 0.725\n",
      "Правильность на тестовом наборе (diabetes): 0.757\n"
     ]
    }
   ],
   "source": [
    "from sklearn.preprocessing import Binarizer\n",
    "\n",
    "\n",
    "\n",
    "\n",
    "mean_threshold = np.mean(diabetes.target)\n",
    "binarizer = Binarizer(threshold=mean_threshold)\n",
    "y_diabetes_binary = binarizer.fit_transform(diabetes.target.reshape(-1, 1)).ravel()\n",
    "\n",
    "\n",
    "X_train, X_test, y_train, y_test = train_test_split(\n",
    "    diabetes.data, y_diabetes_binary, random_state=42\n",
    ")\n",
    "\n",
    "\n",
    "logreg = LogisticRegression(max_iter=1000).fit(X_train, y_train)\n",
    "print(\"Правильность на обучающем наборе (diabetes): {:.3f}\".format(logreg.score(X_train, y_train)))\n",
    "print(\"Правильность на тестовом наборе (diabetes): {:.3f}\".format(logreg.score(X_test, y_test)))"
   ]
  },
  {
   "cell_type": "code",
   "execution_count": 407,
   "id": "df548825-dc5e-4106-8713-f219ffcb6ac7",
   "metadata": {},
   "outputs": [
    {
     "name": "stdout",
     "output_type": "stream",
     "text": [
      "Правильность на обучающем наборе (diabetes): 0.743\n",
      "Правильность на тестовом наборе (diabetes): 0.748\n"
     ]
    }
   ],
   "source": [
    "logreg1000 = LogisticRegression(C=1000, max_iter=1000).fit(X_train, y_train)\n",
    "print(\"Правильность на обучающем наборе (diabetes): {:.3f}\".format(logreg1000.score(X_train, y_train)))\n",
    "print(\"Правильность на тестовом наборе (diabetes): {:.3f}\".format(logreg1000.score(X_test, y_test)))"
   ]
  },
  {
   "cell_type": "code",
   "execution_count": 408,
   "id": "432c15c6-2edd-43c5-9109-8b2a417612f0",
   "metadata": {},
   "outputs": [
    {
     "name": "stdout",
     "output_type": "stream",
     "text": [
      "Правильность на обучающем наборе (diabetes): 0.734\n",
      "Правильность на тестовом наборе (diabetes): 0.775\n"
     ]
    }
   ],
   "source": [
    "logreg100000 = LogisticRegression(C=100000, max_iter=1000).fit(X_train, y_train)\n",
    "print(\"Правильность на обучающем наборе (diabetes): {:.3f}\".format(logreg100000.score(X_train, y_train)))\n",
    "print(\"Правильность на тестовом наборе (diabetes): {:.3f}\".format(logreg100000.score(X_test, y_test)))"
   ]
  },
  {
   "cell_type": "code",
   "execution_count": 409,
   "id": "af80ab0e-685f-47ef-981f-055f03633f06",
   "metadata": {},
   "outputs": [
    {
     "name": "stdout",
     "output_type": "stream",
     "text": [
      "Правильность на обучающем наборе (diabetes): 0.553\n",
      "Правильность на тестовом наборе (diabetes): 0.577\n"
     ]
    }
   ],
   "source": [
    "logreg00001 = LogisticRegression(C=0.00001, max_iter=1000).fit(X_train, y_train)\n",
    "print(\"Правильность на обучающем наборе (diabetes): {:.3f}\".format(logreg00001.score(X_train, y_train)))\n",
    "print(\"Правильность на тестовом наборе (diabetes): {:.3f}\".format(logreg00001.score(X_test, y_test)))"
   ]
  },
  {
   "cell_type": "code",
   "execution_count": 410,
   "id": "25178b80-db4e-4fe4-a1d3-d9b27f328574",
   "metadata": {},
   "outputs": [
    {
     "name": "stdout",
     "output_type": "stream",
     "text": [
      "Правильность на обучающем наборе (diabetes): 0.553\n",
      "Правильность на тестовом наборе (diabetes): 0.577\n"
     ]
    }
   ],
   "source": [
    "logreg001 = LogisticRegression(C=0.001, max_iter=1000).fit(X_train, y_train)\n",
    "print(\"Правильность на обучающем наборе (diabetes): {:.3f}\".format(logreg001.score(X_train, y_train)))\n",
    "print(\"Правильность на тестовом наборе (diabetes): {:.3f}\".format(logreg001.score(X_test, y_test)))"
   ]
  },
  {
   "cell_type": "code",
   "execution_count": 411,
   "id": "86d927f9-7323-4e3d-b9b5-bef6301b7cf5",
   "metadata": {},
   "outputs": [
    {
     "name": "stdout",
     "output_type": "stream",
     "text": [
      "Правильность на обучающем наборе (diabetes): 0.553\n",
      "Правильность на тестовом наборе (diabetes): 0.577\n"
     ]
    }
   ],
   "source": [
    "logreg01 = LogisticRegression(C=0.01, max_iter=1000).fit(X_train, y_train)\n",
    "print(\"Правильность на обучающем наборе (diabetes): {:.3f}\".format(logreg01.score(X_train, y_train)))\n",
    "print(\"Правильность на тестовом наборе (diabetes): {:.3f}\".format(logreg01.score(X_test, y_test)))"
   ]
  },
  {
   "cell_type": "code",
   "execution_count": 412,
   "id": "42c054f1-2941-4791-a181-8b0d2eeaa9cb",
   "metadata": {},
   "outputs": [
    {
     "data": {
      "image/png": "[encoded data removed]",
      "text/plain": [
       "<Figure size 640x480 with 1 Axes>"
      ]
     },
     "metadata": {},
     "output_type": "display_data"
    }
   ],
   "source": [
    "plt.plot(logreg.coef_.T, 'o', label='C=1')\n",
    "plt.plot(logreg1000.coef_.T, '^', label='C=1000')\n",
    "plt.plot(logreg001.coef_.T, 'v', label='C=0.001')\n",
    "\n",
    "plt.xticks(range(diabetes.data.shape[1]), diabetes.feature_names, rotation=90)\n",
    "plt.hlines(0, 0, diabetes.data.shape[1])\n",
    "plt.ylim(-5, 5)\n",
    "\n",
    "plt.xlabel(\"Индекс\")\n",
    "plt.ylabel(\"Оценка коэффициента\")\n",
    "plt.legend()\n",
    "\n",
    "plt.show()\n"
   ]
  },
  {
   "cell_type": "markdown",
   "id": "ccf1f4d6-2542-4739-94f2-b4632b0d883d",
   "metadata": {},
   "source": [
    "Вывод который можно сделать после изучения данного дата сета, что он крайне плохо подходит, для того чтобы по нему предсказывать данные любым способом\n",
    "регрессии. Наивысшую точность которую удалось получить путем Ridge,Lasso и простой линейной регресиией 0.36 причем параметры альфа от 0.001 до 1 дают приблизительно похожие результаты, в то время как поднятие альфа на значение больше 100 дает плохие результаты, остальные виды регресии не дали дажи таких результатов (при десяти соседях точность 0.26, при более маленьком числе соседей, точность падает), но все равно предсказывать что-то по такому датасету регрессие не стоит, посклольку шанс успеха крайне низок.\n",
    "Что касается логистической регрессии, то разделив наша дата сет на два класса (больше и меньше среднего значения), то тут уже успехи предсказания в какой класс попадет значение из тестового набора уже в разы лучше при C>=1 можно получит до 0.77 точности прогноза, что не намного лучше предсказаний регрессией, то есть предсказывая получим ли мы значение выше среднего или  ниже мы имеем горазда большие шансы на успех, но все равно с большой вероятностью ошибки"
   ]
  },
  {
   "cell_type": "code",
   "execution_count": 413,
   "id": "04d04bd6-4fa9-4326-adb0-38333758cba2",
   "metadata": {},
   "outputs": [],
   "source": [
    "from sklearn.datasets import load_linnerud\n",
    "linnerud = load_linnerud()\n"
   ]
  },
  {
   "cell_type": "code",
   "execution_count": 414,
   "id": "771be81a-10da-4065-b994-c63467339eed",
   "metadata": {},
   "outputs": [
    {
     "name": "stdout",
     "output_type": "stream",
     "text": [
      "dict_keys(['data', 'feature_names', 'target', 'target_names', 'frame', 'DESCR', 'data_filename', 'target_filename', 'data_module'])\n",
      "['Chins', 'Situps', 'Jumps']\n",
      "['Weight', 'Waist', 'Pulse']\n"
     ]
    }
   ],
   "source": [
    "print(linnerud.keys())\n",
    "print(format(linnerud[\"feature_names\"]))\n",
    "print(format(linnerud[\"target_names\"]))"
   ]
  },
  {
   "cell_type": "markdown",
   "id": "12278a5f-5253-4ba0-a2b6-afbc1a9993fe",
   "metadata": {},
   "source": [
    "как мы видим датасет пытается предсказать вес, обьем талии и пульс имея в признаках количество подтягиваний, приседаний и прыжков. Все виды регрессии пытаются предсказать какое то значени target по признаком, но по скольку в нашем случае целевая переменная это таблица из трех столбцов, то для выполнения работы я выберу первый столбец и дальше буду предсказывать данные по регресси конкретно для веса основанный на признаках."
   ]
  },
  {
   "cell_type": "code",
   "execution_count": 415,
   "id": "714c03ac-2bbb-45ed-aba0-8435f5a4e0ba",
   "metadata": {},
   "outputs": [
    {
     "data": {
      "text/html": [
       "<style>#sk-container-id-22 {\n",
       "  /* Definition of color scheme common for light and dark mode */\n",
       "  --sklearn-color-text: black;\n",
       "  --sklearn-color-line: gray;\n",
       "  /* Definition of color scheme for unfitted estimators */\n",
       "  --sklearn-color-unfitted-level-0: #fff5e6;\n",
       "  --sklearn-color-unfitted-level-1: #f6e4d2;\n",
       "  --sklearn-color-unfitted-level-2: #ffe0b3;\n",
       "  --sklearn-color-unfitted-level-3: chocolate;\n",
       "  /* Definition of color scheme for fitted estimators */\n",
       "  --sklearn-color-fitted-level-0: #f0f8ff;\n",
       "  --sklearn-color-fitted-level-1: #d4ebff;\n",
       "  --sklearn-color-fitted-level-2: #b3dbfd;\n",
       "  --sklearn-color-fitted-level-3: cornflowerblue;\n",
       "\n",
       "  /* Specific color for light theme */\n",
       "  --sklearn-color-text-on-default-background: var(--sg-text-color, var(--theme-code-foreground, var(--jp-content-font-color1, black)));\n",
       "  --sklearn-color-background: var(--sg-background-color, var(--theme-background, var(--jp-layout-color0, white)));\n",
       "  --sklearn-color-border-box: var(--sg-text-color, var(--theme-code-foreground, var(--jp-content-font-color1, black)));\n",
       "  --sklearn-color-icon: #696969;\n",
       "\n",
       "  @media (prefers-color-scheme: dark) {\n",
       "    /* Redefinition of color scheme for dark theme */\n",
       "    --sklearn-color-text-on-default-background: var(--sg-text-color, var(--theme-code-foreground, var(--jp-content-font-color1, white)));\n",
       "    --sklearn-color-background: var(--sg-background-color, var(--theme-background, var(--jp-layout-color0, #111)));\n",
       "    --sklearn-color-border-box: var(--sg-text-color, var(--theme-code-foreground, var(--jp-content-font-color1, white)));\n",
       "    --sklearn-color-icon: #878787;\n",
       "  }\n",
       "}\n",
       "\n",
       "#sk-container-id-22 {\n",
       "  color: var(--sklearn-color-text);\n",
       "}\n",
       "\n",
       "#sk-container-id-22 pre {\n",
       "  padding: 0;\n",
       "}\n",
       "\n",
       "#sk-container-id-22 input.sk-hidden--visually {\n",
       "  border: 0;\n",
       "  clip: rect(1px 1px 1px 1px);\n",
       "  clip: rect(1px, 1px, 1px, 1px);\n",
       "  height: 1px;\n",
       "  margin: -1px;\n",
       "  overflow: hidden;\n",
       "  padding: 0;\n",
       "  position: absolute;\n",
       "  width: 1px;\n",
       "}\n",
       "\n",
       "#sk-container-id-22 div.sk-dashed-wrapped {\n",
       "  border: 1px dashed var(--sklearn-color-line);\n",
       "  margin: 0 0.4em 0.5em 0.4em;\n",
       "  box-sizing: border-box;\n",
       "  padding-bottom: 0.4em;\n",
       "  background-color: var(--sklearn-color-background);\n",
       "}\n",
       "\n",
       "#sk-container-id-22 div.sk-container {\n",
       "  /* jupyter's `normalize.less` sets `[hidden] { display: none; }`\n",
       "     but bootstrap.min.css set `[hidden] { display: none !important; }`\n",
       "     so we also need the `!important` here to be able to override the\n",
       "     default hidden behavior on the sphinx rendered scikit-learn.org.\n",
       "     See: https://github.com/scikit-learn/scikit-learn/issues/21755 */\n",
       "  display: inline-block !important;\n",
       "  position: relative;\n",
       "}\n",
       "\n",
       "#sk-container-id-22 div.sk-text-repr-fallback {\n",
       "  display: none;\n",
       "}\n",
       "\n",
       "div.sk-parallel-item,\n",
       "div.sk-serial,\n",
       "div.sk-item {\n",
       "  /* draw centered vertical line to link estimators */\n",
       "  background-image: linear-gradient(var(--sklearn-color-text-on-default-background), var(--sklearn-color-text-on-default-background));\n",
       "  background-size: 2px 100%;\n",
       "  background-repeat: no-repeat;\n",
       "  background-position: center center;\n",
       "}\n",
       "\n",
       "/* Parallel-specific style estimator block */\n",
       "\n",
       "#sk-container-id-22 div.sk-parallel-item::after {\n",
       "  content: \"\";\n",
       "  width: 100%;\n",
       "  border-bottom: 2px solid var(--sklearn-color-text-on-default-background);\n",
       "  flex-grow: 1;\n",
       "}\n",
       "\n",
       "#sk-container-id-22 div.sk-parallel {\n",
       "  display: flex;\n",
       "  align-items: stretch;\n",
       "  justify-content: center;\n",
       "  background-color: var(--sklearn-color-background);\n",
       "  position: relative;\n",
       "}\n",
       "\n",
       "#sk-container-id-22 div.sk-parallel-item {\n",
       "  display: flex;\n",
       "  flex-direction: column;\n",
       "}\n",
       "\n",
       "#sk-container-id-22 div.sk-parallel-item:first-child::after {\n",
       "  align-self: flex-end;\n",
       "  width: 50%;\n",
       "}\n",
       "\n",
       "#sk-container-id-22 div.sk-parallel-item:last-child::after {\n",
       "  align-self: flex-start;\n",
       "  width: 50%;\n",
       "}\n",
       "\n",
       "#sk-container-id-22 div.sk-parallel-item:only-child::after {\n",
       "  width: 0;\n",
       "}\n",
       "\n",
       "/* Serial-specific style estimator block */\n",
       "\n",
       "#sk-container-id-22 div.sk-serial {\n",
       "  display: flex;\n",
       "  flex-direction: column;\n",
       "  align-items: center;\n",
       "  background-color: var(--sklearn-color-background);\n",
       "  padding-right: 1em;\n",
       "  padding-left: 1em;\n",
       "}\n",
       "\n",
       "\n",
       "/* Toggleable style: style used for estimator/Pipeline/ColumnTransformer box that is\n",
       "clickable and can be expanded/collapsed.\n",
       "- Pipeline and ColumnTransformer use this feature and define the default style\n",
       "- Estimators will overwrite some part of the style using the `sk-estimator` class\n",
       "*/\n",
       "\n",
       "/* Pipeline and ColumnTransformer style (default) */\n",
       "\n",
       "#sk-container-id-22 div.sk-toggleable {\n",
       "  /* Default theme specific background. It is overwritten whether we have a\n",
       "  specific estimator or a Pipeline/ColumnTransformer */\n",
       "  background-color: var(--sklearn-color-background);\n",
       "}\n",
       "\n",
       "/* Toggleable label */\n",
       "#sk-container-id-22 label.sk-toggleable__label {\n",
       "  cursor: pointer;\n",
       "  display: block;\n",
       "  width: 100%;\n",
       "  margin-bottom: 0;\n",
       "  padding: 0.5em;\n",
       "  box-sizing: border-box;\n",
       "  text-align: center;\n",
       "}\n",
       "\n",
       "#sk-container-id-22 label.sk-toggleable__label-arrow:before {\n",
       "  /* Arrow on the left of the label */\n",
       "  content: \"▸\";\n",
       "  float: left;\n",
       "  margin-right: 0.25em;\n",
       "  color: var(--sklearn-color-icon);\n",
       "}\n",
       "\n",
       "#sk-container-id-22 label.sk-toggleable__label-arrow:hover:before {\n",
       "  color: var(--sklearn-color-text);\n",
       "}\n",
       "\n",
       "/* Toggleable content - dropdown */\n",
       "\n",
       "#sk-container-id-22 div.sk-toggleable__content {\n",
       "  max-height: 0;\n",
       "  max-width: 0;\n",
       "  overflow: hidden;\n",
       "  text-align: left;\n",
       "  /* unfitted */\n",
       "  background-color: var(--sklearn-color-unfitted-level-0);\n",
       "}\n",
       "\n",
       "#sk-container-id-22 div.sk-toggleable__content.fitted {\n",
       "  /* fitted */\n",
       "  background-color: var(--sklearn-color-fitted-level-0);\n",
       "}\n",
       "\n",
       "#sk-container-id-22 div.sk-toggleable__content pre {\n",
       "  margin: 0.2em;\n",
       "  border-radius: 0.25em;\n",
       "  color: var(--sklearn-color-text);\n",
       "  /* unfitted */\n",
       "  background-color: var(--sklearn-color-unfitted-level-0);\n",
       "}\n",
       "\n",
       "#sk-container-id-22 div.sk-toggleable__content.fitted pre {\n",
       "  /* unfitted */\n",
       "  background-color: var(--sklearn-color-fitted-level-0);\n",
       "}\n",
       "\n",
       "#sk-container-id-22 input.sk-toggleable__control:checked~div.sk-toggleable__content {\n",
       "  /* Expand drop-down */\n",
       "  max-height: 200px;\n",
       "  max-width: 100%;\n",
       "  overflow: auto;\n",
       "}\n",
       "\n",
       "#sk-container-id-22 input.sk-toggleable__control:checked~label.sk-toggleable__label-arrow:before {\n",
       "  content: \"▾\";\n",
       "}\n",
       "\n",
       "/* Pipeline/ColumnTransformer-specific style */\n",
       "\n",
       "#sk-container-id-22 div.sk-label input.sk-toggleable__control:checked~label.sk-toggleable__label {\n",
       "  color: var(--sklearn-color-text);\n",
       "  background-color: var(--sklearn-color-unfitted-level-2);\n",
       "}\n",
       "\n",
       "#sk-container-id-22 div.sk-label.fitted input.sk-toggleable__control:checked~label.sk-toggleable__label {\n",
       "  background-color: var(--sklearn-color-fitted-level-2);\n",
       "}\n",
       "\n",
       "/* Estimator-specific style */\n",
       "\n",
       "/* Colorize estimator box */\n",
       "#sk-container-id-22 div.sk-estimator input.sk-toggleable__control:checked~label.sk-toggleable__label {\n",
       "  /* unfitted */\n",
       "  background-color: var(--sklearn-color-unfitted-level-2);\n",
       "}\n",
       "\n",
       "#sk-container-id-22 div.sk-estimator.fitted input.sk-toggleable__control:checked~label.sk-toggleable__label {\n",
       "  /* fitted */\n",
       "  background-color: var(--sklearn-color-fitted-level-2);\n",
       "}\n",
       "\n",
       "#sk-container-id-22 div.sk-label label.sk-toggleable__label,\n",
       "#sk-container-id-22 div.sk-label label {\n",
       "  /* The background is the default theme color */\n",
       "  color: var(--sklearn-color-text-on-default-background);\n",
       "}\n",
       "\n",
       "/* On hover, darken the color of the background */\n",
       "#sk-container-id-22 div.sk-label:hover label.sk-toggleable__label {\n",
       "  color: var(--sklearn-color-text);\n",
       "  background-color: var(--sklearn-color-unfitted-level-2);\n",
       "}\n",
       "\n",
       "/* Label box, darken color on hover, fitted */\n",
       "#sk-container-id-22 div.sk-label.fitted:hover label.sk-toggleable__label.fitted {\n",
       "  color: var(--sklearn-color-text);\n",
       "  background-color: var(--sklearn-color-fitted-level-2);\n",
       "}\n",
       "\n",
       "/* Estimator label */\n",
       "\n",
       "#sk-container-id-22 div.sk-label label {\n",
       "  font-family: monospace;\n",
       "  font-weight: bold;\n",
       "  display: inline-block;\n",
       "  line-height: 1.2em;\n",
       "}\n",
       "\n",
       "#sk-container-id-22 div.sk-label-container {\n",
       "  text-align: center;\n",
       "}\n",
       "\n",
       "/* Estimator-specific */\n",
       "#sk-container-id-22 div.sk-estimator {\n",
       "  font-family: monospace;\n",
       "  border: 1px dotted var(--sklearn-color-border-box);\n",
       "  border-radius: 0.25em;\n",
       "  box-sizing: border-box;\n",
       "  margin-bottom: 0.5em;\n",
       "  /* unfitted */\n",
       "  background-color: var(--sklearn-color-unfitted-level-0);\n",
       "}\n",
       "\n",
       "#sk-container-id-22 div.sk-estimator.fitted {\n",
       "  /* fitted */\n",
       "  background-color: var(--sklearn-color-fitted-level-0);\n",
       "}\n",
       "\n",
       "/* on hover */\n",
       "#sk-container-id-22 div.sk-estimator:hover {\n",
       "  /* unfitted */\n",
       "  background-color: var(--sklearn-color-unfitted-level-2);\n",
       "}\n",
       "\n",
       "#sk-container-id-22 div.sk-estimator.fitted:hover {\n",
       "  /* fitted */\n",
       "  background-color: var(--sklearn-color-fitted-level-2);\n",
       "}\n",
       "\n",
       "/* Specification for estimator info (e.g. \"i\" and \"?\") */\n",
       "\n",
       "/* Common style for \"i\" and \"?\" */\n",
       "\n",
       ".sk-estimator-doc-link,\n",
       "a:link.sk-estimator-doc-link,\n",
       "a:visited.sk-estimator-doc-link {\n",
       "  float: right;\n",
       "  font-size: smaller;\n",
       "  line-height: 1em;\n",
       "  font-family: monospace;\n",
       "  background-color: var(--sklearn-color-background);\n",
       "  border-radius: 1em;\n",
       "  height: 1em;\n",
       "  width: 1em;\n",
       "  text-decoration: none !important;\n",
       "  margin-left: 1ex;\n",
       "  /* unfitted */\n",
       "  border: var(--sklearn-color-unfitted-level-1) 1pt solid;\n",
       "  color: var(--sklearn-color-unfitted-level-1);\n",
       "}\n",
       "\n",
       ".sk-estimator-doc-link.fitted,\n",
       "a:link.sk-estimator-doc-link.fitted,\n",
       "a:visited.sk-estimator-doc-link.fitted {\n",
       "  /* fitted */\n",
       "  border: var(--sklearn-color-fitted-level-1) 1pt solid;\n",
       "  color: var(--sklearn-color-fitted-level-1);\n",
       "}\n",
       "\n",
       "/* On hover */\n",
       "div.sk-estimator:hover .sk-estimator-doc-link:hover,\n",
       ".sk-estimator-doc-link:hover,\n",
       "div.sk-label-container:hover .sk-estimator-doc-link:hover,\n",
       ".sk-estimator-doc-link:hover {\n",
       "  /* unfitted */\n",
       "  background-color: var(--sklearn-color-unfitted-level-3);\n",
       "  color: var(--sklearn-color-background);\n",
       "  text-decoration: none;\n",
       "}\n",
       "\n",
       "div.sk-estimator.fitted:hover .sk-estimator-doc-link.fitted:hover,\n",
       ".sk-estimator-doc-link.fitted:hover,\n",
       "div.sk-label-container:hover .sk-estimator-doc-link.fitted:hover,\n",
       ".sk-estimator-doc-link.fitted:hover {\n",
       "  /* fitted */\n",
       "  background-color: var(--sklearn-color-fitted-level-3);\n",
       "  color: var(--sklearn-color-background);\n",
       "  text-decoration: none;\n",
       "}\n",
       "\n",
       "/* Span, style for the box shown on hovering the info icon */\n",
       ".sk-estimator-doc-link span {\n",
       "  display: none;\n",
       "  z-index: 9999;\n",
       "  position: relative;\n",
       "  font-weight: normal;\n",
       "  right: .2ex;\n",
       "  padding: .5ex;\n",
       "  margin: .5ex;\n",
       "  width: min-content;\n",
       "  min-width: 20ex;\n",
       "  max-width: 50ex;\n",
       "  color: var(--sklearn-color-text);\n",
       "  box-shadow: 2pt 2pt 4pt #999;\n",
       "  /* unfitted */\n",
       "  background: var(--sklearn-color-unfitted-level-0);\n",
       "  border: .5pt solid var(--sklearn-color-unfitted-level-3);\n",
       "}\n",
       "\n",
       ".sk-estimator-doc-link.fitted span {\n",
       "  /* fitted */\n",
       "  background: var(--sklearn-color-fitted-level-0);\n",
       "  border: var(--sklearn-color-fitted-level-3);\n",
       "}\n",
       "\n",
       ".sk-estimator-doc-link:hover span {\n",
       "  display: block;\n",
       "}\n",
       "\n",
       "/* \"?\"-specific style due to the `<a>` HTML tag */\n",
       "\n",
       "#sk-container-id-22 a.estimator_doc_link {\n",
       "  float: right;\n",
       "  font-size: 1rem;\n",
       "  line-height: 1em;\n",
       "  font-family: monospace;\n",
       "  background-color: var(--sklearn-color-background);\n",
       "  border-radius: 1rem;\n",
       "  height: 1rem;\n",
       "  width: 1rem;\n",
       "  text-decoration: none;\n",
       "  /* unfitted */\n",
       "  color: var(--sklearn-color-unfitted-level-1);\n",
       "  border: var(--sklearn-color-unfitted-level-1) 1pt solid;\n",
       "}\n",
       "\n",
       "#sk-container-id-22 a.estimator_doc_link.fitted {\n",
       "  /* fitted */\n",
       "  border: var(--sklearn-color-fitted-level-1) 1pt solid;\n",
       "  color: var(--sklearn-color-fitted-level-1);\n",
       "}\n",
       "\n",
       "/* On hover */\n",
       "#sk-container-id-22 a.estimator_doc_link:hover {\n",
       "  /* unfitted */\n",
       "  background-color: var(--sklearn-color-unfitted-level-3);\n",
       "  color: var(--sklearn-color-background);\n",
       "  text-decoration: none;\n",
       "}\n",
       "\n",
       "#sk-container-id-22 a.estimator_doc_link.fitted:hover {\n",
       "  /* fitted */\n",
       "  background-color: var(--sklearn-color-fitted-level-3);\n",
       "}\n",
       "</style><div id=\"sk-container-id-22\" class=\"sk-top-container\"><div class=\"sk-text-repr-fallback\"><pre>KNeighborsRegressor(n_neighbors=7)</pre><b>In a Jupyter environment, please rerun this cell to show the HTML representation or trust the notebook. <br />On GitHub, the HTML representation is unable to render, please try loading this page with nbviewer.org.</b></div><div class=\"sk-container\" hidden><div class=\"sk-item\"><div class=\"sk-estimator fitted sk-toggleable\"><input class=\"sk-toggleable__control sk-hidden--visually\" id=\"sk-estimator-id-22\" type=\"checkbox\" checked><label for=\"sk-estimator-id-22\" class=\"sk-toggleable__label fitted sk-toggleable__label-arrow fitted\">&nbsp;&nbsp;KNeighborsRegressor<a class=\"sk-estimator-doc-link fitted\" rel=\"noreferrer\" target=\"_blank\" href=\"https://scikit-learn.org/1.5/modules/generated/sklearn.neighbors.KNeighborsRegressor.html\">?<span>Documentation for KNeighborsRegressor</span></a><span class=\"sk-estimator-doc-link fitted\">i<span>Fitted</span></span></label><div class=\"sk-toggleable__content fitted\"><pre>KNeighborsRegressor(n_neighbors=7)</pre></div> </div></div></div></div>"
      ],
      "text/plain": [
       "KNeighborsRegressor(n_neighbors=7)"
      ]
     },
     "execution_count": 415,
     "metadata": {},
     "output_type": "execute_result"
    }
   ],
   "source": [
    "X, y = linnerud.data, linnerud.target[:, 0] \n",
    "X_train, X_test, y_train, y_test = train_test_split(X,y, random_state = 0)\n",
    "reg = KNeighborsRegressor(n_neighbors = 7)\n",
    "reg.fit(X_train, y_train)"
   ]
  },
  {
   "cell_type": "code",
   "execution_count": 416,
   "id": "79559354-5fd8-4017-be31-1ccc49ce11f1",
   "metadata": {},
   "outputs": [
    {
     "name": "stdout",
     "output_type": "stream",
     "text": [
      "[175.14285714 185.28571429 182.85714286 175.14285714 185.        ]\n"
     ]
    }
   ],
   "source": [
    "print(format(reg.predict(X_test)))"
   ]
  },
  {
   "cell_type": "code",
   "execution_count": 417,
   "id": "6441aeb2-1f2d-48ab-8c5f-401a2bc67a84",
   "metadata": {},
   "outputs": [
    {
     "name": "stdout",
     "output_type": "stream",
     "text": [
      "-0.7414822884189178\n"
     ]
    }
   ],
   "source": [
    "print(format(reg.score(X_test, y_test)))"
   ]
  },
  {
   "cell_type": "code",
   "execution_count": null,
   "id": "a8ac93af-e831-4554-8d6e-33b634d76b31",
   "metadata": {},
   "outputs": [],
   "source": []
  },
  {
   "cell_type": "code",
   "execution_count": 418,
   "id": "b47760ee-0187-429e-b000-f62090ae0ef2",
   "metadata": {},
   "outputs": [
    {
     "data": {
      "text/html": [
       "<style>#sk-container-id-23 {\n",
       "  /* Definition of color scheme common for light and dark mode */\n",
       "  --sklearn-color-text: black;\n",
       "  --sklearn-color-line: gray;\n",
       "  /* Definition of color scheme for unfitted estimators */\n",
       "  --sklearn-color-unfitted-level-0: #fff5e6;\n",
       "  --sklearn-color-unfitted-level-1: #f6e4d2;\n",
       "  --sklearn-color-unfitted-level-2: #ffe0b3;\n",
       "  --sklearn-color-unfitted-level-3: chocolate;\n",
       "  /* Definition of color scheme for fitted estimators */\n",
       "  --sklearn-color-fitted-level-0: #f0f8ff;\n",
       "  --sklearn-color-fitted-level-1: #d4ebff;\n",
       "  --sklearn-color-fitted-level-2: #b3dbfd;\n",
       "  --sklearn-color-fitted-level-3: cornflowerblue;\n",
       "\n",
       "  /* Specific color for light theme */\n",
       "  --sklearn-color-text-on-default-background: var(--sg-text-color, var(--theme-code-foreground, var(--jp-content-font-color1, black)));\n",
       "  --sklearn-color-background: var(--sg-background-color, var(--theme-background, var(--jp-layout-color0, white)));\n",
       "  --sklearn-color-border-box: var(--sg-text-color, var(--theme-code-foreground, var(--jp-content-font-color1, black)));\n",
       "  --sklearn-color-icon: #696969;\n",
       "\n",
       "  @media (prefers-color-scheme: dark) {\n",
       "    /* Redefinition of color scheme for dark theme */\n",
       "    --sklearn-color-text-on-default-background: var(--sg-text-color, var(--theme-code-foreground, var(--jp-content-font-color1, white)));\n",
       "    --sklearn-color-background: var(--sg-background-color, var(--theme-background, var(--jp-layout-color0, #111)));\n",
       "    --sklearn-color-border-box: var(--sg-text-color, var(--theme-code-foreground, var(--jp-content-font-color1, white)));\n",
       "    --sklearn-color-icon: #878787;\n",
       "  }\n",
       "}\n",
       "\n",
       "#sk-container-id-23 {\n",
       "  color: var(--sklearn-color-text);\n",
       "}\n",
       "\n",
       "#sk-container-id-23 pre {\n",
       "  padding: 0;\n",
       "}\n",
       "\n",
       "#sk-container-id-23 input.sk-hidden--visually {\n",
       "  border: 0;\n",
       "  clip: rect(1px 1px 1px 1px);\n",
       "  clip: rect(1px, 1px, 1px, 1px);\n",
       "  height: 1px;\n",
       "  margin: -1px;\n",
       "  overflow: hidden;\n",
       "  padding: 0;\n",
       "  position: absolute;\n",
       "  width: 1px;\n",
       "}\n",
       "\n",
       "#sk-container-id-23 div.sk-dashed-wrapped {\n",
       "  border: 1px dashed var(--sklearn-color-line);\n",
       "  margin: 0 0.4em 0.5em 0.4em;\n",
       "  box-sizing: border-box;\n",
       "  padding-bottom: 0.4em;\n",
       "  background-color: var(--sklearn-color-background);\n",
       "}\n",
       "\n",
       "#sk-container-id-23 div.sk-container {\n",
       "  /* jupyter's `normalize.less` sets `[hidden] { display: none; }`\n",
       "     but bootstrap.min.css set `[hidden] { display: none !important; }`\n",
       "     so we also need the `!important` here to be able to override the\n",
       "     default hidden behavior on the sphinx rendered scikit-learn.org.\n",
       "     See: https://github.com/scikit-learn/scikit-learn/issues/21755 */\n",
       "  display: inline-block !important;\n",
       "  position: relative;\n",
       "}\n",
       "\n",
       "#sk-container-id-23 div.sk-text-repr-fallback {\n",
       "  display: none;\n",
       "}\n",
       "\n",
       "div.sk-parallel-item,\n",
       "div.sk-serial,\n",
       "div.sk-item {\n",
       "  /* draw centered vertical line to link estimators */\n",
       "  background-image: linear-gradient(var(--sklearn-color-text-on-default-background), var(--sklearn-color-text-on-default-background));\n",
       "  background-size: 2px 100%;\n",
       "  background-repeat: no-repeat;\n",
       "  background-position: center center;\n",
       "}\n",
       "\n",
       "/* Parallel-specific style estimator block */\n",
       "\n",
       "#sk-container-id-23 div.sk-parallel-item::after {\n",
       "  content: \"\";\n",
       "  width: 100%;\n",
       "  border-bottom: 2px solid var(--sklearn-color-text-on-default-background);\n",
       "  flex-grow: 1;\n",
       "}\n",
       "\n",
       "#sk-container-id-23 div.sk-parallel {\n",
       "  display: flex;\n",
       "  align-items: stretch;\n",
       "  justify-content: center;\n",
       "  background-color: var(--sklearn-color-background);\n",
       "  position: relative;\n",
       "}\n",
       "\n",
       "#sk-container-id-23 div.sk-parallel-item {\n",
       "  display: flex;\n",
       "  flex-direction: column;\n",
       "}\n",
       "\n",
       "#sk-container-id-23 div.sk-parallel-item:first-child::after {\n",
       "  align-self: flex-end;\n",
       "  width: 50%;\n",
       "}\n",
       "\n",
       "#sk-container-id-23 div.sk-parallel-item:last-child::after {\n",
       "  align-self: flex-start;\n",
       "  width: 50%;\n",
       "}\n",
       "\n",
       "#sk-container-id-23 div.sk-parallel-item:only-child::after {\n",
       "  width: 0;\n",
       "}\n",
       "\n",
       "/* Serial-specific style estimator block */\n",
       "\n",
       "#sk-container-id-23 div.sk-serial {\n",
       "  display: flex;\n",
       "  flex-direction: column;\n",
       "  align-items: center;\n",
       "  background-color: var(--sklearn-color-background);\n",
       "  padding-right: 1em;\n",
       "  padding-left: 1em;\n",
       "}\n",
       "\n",
       "\n",
       "/* Toggleable style: style used for estimator/Pipeline/ColumnTransformer box that is\n",
       "clickable and can be expanded/collapsed.\n",
       "- Pipeline and ColumnTransformer use this feature and define the default style\n",
       "- Estimators will overwrite some part of the style using the `sk-estimator` class\n",
       "*/\n",
       "\n",
       "/* Pipeline and ColumnTransformer style (default) */\n",
       "\n",
       "#sk-container-id-23 div.sk-toggleable {\n",
       "  /* Default theme specific background. It is overwritten whether we have a\n",
       "  specific estimator or a Pipeline/ColumnTransformer */\n",
       "  background-color: var(--sklearn-color-background);\n",
       "}\n",
       "\n",
       "/* Toggleable label */\n",
       "#sk-container-id-23 label.sk-toggleable__label {\n",
       "  cursor: pointer;\n",
       "  display: block;\n",
       "  width: 100%;\n",
       "  margin-bottom: 0;\n",
       "  padding: 0.5em;\n",
       "  box-sizing: border-box;\n",
       "  text-align: center;\n",
       "}\n",
       "\n",
       "#sk-container-id-23 label.sk-toggleable__label-arrow:before {\n",
       "  /* Arrow on the left of the label */\n",
       "  content: \"▸\";\n",
       "  float: left;\n",
       "  margin-right: 0.25em;\n",
       "  color: var(--sklearn-color-icon);\n",
       "}\n",
       "\n",
       "#sk-container-id-23 label.sk-toggleable__label-arrow:hover:before {\n",
       "  color: var(--sklearn-color-text);\n",
       "}\n",
       "\n",
       "/* Toggleable content - dropdown */\n",
       "\n",
       "#sk-container-id-23 div.sk-toggleable__content {\n",
       "  max-height: 0;\n",
       "  max-width: 0;\n",
       "  overflow: hidden;\n",
       "  text-align: left;\n",
       "  /* unfitted */\n",
       "  background-color: var(--sklearn-color-unfitted-level-0);\n",
       "}\n",
       "\n",
       "#sk-container-id-23 div.sk-toggleable__content.fitted {\n",
       "  /* fitted */\n",
       "  background-color: var(--sklearn-color-fitted-level-0);\n",
       "}\n",
       "\n",
       "#sk-container-id-23 div.sk-toggleable__content pre {\n",
       "  margin: 0.2em;\n",
       "  border-radius: 0.25em;\n",
       "  color: var(--sklearn-color-text);\n",
       "  /* unfitted */\n",
       "  background-color: var(--sklearn-color-unfitted-level-0);\n",
       "}\n",
       "\n",
       "#sk-container-id-23 div.sk-toggleable__content.fitted pre {\n",
       "  /* unfitted */\n",
       "  background-color: var(--sklearn-color-fitted-level-0);\n",
       "}\n",
       "\n",
       "#sk-container-id-23 input.sk-toggleable__control:checked~div.sk-toggleable__content {\n",
       "  /* Expand drop-down */\n",
       "  max-height: 200px;\n",
       "  max-width: 100%;\n",
       "  overflow: auto;\n",
       "}\n",
       "\n",
       "#sk-container-id-23 input.sk-toggleable__control:checked~label.sk-toggleable__label-arrow:before {\n",
       "  content: \"▾\";\n",
       "}\n",
       "\n",
       "/* Pipeline/ColumnTransformer-specific style */\n",
       "\n",
       "#sk-container-id-23 div.sk-label input.sk-toggleable__control:checked~label.sk-toggleable__label {\n",
       "  color: var(--sklearn-color-text);\n",
       "  background-color: var(--sklearn-color-unfitted-level-2);\n",
       "}\n",
       "\n",
       "#sk-container-id-23 div.sk-label.fitted input.sk-toggleable__control:checked~label.sk-toggleable__label {\n",
       "  background-color: var(--sklearn-color-fitted-level-2);\n",
       "}\n",
       "\n",
       "/* Estimator-specific style */\n",
       "\n",
       "/* Colorize estimator box */\n",
       "#sk-container-id-23 div.sk-estimator input.sk-toggleable__control:checked~label.sk-toggleable__label {\n",
       "  /* unfitted */\n",
       "  background-color: var(--sklearn-color-unfitted-level-2);\n",
       "}\n",
       "\n",
       "#sk-container-id-23 div.sk-estimator.fitted input.sk-toggleable__control:checked~label.sk-toggleable__label {\n",
       "  /* fitted */\n",
       "  background-color: var(--sklearn-color-fitted-level-2);\n",
       "}\n",
       "\n",
       "#sk-container-id-23 div.sk-label label.sk-toggleable__label,\n",
       "#sk-container-id-23 div.sk-label label {\n",
       "  /* The background is the default theme color */\n",
       "  color: var(--sklearn-color-text-on-default-background);\n",
       "}\n",
       "\n",
       "/* On hover, darken the color of the background */\n",
       "#sk-container-id-23 div.sk-label:hover label.sk-toggleable__label {\n",
       "  color: var(--sklearn-color-text);\n",
       "  background-color: var(--sklearn-color-unfitted-level-2);\n",
       "}\n",
       "\n",
       "/* Label box, darken color on hover, fitted */\n",
       "#sk-container-id-23 div.sk-label.fitted:hover label.sk-toggleable__label.fitted {\n",
       "  color: var(--sklearn-color-text);\n",
       "  background-color: var(--sklearn-color-fitted-level-2);\n",
       "}\n",
       "\n",
       "/* Estimator label */\n",
       "\n",
       "#sk-container-id-23 div.sk-label label {\n",
       "  font-family: monospace;\n",
       "  font-weight: bold;\n",
       "  display: inline-block;\n",
       "  line-height: 1.2em;\n",
       "}\n",
       "\n",
       "#sk-container-id-23 div.sk-label-container {\n",
       "  text-align: center;\n",
       "}\n",
       "\n",
       "/* Estimator-specific */\n",
       "#sk-container-id-23 div.sk-estimator {\n",
       "  font-family: monospace;\n",
       "  border: 1px dotted var(--sklearn-color-border-box);\n",
       "  border-radius: 0.25em;\n",
       "  box-sizing: border-box;\n",
       "  margin-bottom: 0.5em;\n",
       "  /* unfitted */\n",
       "  background-color: var(--sklearn-color-unfitted-level-0);\n",
       "}\n",
       "\n",
       "#sk-container-id-23 div.sk-estimator.fitted {\n",
       "  /* fitted */\n",
       "  background-color: var(--sklearn-color-fitted-level-0);\n",
       "}\n",
       "\n",
       "/* on hover */\n",
       "#sk-container-id-23 div.sk-estimator:hover {\n",
       "  /* unfitted */\n",
       "  background-color: var(--sklearn-color-unfitted-level-2);\n",
       "}\n",
       "\n",
       "#sk-container-id-23 div.sk-estimator.fitted:hover {\n",
       "  /* fitted */\n",
       "  background-color: var(--sklearn-color-fitted-level-2);\n",
       "}\n",
       "\n",
       "/* Specification for estimator info (e.g. \"i\" and \"?\") */\n",
       "\n",
       "/* Common style for \"i\" and \"?\" */\n",
       "\n",
       ".sk-estimator-doc-link,\n",
       "a:link.sk-estimator-doc-link,\n",
       "a:visited.sk-estimator-doc-link {\n",
       "  float: right;\n",
       "  font-size: smaller;\n",
       "  line-height: 1em;\n",
       "  font-family: monospace;\n",
       "  background-color: var(--sklearn-color-background);\n",
       "  border-radius: 1em;\n",
       "  height: 1em;\n",
       "  width: 1em;\n",
       "  text-decoration: none !important;\n",
       "  margin-left: 1ex;\n",
       "  /* unfitted */\n",
       "  border: var(--sklearn-color-unfitted-level-1) 1pt solid;\n",
       "  color: var(--sklearn-color-unfitted-level-1);\n",
       "}\n",
       "\n",
       ".sk-estimator-doc-link.fitted,\n",
       "a:link.sk-estimator-doc-link.fitted,\n",
       "a:visited.sk-estimator-doc-link.fitted {\n",
       "  /* fitted */\n",
       "  border: var(--sklearn-color-fitted-level-1) 1pt solid;\n",
       "  color: var(--sklearn-color-fitted-level-1);\n",
       "}\n",
       "\n",
       "/* On hover */\n",
       "div.sk-estimator:hover .sk-estimator-doc-link:hover,\n",
       ".sk-estimator-doc-link:hover,\n",
       "div.sk-label-container:hover .sk-estimator-doc-link:hover,\n",
       ".sk-estimator-doc-link:hover {\n",
       "  /* unfitted */\n",
       "  background-color: var(--sklearn-color-unfitted-level-3);\n",
       "  color: var(--sklearn-color-background);\n",
       "  text-decoration: none;\n",
       "}\n",
       "\n",
       "div.sk-estimator.fitted:hover .sk-estimator-doc-link.fitted:hover,\n",
       ".sk-estimator-doc-link.fitted:hover,\n",
       "div.sk-label-container:hover .sk-estimator-doc-link.fitted:hover,\n",
       ".sk-estimator-doc-link.fitted:hover {\n",
       "  /* fitted */\n",
       "  background-color: var(--sklearn-color-fitted-level-3);\n",
       "  color: var(--sklearn-color-background);\n",
       "  text-decoration: none;\n",
       "}\n",
       "\n",
       "/* Span, style for the box shown on hovering the info icon */\n",
       ".sk-estimator-doc-link span {\n",
       "  display: none;\n",
       "  z-index: 9999;\n",
       "  position: relative;\n",
       "  font-weight: normal;\n",
       "  right: .2ex;\n",
       "  padding: .5ex;\n",
       "  margin: .5ex;\n",
       "  width: min-content;\n",
       "  min-width: 20ex;\n",
       "  max-width: 50ex;\n",
       "  color: var(--sklearn-color-text);\n",
       "  box-shadow: 2pt 2pt 4pt #999;\n",
       "  /* unfitted */\n",
       "  background: var(--sklearn-color-unfitted-level-0);\n",
       "  border: .5pt solid var(--sklearn-color-unfitted-level-3);\n",
       "}\n",
       "\n",
       ".sk-estimator-doc-link.fitted span {\n",
       "  /* fitted */\n",
       "  background: var(--sklearn-color-fitted-level-0);\n",
       "  border: var(--sklearn-color-fitted-level-3);\n",
       "}\n",
       "\n",
       ".sk-estimator-doc-link:hover span {\n",
       "  display: block;\n",
       "}\n",
       "\n",
       "/* \"?\"-specific style due to the `<a>` HTML tag */\n",
       "\n",
       "#sk-container-id-23 a.estimator_doc_link {\n",
       "  float: right;\n",
       "  font-size: 1rem;\n",
       "  line-height: 1em;\n",
       "  font-family: monospace;\n",
       "  background-color: var(--sklearn-color-background);\n",
       "  border-radius: 1rem;\n",
       "  height: 1rem;\n",
       "  width: 1rem;\n",
       "  text-decoration: none;\n",
       "  /* unfitted */\n",
       "  color: var(--sklearn-color-unfitted-level-1);\n",
       "  border: var(--sklearn-color-unfitted-level-1) 1pt solid;\n",
       "}\n",
       "\n",
       "#sk-container-id-23 a.estimator_doc_link.fitted {\n",
       "  /* fitted */\n",
       "  border: var(--sklearn-color-fitted-level-1) 1pt solid;\n",
       "  color: var(--sklearn-color-fitted-level-1);\n",
       "}\n",
       "\n",
       "/* On hover */\n",
       "#sk-container-id-23 a.estimator_doc_link:hover {\n",
       "  /* unfitted */\n",
       "  background-color: var(--sklearn-color-unfitted-level-3);\n",
       "  color: var(--sklearn-color-background);\n",
       "  text-decoration: none;\n",
       "}\n",
       "\n",
       "#sk-container-id-23 a.estimator_doc_link.fitted:hover {\n",
       "  /* fitted */\n",
       "  background-color: var(--sklearn-color-fitted-level-3);\n",
       "}\n",
       "</style><div id=\"sk-container-id-23\" class=\"sk-top-container\"><div class=\"sk-text-repr-fallback\"><pre>KNeighborsRegressor(n_neighbors=8)</pre><b>In a Jupyter environment, please rerun this cell to show the HTML representation or trust the notebook. <br />On GitHub, the HTML representation is unable to render, please try loading this page with nbviewer.org.</b></div><div class=\"sk-container\" hidden><div class=\"sk-item\"><div class=\"sk-estimator fitted sk-toggleable\"><input class=\"sk-toggleable__control sk-hidden--visually\" id=\"sk-estimator-id-23\" type=\"checkbox\" checked><label for=\"sk-estimator-id-23\" class=\"sk-toggleable__label fitted sk-toggleable__label-arrow fitted\">&nbsp;&nbsp;KNeighborsRegressor<a class=\"sk-estimator-doc-link fitted\" rel=\"noreferrer\" target=\"_blank\" href=\"https://scikit-learn.org/1.5/modules/generated/sklearn.neighbors.KNeighborsRegressor.html\">?<span>Documentation for KNeighborsRegressor</span></a><span class=\"sk-estimator-doc-link fitted\">i<span>Fitted</span></span></label><div class=\"sk-toggleable__content fitted\"><pre>KNeighborsRegressor(n_neighbors=8)</pre></div> </div></div></div></div>"
      ],
      "text/plain": [
       "KNeighborsRegressor(n_neighbors=8)"
      ]
     },
     "execution_count": 418,
     "metadata": {},
     "output_type": "execute_result"
    }
   ],
   "source": [
    "X, y = linnerud.data, linnerud.target[:, 0] \n",
    "X_train, X_test, y_train, y_test = train_test_split(X,y, random_state = 0)\n",
    "reg = KNeighborsRegressor(n_neighbors = 8)\n",
    "reg.fit(X_train, y_train)"
   ]
  },
  {
   "cell_type": "code",
   "execution_count": 419,
   "id": "e60df788-7f5e-46bc-bb2d-f6a997c4cee3",
   "metadata": {},
   "outputs": [
    {
     "name": "stdout",
     "output_type": "stream",
     "text": [
      "[173.5   186.    183.875 173.5   183.875]\n"
     ]
    }
   ],
   "source": [
    "print(format(reg.predict(X_test)))"
   ]
  },
  {
   "cell_type": "code",
   "execution_count": 420,
   "id": "8cc3dc02-da36-40fb-95ec-e670af5279ae",
   "metadata": {},
   "outputs": [
    {
     "name": "stdout",
     "output_type": "stream",
     "text": [
      "-0.7402585130160402\n"
     ]
    }
   ],
   "source": [
    "print(format(reg.score(X_test, y_test)))"
   ]
  },
  {
   "cell_type": "code",
   "execution_count": null,
   "id": "51849be8-2115-40a7-b802-cb90e674c549",
   "metadata": {},
   "outputs": [],
   "source": [
    "\n"
   ]
  },
  {
   "cell_type": "code",
   "execution_count": 421,
   "id": "a7e5f576-e5ad-4cfe-8dea-439baf6277d5",
   "metadata": {},
   "outputs": [
    {
     "name": "stdout",
     "output_type": "stream",
     "text": [
      "Точность на обучающем наборе: 0.44\n",
      "Точность на тестовом наборе: -2.32\n"
     ]
    }
   ],
   "source": [
    "\n",
    "X_train, X_test, y_train, y_test = train_test_split(X,y, random_state = 0)\n",
    "lr = LinearRegression().fit(X_train, y_train)\n",
    "print(\"Точность на обучающем наборе: {:.2f}\".format(lr.score(X_train, y_train)))\n",
    "print(\"Точность на тестовом наборе: {:.2f}\".format(lr.score(X_test, y_test)))"
   ]
  },
  {
   "cell_type": "code",
   "execution_count": 422,
   "id": "21b7495e-5adc-49b9-9116-1ba8176c2537",
   "metadata": {},
   "outputs": [
    {
     "name": "stdout",
     "output_type": "stream",
     "text": [
      "Точность на обучающем наборе: 0.44\n",
      "Точность на тестовом наборе: -2.30\n"
     ]
    }
   ],
   "source": [
    "from sklearn.linear_model import Ridge\n",
    "ridge = Ridge().fit(X_train, y_train)\n",
    "print(\"Точность на обучающем наборе: {:.2f}\".format(ridge.score(X_train, y_train)))\n",
    "print(\"Точность на тестовом наборе: {:.2f}\".format(ridge.score(X_test, y_test)))"
   ]
  },
  {
   "cell_type": "code",
   "execution_count": 423,
   "id": "aaa389e8-1e66-4d86-911d-513e68a0d3c4",
   "metadata": {},
   "outputs": [
    {
     "name": "stdout",
     "output_type": "stream",
     "text": [
      "Точность на обучающем наборе: 0.44\n",
      "Точность на тестовом наборе: -2.32\n"
     ]
    }
   ],
   "source": [
    "from sklearn.linear_model import Ridge\n",
    "ridge = Ridge(alpha = 0.000001).fit(X_train, y_train)\n",
    "print(\"Точность на обучающем наборе: {:.2f}\".format(ridge.score(X_train, y_train)))\n",
    "print(\"Точность на тестовом наборе: {:.2f}\".format(ridge.score(X_test, y_test)))"
   ]
  },
  {
   "cell_type": "code",
   "execution_count": 424,
   "id": "142ebeab-8064-4a7c-90a9-a58f89b72c6e",
   "metadata": {},
   "outputs": [
    {
     "name": "stdout",
     "output_type": "stream",
     "text": [
      "Точность на обучающем наборе: 0.44\n",
      "Точность на тестовом наборе: -2.32\n"
     ]
    }
   ],
   "source": [
    "from sklearn.linear_model import Ridge\n",
    "ridge01 = Ridge(alpha = 0.01).fit(X_train, y_train)\n",
    "print(\"Точность на обучающем наборе: {:.2f}\".format(ridge01.score(X_train, y_train)))\n",
    "print(\"Точность на тестовом наборе: {:.2f}\".format(ridge01.score(X_test, y_test)))"
   ]
  },
  {
   "cell_type": "code",
   "execution_count": 425,
   "id": "fd26d8b7-49b0-4fba-a470-bfa588cb83d7",
   "metadata": {},
   "outputs": [
    {
     "name": "stdout",
     "output_type": "stream",
     "text": [
      "Точность на обучающем наборе: 0.44\n",
      "Точность на тестовом наборе: -2.30\n"
     ]
    }
   ],
   "source": [
    "from sklearn.linear_model import Ridge\n",
    "ridge = Ridge(alpha = 1).fit(X_train, y_train)\n",
    "print(\"Точность на обучающем наборе: {:.2f}\".format(ridge.score(X_train, y_train)))\n",
    "print(\"Точность на тестовом наборе: {:.2f}\".format(ridge.score(X_test, y_test)))"
   ]
  },
  {
   "cell_type": "code",
   "execution_count": 426,
   "id": "f594dad8-7779-4fe7-bc4e-53a3bcd56cd6",
   "metadata": {},
   "outputs": [
    {
     "name": "stdout",
     "output_type": "stream",
     "text": [
      "Точность на обучающем наборе: 0.42\n",
      "Точность на тестовом наборе: -1.50\n"
     ]
    }
   ],
   "source": [
    "from sklearn.linear_model import Ridge\n",
    "ridge100 = Ridge(alpha = 100).fit(X_train, y_train)\n",
    "print(\"Точность на обучающем наборе: {:.2f}\".format(ridge100.score(X_train, y_train)))\n",
    "print(\"Точность на тестовом наборе: {:.2f}\".format(ridge100.score(X_test, y_test)))"
   ]
  },
  {
   "cell_type": "code",
   "execution_count": 427,
   "id": "ed96177a-b867-4aa0-b78a-30f3a3acbc08",
   "metadata": {},
   "outputs": [
    {
     "name": "stdout",
     "output_type": "stream",
     "text": [
      "Точность на обучающем наборе: 0.44\n",
      "Точность на тестовом наборе: -2.30\n"
     ]
    }
   ],
   "source": [
    "from sklearn.linear_model import Ridge\n",
    "ridge = Ridge().fit(X_train, y_train)\n",
    "print(\"Точность на обучающем наборе: {:.2f}\".format(ridge.score(X_train, y_train)))\n",
    "print(\"Точность на тестовом наборе: {:.2f}\".format(ridge.score(X_test, y_test)))"
   ]
  },
  {
   "cell_type": "code",
   "execution_count": 428,
   "id": "121afb93-7e75-4dc8-b407-d0a8f0c80666",
   "metadata": {},
   "outputs": [
    {
     "data": {
      "image/png": "[encoded data removed]",
      "text/plain": [
       "<Figure size 640x480 with 1 Axes>"
      ]
     },
     "metadata": {},
     "output_type": "display_data"
    }
   ],
   "source": [
    "plt.plot(ridge100.coef_, 's', label=\"Гребневая регрессия alpha=100\")\n",
    "plt.plot(ridge.coef_, '^', label=\"Гребневая регрессия alpha=1\")  \n",
    "plt.plot(ridge01.coef_, 'v', label=\"Гребневая регрессия alpha=0.1\")\n",
    "plt.plot(lr.coef_, 'o', label=\"Линейная регрессия\")\n",
    "\n",
    "plt.xlabel(\"Индекс коэффициента\")\n",
    "plt.ylabel(\"Оценка коэффициента\")\n",
    "plt.hlines(0, 0, len(lr.coef_))\n",
    "plt.ylim(-25, 25)\n",
    "plt.legend()\n",
    "plt.show()"
   ]
  },
  {
   "cell_type": "code",
   "execution_count": 429,
   "id": "aef88ac9-8e78-4a3c-b834-d52582793cfb",
   "metadata": {},
   "outputs": [
    {
     "name": "stdout",
     "output_type": "stream",
     "text": [
      "Точность на обучающем наборе: 0.44\n",
      "Точность на тестовом наборе: -2.32\n",
      "Количество использованных признаков: 3\n"
     ]
    }
   ],
   "source": [
    "lasso = Lasso(alpha = 0.01, max_iter=1000 ).fit(X_train, y_train)\n",
    "print(\"Точность на обучающем наборе: {:.2f}\".format(lasso.score(X_train, y_train)))\n",
    "print(\"Точность на тестовом наборе: {:.2f}\".format(lasso.score(X_test, y_test)))\n",
    "print(\"Количество использованных признаков: {}\".format(np.sum(lasso.coef_ !=0)))"
   ]
  },
  {
   "cell_type": "code",
   "execution_count": 430,
   "id": "cde25283-d2d6-4c09-97a1-9c0918c84946",
   "metadata": {},
   "outputs": [
    {
     "name": "stdout",
     "output_type": "stream",
     "text": [
      "Точность на обучающем наборе: 0.44\n",
      "Точность на тестовом наборе: -2.32\n",
      "Количество использованных признаков: 3\n"
     ]
    }
   ],
   "source": [
    "from sklearn.linear_model import Lasso\n",
    "lasso0001 = Lasso(alpha = 0.0001, max_iter=1000 ).fit(X_train, y_train)\n",
    "print(\"Точность на обучающем наборе: {:.2f}\".format(lasso0001.score(X_train, y_train)))\n",
    "print(\"Точность на тестовом наборе: {:.2f}\".format(lasso0001.score(X_test, y_test)))\n",
    "print(\"Количество использованных признаков: {}\".format(np.sum(lasso0001.coef_ !=0)))"
   ]
  },
  {
   "cell_type": "code",
   "execution_count": 431,
   "id": "67fd61f5-3c26-4a1c-94e0-e87306f15f5a",
   "metadata": {},
   "outputs": [
    {
     "name": "stdout",
     "output_type": "stream",
     "text": [
      "Точность на обучающем наборе: 0.44\n",
      "Точность на тестовом наборе: -2.20\n",
      "Количество использованных признаков: 3\n"
     ]
    }
   ],
   "source": [
    "lasso = Lasso(max_iter=1000 ).fit(X_train, y_train)\n",
    "print(\"Точность на обучающем наборе: {:.2f}\".format(lasso.score(X_train, y_train)))\n",
    "print(\"Точность на тестовом наборе: {:.2f}\".format(lasso.score(X_test, y_test)))\n",
    "print(\"Количество использованных признаков: {}\".format(np.sum(lasso.coef_ !=0)))"
   ]
  },
  {
   "cell_type": "code",
   "execution_count": 432,
   "id": "2bcf9bed-3e36-4a39-9ea4-eb596db3b2d4",
   "metadata": {},
   "outputs": [
    {
     "name": "stdout",
     "output_type": "stream",
     "text": [
      "Точность на обучающем наборе: 0.34\n",
      "Точность на тестовом наборе: -1.05\n",
      "Количество использованных признаков: 1\n"
     ]
    }
   ],
   "source": [
    "from sklearn.linear_model import Lasso\n",
    "lasso100 = Lasso(alpha = 100, max_iter=1000 ).fit(X_train, y_train)\n",
    "print(\"Точность на обучающем наборе: {:.2f}\".format(lasso100.score(X_train, y_train)))\n",
    "print(\"Точность на тестовом наборе: {:.2f}\".format(lasso100.score(X_test, y_test)))\n",
    "print(\"Количество использованных признаков: {}\".format(np.sum(lasso100.coef_ !=0)))"
   ]
  },
  {
   "cell_type": "code",
   "execution_count": 433,
   "id": "bab2045a-0359-4522-938e-22ada5dc28f3",
   "metadata": {},
   "outputs": [
    {
     "data": {
      "image/png": "[encoded data removed]",
      "text/plain": [
       "<Figure size 640x480 with 1 Axes>"
      ]
     },
     "metadata": {},
     "output_type": "display_data"
    }
   ],
   "source": [
    "\n",
    "plt.plot(lasso.coef_, 's', label='Лассо alpha=1', color='blue')\n",
    "plt.plot(lasso100.coef_, '^', label='Лассо alpha=100', color='green')\n",
    "plt.plot(lasso00001.coef_, 'v', label='Лассо alpha=0.00001', color='red')\n",
    "plt.plot(ridge100.coef_, 'o', label='Гребневая реграссия alpha=100', color='orange')\n",
    "\n",
    "plt.title(\"Сравнение коэффициентов регрессии Lasso и Ridge\")\n",
    "plt.legend(loc='upper right')\n",
    "plt.grid(True)\n",
    "plt.xlabel(\"Индекс коэффициента\")\n",
    "plt.ylabel(\"Значение коэффициента\")\n",
    "plt.ylim(-25, 25)\n",
    "\n",
    "\n",
    "plt.show()"
   ]
  },
  {
   "cell_type": "code",
   "execution_count": 434,
   "id": "54b44e27-e205-4e34-ac01-3fe5e1d75612",
   "metadata": {},
   "outputs": [
    {
     "name": "stdout",
     "output_type": "stream",
     "text": [
      "Правильность на обучающем наборе: 0.933\n",
      "Правильность на тестовом наборе: 0.000\n"
     ]
    },
    {
     "name": "stderr",
     "output_type": "stream",
     "text": [
      "C:\\Users\\User\\PycharmProjects\\pythonProject\\.venv\\Lib\\site-packages\\sklearn\\linear_model\\_logistic.py:469: ConvergenceWarning: lbfgs failed to converge (status=1):\n",
      "STOP: TOTAL NO. of ITERATIONS REACHED LIMIT.\n",
      "\n",
      "Increase the number of iterations (max_iter) or scale the data as shown in:\n",
      "    https://scikit-learn.org/stable/modules/preprocessing.html\n",
      "Please also refer to the documentation for alternative solver options:\n",
      "    https://scikit-learn.org/stable/modules/linear_model.html#logistic-regression\n",
      "  n_iter_i = _check_optimize_result(\n"
     ]
    }
   ],
   "source": [
    "from sklearn.linear_model import LogisticRegression\n",
    "logreg = LogisticRegression(max_iter=500).fit(X_train, y_train)\n",
    "print(\"Правильность на обучающем наборе: {:.3f}\".format(logreg.score(X_train, y_train)))\n",
    "print(\"Правильность на тестовом наборе: {:.3f}\".format(logreg.score(X_test, y_test)))"
   ]
  },
  {
   "cell_type": "code",
   "execution_count": 435,
   "id": "4a4c0659-bde9-4dfa-983b-bcfb9fac3b06",
   "metadata": {},
   "outputs": [
    {
     "name": "stdout",
     "output_type": "stream",
     "text": [
      "Правильность на обучающем наборе: 0.533\n",
      "Правильность на тестовом наборе: 0.000\n"
     ]
    },
    {
     "name": "stderr",
     "output_type": "stream",
     "text": [
      "C:\\Users\\User\\PycharmProjects\\pythonProject\\.venv\\Lib\\site-packages\\sklearn\\linear_model\\_logistic.py:469: ConvergenceWarning: lbfgs failed to converge (status=1):\n",
      "STOP: TOTAL NO. of ITERATIONS REACHED LIMIT.\n",
      "\n",
      "Increase the number of iterations (max_iter) or scale the data as shown in:\n",
      "    https://scikit-learn.org/stable/modules/preprocessing.html\n",
      "Please also refer to the documentation for alternative solver options:\n",
      "    https://scikit-learn.org/stable/modules/linear_model.html#logistic-regression\n",
      "  n_iter_i = _check_optimize_result(\n"
     ]
    }
   ],
   "source": [
    "from sklearn.linear_model import LogisticRegression\n",
    "logreg = LogisticRegression(C=0.01).fit(X_train, y_train)\n",
    "print(\"Правильность на обучающем наборе: {:.3f}\".format(logreg.score(X_train, y_train)))\n",
    "print(\"Правильность на тестовом наборе: {:.3f}\".format(logreg.score(X_test, y_test)))"
   ]
  },
  {
   "cell_type": "code",
   "execution_count": 436,
   "id": "76f2ceb2-daaf-4776-812e-93af34469298",
   "metadata": {},
   "outputs": [
    {
     "name": "stdout",
     "output_type": "stream",
     "text": [
      "Правильность на обучающем наборе: 0.867\n",
      "Правильность на тестовом наборе: 0.000\n"
     ]
    },
    {
     "name": "stderr",
     "output_type": "stream",
     "text": [
      "C:\\Users\\User\\PycharmProjects\\pythonProject\\.venv\\Lib\\site-packages\\sklearn\\linear_model\\_logistic.py:469: ConvergenceWarning: lbfgs failed to converge (status=1):\n",
      "STOP: TOTAL NO. of ITERATIONS REACHED LIMIT.\n",
      "\n",
      "Increase the number of iterations (max_iter) or scale the data as shown in:\n",
      "    https://scikit-learn.org/stable/modules/preprocessing.html\n",
      "Please also refer to the documentation for alternative solver options:\n",
      "    https://scikit-learn.org/stable/modules/linear_model.html#logistic-regression\n",
      "  n_iter_i = _check_optimize_result(\n"
     ]
    }
   ],
   "source": [
    "from sklearn.linear_model import LogisticRegression\n",
    "logreg = LogisticRegression(C=10).fit(X_train, y_train)\n",
    "print(\"Правильность на обучающем наборе: {:.3f}\".format(logreg.score(X_train, y_train)))\n",
    "print(\"Правильность на тестовом наборе: {:.3f}\".format(logreg.score(X_test, y_test)))"
   ]
  },
  {
   "cell_type": "code",
   "execution_count": 437,
   "id": "e3db366e-4d90-4874-b124-8a5a2a2c54d5",
   "metadata": {},
   "outputs": [
    {
     "name": "stdout",
     "output_type": "stream",
     "text": [
      "Правильность на обучающем наборе: 0.933\n",
      "Правильность на тестовом наборе: 0.000\n"
     ]
    },
    {
     "name": "stderr",
     "output_type": "stream",
     "text": [
      "C:\\Users\\User\\PycharmProjects\\pythonProject\\.venv\\Lib\\site-packages\\sklearn\\linear_model\\_logistic.py:469: ConvergenceWarning: lbfgs failed to converge (status=1):\n",
      "STOP: TOTAL NO. of ITERATIONS REACHED LIMIT.\n",
      "\n",
      "Increase the number of iterations (max_iter) or scale the data as shown in:\n",
      "    https://scikit-learn.org/stable/modules/preprocessing.html\n",
      "Please also refer to the documentation for alternative solver options:\n",
      "    https://scikit-learn.org/stable/modules/linear_model.html#logistic-regression\n",
      "  n_iter_i = _check_optimize_result(\n"
     ]
    }
   ],
   "source": [
    "from sklearn.linear_model import LogisticRegression\n",
    "logreg = LogisticRegression(C=100).fit(X_train, y_train)\n",
    "print(\"Правильность на обучающем наборе: {:.3f}\".format(logreg.score(X_train, y_train)))\n",
    "print(\"Правильность на тестовом наборе: {:.3f}\".format(logreg.score(X_test, y_test)))"
   ]
  },
  {
   "cell_type": "markdown",
   "id": "717ca6c4-2685-4a64-816b-390360961d7d",
   "metadata": {},
   "source": [
    "Обратно ошибка говорит о том, что для использования логистической регресси нужно иметь классификацию, поэтому давайте разобьем вес на две категории\n",
    "по среднему значению \n"
   ]
  },
  {
   "cell_type": "code",
   "execution_count": null,
   "id": "e6e2346c-88e2-4dcc-9c4c-d27394fb8b99",
   "metadata": {},
   "outputs": [],
   "source": []
  },
  {
   "cell_type": "code",
   "execution_count": 438,
   "id": "e93f7edb-8116-403f-8a50-0316ce159c6c",
   "metadata": {},
   "outputs": [
    {
     "name": "stdout",
     "output_type": "stream",
     "text": [
      "Правильность на обучающем наборе (linnerud): 0.733\n",
      "Правильность на тестовом наборе (linnerud): 0.400\n"
     ]
    }
   ],
   "source": [
    "from sklearn.preprocessing import Binarizer\n",
    "\n",
    "mean_threshold = np.mean(linnerud.target[:, 0])\n",
    "\n",
    "\n",
    "binarizer = Binarizer(threshold=mean_threshold)\n",
    "y_linnerud_binary = binarizer.fit_transform(linnerud.target[:, 0].reshape(-1, 1)).ravel()\n",
    "\n",
    "X_train, X_test, y_train, y_test = train_test_split(\n",
    "    linnerud.data, y_linnerud_binary, random_state=42\n",
    ")\n",
    "logreg = LogisticRegression().fit(X_train, y_train)\n",
    "\n",
    "print(\"Правильность на обучающем наборе (linnerud): {:.3f}\".format(logreg_linnerud.score(X_train, y_train)))\n",
    "print(\"Правильность на тестовом наборе (linnerud): {:.3f}\".format(logreg_linnerud.score(X_test, y_test)))"
   ]
  },
  {
   "cell_type": "code",
   "execution_count": 439,
   "id": "2b4453f3-2271-4aac-a4fd-304dde0447cd",
   "metadata": {},
   "outputs": [
    {
     "name": "stdout",
     "output_type": "stream",
     "text": [
      "Правильность на обучающем наборе (linnerud): 0.733\n",
      "Правильность на тестовом наборе (linnerud): 0.400\n"
     ]
    }
   ],
   "source": [
    "logreg = LogisticRegression(C=0.001).fit(X_train, y_train)\n",
    "\n",
    "print(\"Правильность на обучающем наборе (linnerud): {:.3f}\".format(logreg_linnerud.score(X_train, y_train)))\n",
    "print(\"Правильность на тестовом наборе (linnerud): {:.3f}\".format(logreg_linnerud.score(X_test, y_test)))\n",
    "\n"
   ]
  },
  {
   "cell_type": "code",
   "execution_count": 440,
   "id": "b1f792ad-128a-4741-8cb4-c4d3f9c488f7",
   "metadata": {},
   "outputs": [
    {
     "name": "stdout",
     "output_type": "stream",
     "text": [
      "Правильность на обучающем наборе (linnerud): 0.733\n",
      "Правильность на тестовом наборе (linnerud): 0.400\n"
     ]
    }
   ],
   "source": [
    "logreg01 = LogisticRegression(C=0.01).fit(X_train, y_train)\n",
    "\n",
    "print(\"Правильность на обучающем наборе (linnerud): {:.3f}\".format(logreg01.score(X_train, y_train)))\n",
    "print(\"Правильность на тестовом наборе (linnerud): {:.3f}\".format(logreg01.score(X_test, y_test)))\n"
   ]
  },
  {
   "cell_type": "code",
   "execution_count": 441,
   "id": "98ee405a-f9a6-485c-b105-cb67747aef83",
   "metadata": {},
   "outputs": [
    {
     "name": "stdout",
     "output_type": "stream",
     "text": [
      "Правильность на обучающем наборе (linnerud): 0.733\n",
      "Правильность на тестовом наборе (linnerud): 0.400\n"
     ]
    }
   ],
   "source": [
    "logreg= LogisticRegression(C=0.1).fit(X_train, y_train)\n",
    "\n",
    "print(\"Правильность на обучающем наборе (linnerud): {:.3f}\".format(logreg_linnerud.score(X_train, y_train)))\n",
    "print(\"Правильность на тестовом наборе (linnerud): {:.3f}\".format(logreg_linnerud.score(X_test, y_test)))\n"
   ]
  },
  {
   "cell_type": "code",
   "execution_count": 442,
   "id": "06d8724a-309f-4594-bb8b-637a4ba0b195",
   "metadata": {},
   "outputs": [
    {
     "name": "stdout",
     "output_type": "stream",
     "text": [
      "Правильность на обучающем наборе (linnerud): 0.733\n",
      "Правильность на тестовом наборе (linnerud): 0.400\n"
     ]
    }
   ],
   "source": [
    "logreg10= LogisticRegression(C=10).fit(X_train, y_train)\n",
    "\n",
    "print(\"Правильность на обучающем наборе (linnerud): {:.3f}\".format(logreg10.score(X_train, y_train)))\n",
    "print(\"Правильность на тестовом наборе (linnerud): {:.3f}\".format(logreg10.score(X_test, y_test)))\n"
   ]
  },
  {
   "cell_type": "code",
   "execution_count": 443,
   "id": "51fec9d6-b989-4d42-ab23-cc16a23a7da4",
   "metadata": {},
   "outputs": [
    {
     "name": "stdout",
     "output_type": "stream",
     "text": [
      "Правильность на обучающем наборе (linnerud): 0.733\n",
      "Правильность на тестовом наборе (linnerud): 0.400\n"
     ]
    }
   ],
   "source": [
    "logreg1000000000 = LogisticRegression(C=1000000000, max_iter=100000).fit(X_train, y_train)\n",
    "\n",
    "print(\"Правильность на обучающем наборе (linnerud): {:.3f}\".format(logreg1000000000.score(X_train, y_train)))\n",
    "print(\"Правильность на тестовом наборе (linnerud): {:.3f}\".format(logreg1000000000.score(X_test, y_test)))\n"
   ]
  },
  {
   "cell_type": "code",
   "execution_count": 444,
   "id": "3462ffb7-6707-48d4-95ec-36d5dd42d020",
   "metadata": {},
   "outputs": [
    {
     "data": {
      "image/png": "[encoded data removed]",
      "text/plain": [
       "<Figure size 640x480 with 1 Axes>"
      ]
     },
     "metadata": {},
     "output_type": "display_data"
    }
   ],
   "source": [
    "plt.plot(logreg1000000000.coef_.T, 'o', label='C=1000000000')\n",
    "plt.plot(logreg10.coef_.T, '^', label='C=10')\n",
    "plt.plot(logreg01.coef_.T, 'v', label='C=0.001')\n",
    "\n",
    "plt.xticks(range(linnerud.data.shape[1]), linnerud.feature_names, rotation=90)\n",
    "plt.hlines(0, 0, linnerud.data.shape[1])\n",
    "plt.ylim(-5, 5)\n",
    "\n",
    "plt.xlabel(\"Индекс\")\n",
    "plt.ylabel(\"Оценка коэффициента\")\n",
    "plt.legend()\n",
    "\n",
    "plt.show()"
   ]
  },
  {
   "cell_type": "markdown",
   "id": "0d19345c-cfee-4b65-8b04-7c503903a0a1",
   "metadata": {},
   "source": [
    "Как мы видим датасет load_linnerud крайне не поодходит к изучение регрессии, по сколько ни один из вариантов регрессии не дает даже минимальную положительную правильность на тестовом наборе, не имеет смысла сравнивать между собой регрессии, а также говорить об идеальных коэфициентах для какого-либо вида регрессии, по сколько все они не имеют никакой точности. Единственное что в ходе выполнения логистической регресии я столкнулся с ошибкой, как оказалось target представлен массивом с тремя столбцами, поэтому я решил делать предсказания только по первому стобцу, но даже так показания не изменились сильно, отрицательная правильность показывает, что предсказания хуже, чем просто среднее значение целевого признака. \n",
    "Что касается логистической регрессии, то здесь результа ты лучше, после разделения на два класса первой колонки, появилась хотя бы маленькая точность определения принадлежности к первому или второму классу(больше или меньше среднего значения), причем если увеличить параметр C до больших значений правильность как на обучающем так и на тетовом наборе достигнет даже 0.77 что довольно неплохо"
   ]
  },
  {
   "cell_type": "code",
   "execution_count": null,
   "id": "2233b40c-1943-4fbc-8cdf-e83b828d5c85",
   "metadata": {},
   "outputs": [],
   "source": [
    "\n"
   ]
  },
  {
   "cell_type": "code",
   "execution_count": null,
   "id": "50c41895-ea0a-4f40-a523-972eb18e11b5",
   "metadata": {},
   "outputs": [],
   "source": []
  },
  {
   "cell_type": "code",
   "execution_count": null,
   "id": "1a4f4115-257e-4b3e-8f0c-0d7dfb53020a",
   "metadata": {},
   "outputs": [],
   "source": []
  },
  {
   "cell_type": "code",
   "execution_count": null,
   "id": "6066887f-288a-4bd9-a664-e93870cf594c",
   "metadata": {},
   "outputs": [],
   "source": []
  }
 ],
 "metadata": {
  "kernelspec": {
   "display_name": "Python 3 (ipykernel)",
   "language": "python",
   "name": "python3"
  },
  "language_info": {
   "codemirror_mode": {
    "name": "ipython",
    "version": 3
   },
   "file_extension": ".py",
   "mimetype": "text/x-python",
   "name": "python",
   "nbconvert_exporter": "python",
   "pygments_lexer": "ipython3",
   "version": "3.12.3"
  }
 },
 "nbformat": 4,
 "nbformat_minor": 5
}
